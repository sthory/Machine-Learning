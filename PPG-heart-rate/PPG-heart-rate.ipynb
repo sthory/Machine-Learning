{
 "cells": [
  {
   "cell_type": "markdown",
   "id": "8cc5e568-b9f1-4850-9790-8cc248b07d2c",
   "metadata": {},
   "source": [
    "# HeartRate Challenge, Loka, inc"
   ]
  },
  {
   "cell_type": "markdown",
   "id": "9cf5ff08-7c34-430c-8767-17a652e70218",
   "metadata": {},
   "source": [
    "## 0. Libraries"
   ]
  },
  {
   "cell_type": "markdown",
   "id": "6fadfc72-a447-431a-92ee-cd25f80d7e10",
   "metadata": {
    "tags": []
   },
   "source": [
    "### 0.1 Import General libraries"
   ]
  },
  {
   "cell_type": "code",
   "execution_count": 1,
   "id": "6ff9e862-9012-4050-8524-5c0b41652be6",
   "metadata": {},
   "outputs": [
    {
     "name": "stdout",
     "output_type": "stream",
     "text": [
      "General libraries imported!\n"
     ]
    }
   ],
   "source": [
    "# General libraries\n",
    "import pandas as pd\n",
    "import glob\n",
    "import matplotlib.pyplot as plt\n",
    "import os\n",
    "import seaborn as sns\n",
    "import numpy as np\n",
    "\n",
    "import warnings\n",
    "warnings.filterwarnings('ignore')\n",
    "\n",
    "print(\"General libraries imported!\")"
   ]
  },
  {
   "cell_type": "markdown",
   "id": "e761ca94-1387-482c-8607-0a0cd43c6ed7",
   "metadata": {},
   "source": [
    "### 0.2 Import libraries of models"
   ]
  },
  {
   "cell_type": "code",
   "execution_count": 2,
   "id": "725b3c3f-e0d2-4c60-ae9e-ea013585ea9e",
   "metadata": {},
   "outputs": [
    {
     "name": "stdout",
     "output_type": "stream",
     "text": [
      "Algorithm packages imported!\n",
      "Preprocessing packages imported!\n",
      "Model selection packages imported!\n"
     ]
    }
   ],
   "source": [
    "# Algorithms use for modeling \n",
    "from sklearn.linear_model import ElasticNet, Lasso,  BayesianRidge, LassoLarsIC\n",
    "from sklearn.ensemble import RandomForestRegressor,  GradientBoostingRegressor\n",
    "from sklearn.metrics import mean_squared_error\n",
    "import xgboost as xgb\n",
    "print('Algorithm packages imported!')\n",
    "\n",
    "# Preprocessing\n",
    "from sklearn.feature_selection import SelectKBest\n",
    "from sklearn import preprocessing\n",
    "from sklearn.feature_selection import f_regression\n",
    "print('Preprocessing packages imported!')\n",
    "\n",
    "# Model selection packages used for sampling dataset and optimising parameters\n",
    "from sklearn.model_selection import cross_val_score, train_test_split\n",
    "from sklearn.model_selection import GridSearchCV\n",
    "from sklearn.model_selection import ShuffleSplit\n",
    "print('Model selection packages imported!')"
   ]
  },
  {
   "cell_type": "markdown",
   "id": "1c459ed9-b800-40d6-9b40-f9031ef6b3f4",
   "metadata": {},
   "source": [
    "## 1. Exploratory Data Analisys - EDA"
   ]
  },
  {
   "cell_type": "markdown",
   "id": "80d01d07-1fb0-44ca-bbc2-4b43bc7cf1a2",
   "metadata": {},
   "source": [
    "### 1.1 Load files"
   ]
  },
  {
   "cell_type": "code",
   "execution_count": 3,
   "id": "f82f77c5-c2fc-4760-bca4-942e4285a9f3",
   "metadata": {},
   "outputs": [],
   "source": [
    "df1 = pd.read_csv(\"./data\\P1H1\\P1H1.csv\")\n",
    "df2 = pd.read_csv(\"./data\\P1H1\\P1H1_ppg.csv\")"
   ]
  },
  {
   "cell_type": "code",
   "execution_count": 4,
   "id": "a9a96d47-b5bb-4c07-a514-941574a03d7f",
   "metadata": {},
   "outputs": [
    {
     "data": {
      "text/html": [
       "<div>\n",
       "<style scoped>\n",
       "    .dataframe tbody tr th:only-of-type {\n",
       "        vertical-align: middle;\n",
       "    }\n",
       "\n",
       "    .dataframe tbody tr th {\n",
       "        vertical-align: top;\n",
       "    }\n",
       "\n",
       "    .dataframe thead th {\n",
       "        text-align: right;\n",
       "    }\n",
       "</style>\n",
       "<table border=\"1\" class=\"dataframe\">\n",
       "  <thead>\n",
       "    <tr style=\"text-align: right;\">\n",
       "      <th></th>\n",
       "      <th>Time[ms]</th>\n",
       "      <th>HR[bpm]</th>\n",
       "    </tr>\n",
       "  </thead>\n",
       "  <tbody>\n",
       "    <tr>\n",
       "      <th>0</th>\n",
       "      <td>833</td>\n",
       "      <td>170.1492</td>\n",
       "    </tr>\n",
       "    <tr>\n",
       "      <th>1</th>\n",
       "      <td>867</td>\n",
       "      <td>171.0000</td>\n",
       "    </tr>\n",
       "    <tr>\n",
       "      <th>2</th>\n",
       "      <td>900</td>\n",
       "      <td>170.5263</td>\n",
       "    </tr>\n",
       "    <tr>\n",
       "      <th>3</th>\n",
       "      <td>933</td>\n",
       "      <td>170.5263</td>\n",
       "    </tr>\n",
       "    <tr>\n",
       "      <th>4</th>\n",
       "      <td>967</td>\n",
       "      <td>170.5263</td>\n",
       "    </tr>\n",
       "  </tbody>\n",
       "</table>\n",
       "</div>"
      ],
      "text/plain": [
       "   Time[ms]   HR[bpm]\n",
       "0       833  170.1492\n",
       "1       867  171.0000\n",
       "2       900  170.5263\n",
       "3       933  170.5263\n",
       "4       967  170.5263"
      ]
     },
     "execution_count": 4,
     "metadata": {},
     "output_type": "execute_result"
    }
   ],
   "source": [
    "df1.head()"
   ]
  },
  {
   "cell_type": "code",
   "execution_count": 5,
   "id": "df569485-5216-4f2a-ba60-78f25dd4c919",
   "metadata": {},
   "outputs": [
    {
     "data": {
      "text/html": [
       "<div>\n",
       "<style scoped>\n",
       "    .dataframe tbody tr th:only-of-type {\n",
       "        vertical-align: middle;\n",
       "    }\n",
       "\n",
       "    .dataframe tbody tr th {\n",
       "        vertical-align: top;\n",
       "    }\n",
       "\n",
       "    .dataframe thead th {\n",
       "        text-align: right;\n",
       "    }\n",
       "</style>\n",
       "<table border=\"1\" class=\"dataframe\">\n",
       "  <thead>\n",
       "    <tr style=\"text-align: right;\">\n",
       "      <th></th>\n",
       "      <th>B</th>\n",
       "      <th>G</th>\n",
       "      <th>R</th>\n",
       "      <th>Time[ms]</th>\n",
       "    </tr>\n",
       "  </thead>\n",
       "  <tbody>\n",
       "    <tr>\n",
       "      <th>0</th>\n",
       "      <td>118.694126</td>\n",
       "      <td>100.605920</td>\n",
       "      <td>85.949894</td>\n",
       "      <td>0.000000</td>\n",
       "    </tr>\n",
       "    <tr>\n",
       "      <th>1</th>\n",
       "      <td>118.694141</td>\n",
       "      <td>100.605874</td>\n",
       "      <td>85.949909</td>\n",
       "      <td>33.333333</td>\n",
       "    </tr>\n",
       "    <tr>\n",
       "      <th>2</th>\n",
       "      <td>118.518109</td>\n",
       "      <td>100.596327</td>\n",
       "      <td>85.680738</td>\n",
       "      <td>66.666667</td>\n",
       "    </tr>\n",
       "    <tr>\n",
       "      <th>3</th>\n",
       "      <td>118.874861</td>\n",
       "      <td>100.671079</td>\n",
       "      <td>85.932566</td>\n",
       "      <td>100.000000</td>\n",
       "    </tr>\n",
       "    <tr>\n",
       "      <th>4</th>\n",
       "      <td>118.908324</td>\n",
       "      <td>100.807634</td>\n",
       "      <td>85.924688</td>\n",
       "      <td>133.333333</td>\n",
       "    </tr>\n",
       "  </tbody>\n",
       "</table>\n",
       "</div>"
      ],
      "text/plain": [
       "            B           G          R    Time[ms]\n",
       "0  118.694126  100.605920  85.949894    0.000000\n",
       "1  118.694141  100.605874  85.949909   33.333333\n",
       "2  118.518109  100.596327  85.680738   66.666667\n",
       "3  118.874861  100.671079  85.932566  100.000000\n",
       "4  118.908324  100.807634  85.924688  133.333333"
      ]
     },
     "execution_count": 5,
     "metadata": {},
     "output_type": "execute_result"
    }
   ],
   "source": [
    "df2.head()"
   ]
  },
  {
   "cell_type": "code",
   "execution_count": 10,
   "id": "6af7239e-c8b3-4df2-a6dd-0a00ff281349",
   "metadata": {},
   "outputs": [
    {
     "data": {
      "image/png": "[encoded data removed]",
      "text/plain": [
       "<Figure size 432x288 with 1 Axes>"
      ]
     },
     "metadata": {
      "needs_background": "light"
     },
     "output_type": "display_data"
    }
   ],
   "source": [
    "\n",
    "df2.iloc[1000:1200].plot(x=\"Time[ms]\", y=\"G\")\n",
    "plt.show()"
   ]
  },
  {
   "cell_type": "markdown",
   "id": "251185c0-d547-46d1-94c2-0991fd02d124",
   "metadata": {},
   "source": [
    "Each oscillation corresponds to a beat, in this way by analyzing only the \"Green\" channel it would be possible to easily calculate the beats per minute but the \"challenge\" is to do it with Machine Learning"
   ]
  },
  {
   "cell_type": "markdown",
   "id": "02980911-b917-466f-af9a-413f232b4132",
   "metadata": {},
   "source": [
    "## Reasoning:\n",
    "\n",
    "As observed in the two dataframes, we have in both time series, the two time series must be joined in the timestamp column to be able to fulfill the task of estimating the heart rate from the RGB channels."
   ]
  },
  {
   "cell_type": "markdown",
   "id": "d5a7b068-0e16-4f21-b4cb-cd5bf35c303a",
   "metadata": {},
   "source": [
    "### 1.2 Preprocessing data\n",
    "\n",
    "Data Preprocessing includes the steps we need to follow to transform or encode data so that it may be easily parsed by the machine.   The main agenda for a model to be accurate and precise in predictions is that the algorithm should be able to easily interpret the data's features."
   ]
  },
  {
   "cell_type": "markdown",
   "id": "d250e635-e56d-4125-967d-9233860cba94",
   "metadata": {},
   "source": [
    "#### 1.2.1 Build the complete dataset"
   ]
  },
  {
   "cell_type": "code",
   "execution_count": 3,
   "id": "c19badf5-64a4-4a01-8a25-01393548d841",
   "metadata": {},
   "outputs": [],
   "source": [
    "def pre_process_data_1(folder, join_field):\n",
    "    \n",
    "    \"\"\"\n",
    "    function ->   pre_process_data_1    : join two Dataframes and return this one\n",
    "    \n",
    "    args     -> \n",
    "                  folder (string)       : Directory where the files are\n",
    "                  join_field (string)   : Field in order to join the two dataframes\n",
    "                \n",
    "    return   ->\n",
    "                  df (Pandas DataFrame) : DataFrame contains register joined (inner) from two DataFrames\n",
    "    \"\"\"\n",
    "    \n",
    "    try:\n",
    "    \n",
    "        file1 = \"\"\n",
    "        file2 = \"\"\n",
    "        flag = 0\n",
    "        df = pd.DataFrame()\n",
    "\n",
    "        for line1 in glob.glob(folder):\n",
    "            for line2 in glob.glob(line1+\"/*\"):\n",
    "                if flag == 0:\n",
    "                    file1 = line2\n",
    "                    flag = 1\n",
    "                else:\n",
    "                    file2 = line2\n",
    "                    flag = 0\n",
    "    \n",
    "            print(f\"Processing... {file1}\")\n",
    "            print(f\"Processing... {file2}\")\n",
    "            print(\"\\n\")\n",
    "    \n",
    "            df1 = pd.read_csv(file1)\n",
    "            df2 = pd.read_csv(file2)\n",
    "            df2[join_field] = df2[join_field].apply(round) \n",
    "            df = df.append(pd.merge(df1, df2, how='inner', on = join_field))\n",
    "        \n",
    "        return df  \n",
    "    \n",
    "    except:\n",
    "        \n",
    "        print(\"There is a problem running 'pre_process_data_1' function, please check it\")\n",
    "        return pd.DataFrame()"
   ]
  },
  {
   "cell_type": "code",
   "execution_count": 11,
   "id": "d1f365c0-c6a0-4af1-8300-5348c7402f1b",
   "metadata": {},
   "outputs": [
    {
     "name": "stdout",
     "output_type": "stream",
     "text": [
      "Processing... ./data\\P1H1\\P1H1.csv\n",
      "Processing... ./data\\P1H1\\P1H1_ppg.csv\n",
      "\n",
      "\n",
      "Processing... ./data\\P1LC1\\P1LC1.csv\n",
      "Processing... ./data\\P1LC1\\P1LC1_ppg.csv\n",
      "\n",
      "\n",
      "Processing... ./data\\P1LC2\\P1LC2.csv\n",
      "Processing... ./data\\P1LC2\\P1LC2_ppg.csv\n",
      "\n",
      "\n",
      "Processing... ./data\\P1LC3\\P1LC3.csv\n",
      "Processing... ./data\\P1LC3\\P1LC3_ppg.csv\n",
      "\n",
      "\n",
      "Processing... ./data\\P1LC4\\P1LC4.csv\n",
      "Processing... ./data\\P1LC4\\P1LC4_ppg.csv\n",
      "\n",
      "\n",
      "Processing... ./data\\P1LC5\\P1LC5.csv\n",
      "Processing... ./data\\P1LC5\\P1LC5_ppg.csv\n",
      "\n",
      "\n",
      "Processing... ./data\\P1LC6\\P1LC6.csv\n",
      "Processing... ./data\\P1LC6\\P1LC6_ppg.csv\n",
      "\n",
      "\n",
      "Processing... ./data\\P1LC7\\P1LC7.csv\n",
      "Processing... ./data\\P1LC7\\P1LC7_ppg.csv\n",
      "\n",
      "\n",
      "Processing... ./data\\P1M1\\P1M1.csv\n",
      "Processing... ./data\\P1M1\\P1M1_ppg.csv\n",
      "\n",
      "\n",
      "Processing... ./data\\P1M2\\P1M2.csv\n",
      "Processing... ./data\\P1M2\\P1M2_ppg.csv\n",
      "\n",
      "\n",
      "Processing... ./data\\P1M3\\P1M3.csv\n",
      "Processing... ./data\\P1M3\\P1M3_ppg.csv\n",
      "\n",
      "\n",
      "Processing... ./data\\P2LC1\\P2LC1.csv\n",
      "Processing... ./data\\P2LC1\\P2LC1_ppg.csv\n",
      "\n",
      "\n",
      "Processing... ./data\\P2LC2\\P2LC2.csv\n",
      "Processing... ./data\\P2LC2\\P2LC2_ppg.csv\n",
      "\n",
      "\n",
      "Processing... ./data\\P2LC3\\P2LC3.csv\n",
      "Processing... ./data\\P2LC3\\P2LC3_ppg.csv\n",
      "\n",
      "\n",
      "Processing... ./data\\P2LC4\\P2LC4.csv\n",
      "Processing... ./data\\P2LC4\\P2LC4_ppg.csv\n",
      "\n",
      "\n",
      "Processing... ./data\\P2LC5\\P2LC5.csv\n",
      "Processing... ./data\\P2LC5\\P2LC5_ppg.csv\n",
      "\n",
      "\n",
      "Processing... ./data\\P3LC2\\P3LC2.csv\n",
      "Processing... ./data\\P3LC2\\P3LC2_ppg.csv\n",
      "\n",
      "\n",
      "Processing... ./data\\P3LC3\\P3LC3.csv\n",
      "Processing... ./data\\P3LC3\\P3LC3_ppg.csv\n",
      "\n",
      "\n",
      "Processing... ./data\\P3LC4\\P3LC4.csv\n",
      "Processing... ./data\\P3LC4\\P3LC4_ppg.csv\n",
      "\n",
      "\n",
      "Processing... ./data\\P3LC5\\P3LC5.csv\n",
      "Processing... ./data\\P3LC5\\P3LC5_ppg.csv\n",
      "\n",
      "\n"
     ]
    }
   ],
   "source": [
    "df = pre_process_data_1(\"./data/P*\", \"Time[ms]\")"
   ]
  },
  {
   "cell_type": "markdown",
   "id": "45577d9b-f8ce-4ad5-be06-39702e44366d",
   "metadata": {},
   "source": [
    "We delete df1 and df2 in order to save memory"
   ]
  },
  {
   "cell_type": "code",
   "execution_count": 12,
   "id": "909bc23e-0200-4ca2-94dd-631a968b8e80",
   "metadata": {},
   "outputs": [],
   "source": [
    "# Delete df1 and df2\n",
    "del df1\n",
    "del df2"
   ]
  },
  {
   "cell_type": "code",
   "execution_count": 13,
   "id": "010af684-1b1f-48a4-a23e-00da9b311b05",
   "metadata": {},
   "outputs": [
    {
     "name": "stdout",
     "output_type": "stream",
     "text": [
      "Our Dataset has 112306 registers\n"
     ]
    }
   ],
   "source": [
    "print(f\"Our Dataset has {len(df)} registers\")"
   ]
  },
  {
   "cell_type": "code",
   "execution_count": 14,
   "id": "a8d654c7-172c-4006-ac37-75070dcbcf93",
   "metadata": {},
   "outputs": [
    {
     "data": {
      "text/html": [
       "<div>\n",
       "<style scoped>\n",
       "    .dataframe tbody tr th:only-of-type {\n",
       "        vertical-align: middle;\n",
       "    }\n",
       "\n",
       "    .dataframe tbody tr th {\n",
       "        vertical-align: top;\n",
       "    }\n",
       "\n",
       "    .dataframe thead th {\n",
       "        text-align: right;\n",
       "    }\n",
       "</style>\n",
       "<table border=\"1\" class=\"dataframe\">\n",
       "  <thead>\n",
       "    <tr style=\"text-align: right;\">\n",
       "      <th></th>\n",
       "      <th>Time[ms]</th>\n",
       "      <th>HR[bpm]</th>\n",
       "      <th>B</th>\n",
       "      <th>G</th>\n",
       "      <th>R</th>\n",
       "    </tr>\n",
       "  </thead>\n",
       "  <tbody>\n",
       "    <tr>\n",
       "      <th>0</th>\n",
       "      <td>833</td>\n",
       "      <td>170.1492</td>\n",
       "      <td>118.713464</td>\n",
       "      <td>100.516494</td>\n",
       "      <td>85.998388</td>\n",
       "    </tr>\n",
       "    <tr>\n",
       "      <th>1</th>\n",
       "      <td>867</td>\n",
       "      <td>171.0000</td>\n",
       "      <td>118.456966</td>\n",
       "      <td>100.447096</td>\n",
       "      <td>85.646363</td>\n",
       "    </tr>\n",
       "    <tr>\n",
       "      <th>2</th>\n",
       "      <td>900</td>\n",
       "      <td>170.5263</td>\n",
       "      <td>118.777442</td>\n",
       "      <td>100.306610</td>\n",
       "      <td>85.946232</td>\n",
       "    </tr>\n",
       "    <tr>\n",
       "      <th>3</th>\n",
       "      <td>933</td>\n",
       "      <td>170.5263</td>\n",
       "      <td>118.269341</td>\n",
       "      <td>100.038271</td>\n",
       "      <td>85.591496</td>\n",
       "    </tr>\n",
       "    <tr>\n",
       "      <th>4</th>\n",
       "      <td>967</td>\n",
       "      <td>170.5263</td>\n",
       "      <td>118.618421</td>\n",
       "      <td>100.034746</td>\n",
       "      <td>85.851989</td>\n",
       "    </tr>\n",
       "  </tbody>\n",
       "</table>\n",
       "</div>"
      ],
      "text/plain": [
       "   Time[ms]   HR[bpm]           B           G          R\n",
       "0       833  170.1492  118.713464  100.516494  85.998388\n",
       "1       867  171.0000  118.456966  100.447096  85.646363\n",
       "2       900  170.5263  118.777442  100.306610  85.946232\n",
       "3       933  170.5263  118.269341  100.038271  85.591496\n",
       "4       967  170.5263  118.618421  100.034746  85.851989"
      ]
     },
     "execution_count": 14,
     "metadata": {},
     "output_type": "execute_result"
    }
   ],
   "source": [
    "df.head()"
   ]
  },
  {
   "cell_type": "markdown",
   "id": "c7be0238-5d10-4f22-83bc-c30df014c401",
   "metadata": {},
   "source": [
    "#### 1.2.2 Handling null values\n",
    "\n",
    "The real-world data often has a lot of missing values. The cause of missing values can be data corruption or failure to record data. The handling of missing data is very important during the preprocessing of the dataset as many machine learning algorithms do not support missing values."
   ]
  },
  {
   "cell_type": "code",
   "execution_count": 15,
   "id": "a5d5a08f-d9e5-408d-a4f9-30175022d851",
   "metadata": {},
   "outputs": [
    {
     "name": "stdout",
     "output_type": "stream",
     "text": [
      "<class 'pandas.core.frame.DataFrame'>\n",
      "Int64Index: 112306 entries, 0 to 5379\n",
      "Data columns (total 5 columns):\n",
      " #   Column    Non-Null Count   Dtype  \n",
      "---  ------    --------------   -----  \n",
      " 0   Time[ms]  112306 non-null  int64  \n",
      " 1   HR[bpm]   112306 non-null  float64\n",
      " 2   B         112306 non-null  float64\n",
      " 3   G         112306 non-null  float64\n",
      " 4   R         112306 non-null  float64\n",
      "dtypes: float64(4), int64(1)\n",
      "memory usage: 5.1 MB\n"
     ]
    }
   ],
   "source": [
    "df.info()"
   ]
  },
  {
   "cell_type": "markdown",
   "id": "4afaa6c1-78c0-45a6-8581-596603dac481",
   "metadata": {},
   "source": [
    "#### There aren't null registers !!!"
   ]
  },
  {
   "cell_type": "markdown",
   "id": "0545a28d-c482-4b8e-8c00-b19bca3c818d",
   "metadata": {},
   "source": [
    "Now, drop \"Time[ms]\", We are not going to use it "
   ]
  },
  {
   "cell_type": "code",
   "execution_count": 16,
   "id": "c7d6c5d8-db15-45db-a600-f0b7e5e8fd93",
   "metadata": {},
   "outputs": [
    {
     "data": {
      "text/plain": [
       "0          833\n",
       "1          867\n",
       "2          900\n",
       "3          933\n",
       "4          967\n",
       "         ...  \n",
       "5375    180000\n",
       "5376    180033\n",
       "5377    180067\n",
       "5378    180100\n",
       "5379    180133\n",
       "Name: Time[ms], Length: 112306, dtype: int64"
      ]
     },
     "execution_count": 16,
     "metadata": {},
     "output_type": "execute_result"
    }
   ],
   "source": [
    "df.pop(\"Time[ms]\")"
   ]
  },
  {
   "cell_type": "markdown",
   "id": "a738552f-bba3-4867-b189-b7b6cb4be3f8",
   "metadata": {},
   "source": [
    "### Plot our Dataset"
   ]
  },
  {
   "cell_type": "code",
   "execution_count": 17,
   "id": "69776647-79ae-4978-9f93-0a602995c780",
   "metadata": {},
   "outputs": [
    {
     "data": {
      "text/plain": [
       "<AxesSubplot:xlabel='HR[bpm]'>"
      ]
     },
     "execution_count": 17,
     "metadata": {},
     "output_type": "execute_result"
    },
    {
     "data": {
      "image/png": "[encoded data removed]",
      "text/plain": [
       "<Figure size 432x288 with 1 Axes>"
      ]
     },
     "metadata": {
      "needs_background": "light"
     },
     "output_type": "display_data"
    }
   ],
   "source": [
    "df.plot(x=\"HR[bpm]\", y = [\"B\",\"G\",\"R\"], color=[\"blue\",\"green\",\"red\"])"
   ]
  },
  {
   "cell_type": "markdown",
   "id": "a8402b7f-9fd9-4e7c-8fd2-72c468d5ca8b",
   "metadata": {},
   "source": [
    "Define X and y"
   ]
  },
  {
   "cell_type": "code",
   "execution_count": 18,
   "id": "dda534d0-237a-4b46-b5df-31b0ca59ea0c",
   "metadata": {},
   "outputs": [],
   "source": [
    "X = df[[\"B\", \"G\", \"R\"]]\n",
    "y = df[\"HR[bpm]\"]"
   ]
  },
  {
   "cell_type": "markdown",
   "id": "703bb051-dbab-42b9-abfd-8adaca9bac6b",
   "metadata": {},
   "source": [
    "#### 1.2.3 Distributions\n",
    "\n",
    "In Machine Learning, data satisfying Normal Distribution is beneficial for model building. It makes math easier. Models like LDA, Gaussian Naive Bayes, Logistic Regression, Linear Regression, etc., are explicitly calculated from the assumption that the distribution is a bivariate or multivariate normal."
   ]
  },
  {
   "cell_type": "code",
   "execution_count": 19,
   "id": "b8c23b24-3e06-4158-b3fd-c64172051ffb",
   "metadata": {},
   "outputs": [
    {
     "data": {
      "text/html": [
       "<div>\n",
       "<style scoped>\n",
       "    .dataframe tbody tr th:only-of-type {\n",
       "        vertical-align: middle;\n",
       "    }\n",
       "\n",
       "    .dataframe tbody tr th {\n",
       "        vertical-align: top;\n",
       "    }\n",
       "\n",
       "    .dataframe thead th {\n",
       "        text-align: right;\n",
       "    }\n",
       "</style>\n",
       "<table border=\"1\" class=\"dataframe\">\n",
       "  <thead>\n",
       "    <tr style=\"text-align: right;\">\n",
       "      <th></th>\n",
       "      <th>HR[bpm]</th>\n",
       "      <th>B</th>\n",
       "      <th>G</th>\n",
       "      <th>R</th>\n",
       "    </tr>\n",
       "  </thead>\n",
       "  <tbody>\n",
       "    <tr>\n",
       "      <th>count</th>\n",
       "      <td>112306.000000</td>\n",
       "      <td>112306.000000</td>\n",
       "      <td>112306.000000</td>\n",
       "      <td>112306.000000</td>\n",
       "    </tr>\n",
       "    <tr>\n",
       "      <th>mean</th>\n",
       "      <td>76.723037</td>\n",
       "      <td>106.174279</td>\n",
       "      <td>89.028998</td>\n",
       "      <td>65.847300</td>\n",
       "    </tr>\n",
       "    <tr>\n",
       "      <th>std</th>\n",
       "      <td>24.604340</td>\n",
       "      <td>21.222090</td>\n",
       "      <td>14.358132</td>\n",
       "      <td>13.945522</td>\n",
       "    </tr>\n",
       "    <tr>\n",
       "      <th>min</th>\n",
       "      <td>36.363640</td>\n",
       "      <td>59.931076</td>\n",
       "      <td>54.722577</td>\n",
       "      <td>1.956730</td>\n",
       "    </tr>\n",
       "    <tr>\n",
       "      <th>25%</th>\n",
       "      <td>59.210530</td>\n",
       "      <td>95.917478</td>\n",
       "      <td>86.751648</td>\n",
       "      <td>61.434665</td>\n",
       "    </tr>\n",
       "    <tr>\n",
       "      <th>50%</th>\n",
       "      <td>65.853660</td>\n",
       "      <td>114.233554</td>\n",
       "      <td>93.087028</td>\n",
       "      <td>66.772270</td>\n",
       "    </tr>\n",
       "    <tr>\n",
       "      <th>75%</th>\n",
       "      <td>91.525420</td>\n",
       "      <td>118.167982</td>\n",
       "      <td>99.937053</td>\n",
       "      <td>76.370557</td>\n",
       "    </tr>\n",
       "    <tr>\n",
       "      <th>max</th>\n",
       "      <td>188.059700</td>\n",
       "      <td>164.970197</td>\n",
       "      <td>112.375061</td>\n",
       "      <td>86.409187</td>\n",
       "    </tr>\n",
       "  </tbody>\n",
       "</table>\n",
       "</div>"
      ],
      "text/plain": [
       "             HR[bpm]              B              G              R\n",
       "count  112306.000000  112306.000000  112306.000000  112306.000000\n",
       "mean       76.723037     106.174279      89.028998      65.847300\n",
       "std        24.604340      21.222090      14.358132      13.945522\n",
       "min        36.363640      59.931076      54.722577       1.956730\n",
       "25%        59.210530      95.917478      86.751648      61.434665\n",
       "50%        65.853660     114.233554      93.087028      66.772270\n",
       "75%        91.525420     118.167982      99.937053      76.370557\n",
       "max       188.059700     164.970197     112.375061      86.409187"
      ]
     },
     "execution_count": 19,
     "metadata": {},
     "output_type": "execute_result"
    }
   ],
   "source": [
    "df.describe()"
   ]
  },
  {
   "cell_type": "code",
   "execution_count": 20,
   "id": "7f87d2a9-793d-42e6-96b6-996b35afd935",
   "metadata": {},
   "outputs": [
    {
     "data": {
      "image/png": "[encoded data removed]",
      "text/plain": [
       "<Figure size 432x720 with 3 Axes>"
      ]
     },
     "metadata": {
      "needs_background": "light"
     },
     "output_type": "display_data"
    }
   ],
   "source": [
    "l = ['B', 'G', 'R']\n",
    "number_of_columns=len(X.columns.values)\n",
    "number_of_rows = int(len(l)-1/number_of_columns)\n",
    "plt.figure(figsize=(2*number_of_columns,5*number_of_rows))\n",
    "for i in range(0,len(l)):\n",
    "    plt.subplot(number_of_rows + 1,number_of_columns,i+1)\n",
    "    sns.distplot(X[l[i]],kde=True) "
   ]
  },
  {
   "cell_type": "markdown",
   "id": "1de33ead-fd6d-4e82-b8b8-50ad0a4b4fe1",
   "metadata": {},
   "source": [
    "## Reasoning\n",
    "\n",
    "In Machine Learning, data satisfying Normal Distribution is beneficial for model building. It makes math easier. Models like LDA, Gaussian Naive Bayes, Logistic Regression, Linear Regression, etc., are explicitly calculated from the assumption that the distribution is a bivariate or multivariate normal.\n",
    "\n",
    "The distributions we obtained do not appear to be normal distributions, so the regression algorithms may not do a good job."
   ]
  },
  {
   "cell_type": "markdown",
   "id": "c1d75890-8248-484c-8183-65109c7dc0fe",
   "metadata": {},
   "source": [
    "#### 1.2.4 Handling duplicate values"
   ]
  },
  {
   "cell_type": "markdown",
   "id": "e6ab5c10-2015-4346-bc4f-c5ec0e8b052a",
   "metadata": {},
   "source": [
    "It is possible that there are equal records (duplicates) but they will not be taken as such because it may be the case that there are equal measurements."
   ]
  },
  {
   "cell_type": "markdown",
   "id": "f7814fd0-cc6e-46ce-bb03-9dd65d642aa0",
   "metadata": {},
   "source": [
    "#### 1.2.5 Handling outliers\n",
    "As in any data science project, it is necessary to identify if there are outliers, for this a function is built to serve this purpose.\n",
    "After identifying them, different actions could be taken such as eliminating them, changing their value by the mean or by the mode, but in this case, since I do not know what the policy to follow will be, I will only identify them."
   ]
  },
  {
   "cell_type": "code",
   "execution_count": 4,
   "id": "316cdb6c-f830-4517-8b64-4855c9195ae9",
   "metadata": {},
   "outputs": [],
   "source": [
    "# Function to detect anomalies (outliers), in our case with more than 3 standard deviations\n",
    "def find_anomalies(data):\n",
    "    \n",
    "    \"\"\"\n",
    "    function ->   find_anomalies         : examine anomalies data\n",
    "    \n",
    "    args     -> \n",
    "                  data (pandas dataframe): Directory where the files are\n",
    "                  \n",
    "    return   ->   anomalies (list)       : list of anomalies                \n",
    "                  no_anomalies (list)    : list with NO anomalies           \n",
    "                  \n",
    "    \"\"\"\n",
    "\n",
    "    try:\n",
    "    \n",
    "        anomalies = []\n",
    "        no_anomalies = []\n",
    "\n",
    "        #We set the upper and lower limit to 2 standard deviations\n",
    "        data_std = data.std()\n",
    "        data_mean = data.mean()\n",
    "        anomaly_cut_off = data_std * 2\n",
    "        lower_limit  = data_mean - anomaly_cut_off \n",
    "        upper_limit = data_mean + anomaly_cut_off\n",
    "        print(f\"Lower limit: {lower_limit.iloc[0]}\")\n",
    "        print(f\"Upper limit: {upper_limit.iloc[0]}\")\n",
    "\n",
    "        # Generate outliers\n",
    "        for index, row in data.iterrows():\n",
    "            outlier = row # Obtain first column\n",
    "            if (outlier.iloc[0] > upper_limit.iloc[0]) or (outlier.iloc[0] < lower_limit.iloc[0]):\n",
    "                anomalies.append((index, outlier))\n",
    "            else:\n",
    "                no_anomalies.append((index, outlier))\n",
    "        return ((anomalies, no_anomalies))\n",
    "    \n",
    "    except:\n",
    "        \n",
    "        print(\"There is a problem using 'find_anomalies' functio, please check it\")\n",
    "        return (([],[]))   "
   ]
  },
  {
   "cell_type": "markdown",
   "id": "933058f3-d29d-4ad1-bba0-61d58bcf596f",
   "metadata": {},
   "source": [
    "#### Handling outliers for \"B\""
   ]
  },
  {
   "cell_type": "code",
   "execution_count": 22,
   "id": "6221c84f-ec49-4ef5-9313-9a84508f43d0",
   "metadata": {},
   "outputs": [
    {
     "name": "stdout",
     "output_type": "stream",
     "text": [
      "Lower limit: 63.73009833184028\n",
      "Upper limit: 148.61845891611986\n",
      "Number of records with anomalies: 1606\n",
      "Number of records with NO anomalies: 110700\n"
     ]
    }
   ],
   "source": [
    "anomalies_B, no_anomalies_B = find_anomalies(df.set_index('HR[bpm]')[['B']])\n",
    "print(f\"Number of records with anomalies: {len(anomalies_B)}\")\n",
    "print(f\"Number of records with NO anomalies: {len(no_anomalies_B)}\")"
   ]
  },
  {
   "cell_type": "code",
   "execution_count": 23,
   "id": "ef6b7147-a95b-4bd9-b944-0e8d4e83b85c",
   "metadata": {},
   "outputs": [
    {
     "data": {
      "text/plain": [
       "<AxesSubplot:xlabel='B'>"
      ]
     },
     "execution_count": 23,
     "metadata": {},
     "output_type": "execute_result"
    },
    {
     "data": {
      "image/png": "[encoded data removed]",
      "text/plain": [
       "<Figure size 432x288 with 1 Axes>"
      ]
     },
     "metadata": {
      "needs_background": "light"
     },
     "output_type": "display_data"
    }
   ],
   "source": [
    "sns.boxplot(df['B'])"
   ]
  },
  {
   "cell_type": "markdown",
   "id": "14bc84fd-48d3-4d9b-b80c-348cadc55952",
   "metadata": {},
   "source": [
    "#### Handling outliers for \"G\""
   ]
  },
  {
   "cell_type": "code",
   "execution_count": 24,
   "id": "79d21025-6caf-48b6-931b-29c92da22f5c",
   "metadata": {},
   "outputs": [
    {
     "name": "stdout",
     "output_type": "stream",
     "text": [
      "Lower limit: 60.31273413853434\n",
      "Upper limit: 117.74526259731927\n",
      "Number of records with anomalies: 9089\n",
      "Number of records with NO anomalies: 103217\n"
     ]
    }
   ],
   "source": [
    "anomalies_G, no_anomalies_G = find_anomalies(df.set_index('HR[bpm]')[['G']])\n",
    "print(f\"Number of records with anomalies: {len(anomalies_G)}\")\n",
    "print(f\"Number of records with NO anomalies: {len(no_anomalies_G)}\")"
   ]
  },
  {
   "cell_type": "code",
   "execution_count": 25,
   "id": "2e367680-aa09-4308-8ab4-69b18a5027c3",
   "metadata": {},
   "outputs": [
    {
     "data": {
      "text/plain": [
       "<AxesSubplot:xlabel='G'>"
      ]
     },
     "execution_count": 25,
     "metadata": {},
     "output_type": "execute_result"
    },
    {
     "data": {
      "image/png": "[encoded data removed]",
      "text/plain": [
       "<Figure size 432x288 with 1 Axes>"
      ]
     },
     "metadata": {
      "needs_background": "light"
     },
     "output_type": "display_data"
    }
   ],
   "source": [
    "sns.boxplot(df['G'])"
   ]
  },
  {
   "cell_type": "markdown",
   "id": "3d55be60-a67d-45c1-9449-780685f330c4",
   "metadata": {},
   "source": [
    "#### Handling outliers for \"R\""
   ]
  },
  {
   "cell_type": "code",
   "execution_count": 26,
   "id": "a3fb85bd-7b1f-44b4-af02-a41262590370",
   "metadata": {},
   "outputs": [
    {
     "name": "stdout",
     "output_type": "stream",
     "text": [
      "Lower limit: 37.95625585881695\n",
      "Upper limit: 93.73834490859329\n",
      "Number of records with anomalies: 1264\n",
      "Number of records with NO anomalies: 111042\n"
     ]
    }
   ],
   "source": [
    "anomalies_R, no_anomalies_R = find_anomalies(df.set_index('HR[bpm]')[['R']])\n",
    "print(f\"Number of records with anomalies: {len(anomalies_R)}\")\n",
    "print(f\"Number of records with NO anomalies: {len(no_anomalies_R)}\")"
   ]
  },
  {
   "cell_type": "code",
   "execution_count": 27,
   "id": "5b671bdb-71b4-4ab9-be17-01faf5c037a2",
   "metadata": {},
   "outputs": [
    {
     "data": {
      "text/plain": [
       "<AxesSubplot:xlabel='R'>"
      ]
     },
     "execution_count": 27,
     "metadata": {},
     "output_type": "execute_result"
    },
    {
     "data": {
      "image/png": "[encoded data removed]",
      "text/plain": [
       "<Figure size 432x288 with 1 Axes>"
      ]
     },
     "metadata": {
      "needs_background": "light"
     },
     "output_type": "display_data"
    }
   ],
   "source": [
    "sns.boxplot(df['R'])"
   ]
  },
  {
   "cell_type": "markdown",
   "id": "0b81af8d-d27c-4f2d-b6ba-e40315c6485b",
   "metadata": {},
   "source": [
    "## Reasoning:\n",
    "We have outliers in the three characteristics, in \"B\", \"G\" and \"R\", I will only report them, I will not eliminate them and I will not give them special treatment (such as assigning the mean or mode) because I do not know if these values can be taken as normal or if they really are outliers since I don't know the science behind the photoplethysmogram (PPG) measurement process."
   ]
  },
  {
   "cell_type": "markdown",
   "id": "8c7a1a7e-93bb-43be-8986-070a36f7e2be",
   "metadata": {},
   "source": [
    "#### 1.2.6 Normalization\n",
    "For many Machine Learning algorithms used in Data Science to work better, the input variables to the algorithm must be normalized. Normalize means, in this case, to compress or extend the values of the variable so that they are in a defined range, in our case it will be from 0 to 1."
   ]
  },
  {
   "cell_type": "code",
   "execution_count": 28,
   "id": "5d8740e1-265c-4241-a4a1-ed33874e512b",
   "metadata": {},
   "outputs": [],
   "source": [
    "min_max_scaler = preprocessing.MinMaxScaler()\n",
    "features = [\"B\",\"G\",\"R\"]\n",
    "X[features] = min_max_scaler.fit_transform(X[features])"
   ]
  },
  {
   "cell_type": "code",
   "execution_count": 29,
   "id": "d0bba20f-3cda-42bd-b56d-fb97ca3e18bd",
   "metadata": {},
   "outputs": [
    {
     "data": {
      "text/html": [
       "<div>\n",
       "<style scoped>\n",
       "    .dataframe tbody tr th:only-of-type {\n",
       "        vertical-align: middle;\n",
       "    }\n",
       "\n",
       "    .dataframe tbody tr th {\n",
       "        vertical-align: top;\n",
       "    }\n",
       "\n",
       "    .dataframe thead th {\n",
       "        text-align: right;\n",
       "    }\n",
       "</style>\n",
       "<table border=\"1\" class=\"dataframe\">\n",
       "  <thead>\n",
       "    <tr style=\"text-align: right;\">\n",
       "      <th></th>\n",
       "      <th>B</th>\n",
       "      <th>G</th>\n",
       "      <th>R</th>\n",
       "    </tr>\n",
       "  </thead>\n",
       "  <tbody>\n",
       "    <tr>\n",
       "      <th>0</th>\n",
       "      <td>0.559624</td>\n",
       "      <td>0.794310</td>\n",
       "      <td>0.995136</td>\n",
       "    </tr>\n",
       "    <tr>\n",
       "      <th>1</th>\n",
       "      <td>0.557182</td>\n",
       "      <td>0.793106</td>\n",
       "      <td>0.990967</td>\n",
       "    </tr>\n",
       "    <tr>\n",
       "      <th>2</th>\n",
       "      <td>0.560233</td>\n",
       "      <td>0.790669</td>\n",
       "      <td>0.994518</td>\n",
       "    </tr>\n",
       "    <tr>\n",
       "      <th>3</th>\n",
       "      <td>0.555396</td>\n",
       "      <td>0.786015</td>\n",
       "      <td>0.990318</td>\n",
       "    </tr>\n",
       "    <tr>\n",
       "      <th>4</th>\n",
       "      <td>0.558719</td>\n",
       "      <td>0.785953</td>\n",
       "      <td>0.993402</td>\n",
       "    </tr>\n",
       "  </tbody>\n",
       "</table>\n",
       "</div>"
      ],
      "text/plain": [
       "          B         G         R\n",
       "0  0.559624  0.794310  0.995136\n",
       "1  0.557182  0.793106  0.990967\n",
       "2  0.560233  0.790669  0.994518\n",
       "3  0.555396  0.786015  0.990318\n",
       "4  0.558719  0.785953  0.993402"
      ]
     },
     "execution_count": 29,
     "metadata": {},
     "output_type": "execute_result"
    }
   ],
   "source": [
    "X.head()"
   ]
  },
  {
   "cell_type": "markdown",
   "id": "14940be0-17b4-490c-8cb2-b9f3dbd5334f",
   "metadata": {},
   "source": [
    "#### Ready! we have the normalized numeric variables"
   ]
  },
  {
   "cell_type": "markdown",
   "id": "a029e1a5-5127-4f21-ad26-31b800f025e4",
   "metadata": {},
   "source": [
    "#### 1.2.7 Correlation\n",
    "\n",
    "Correlation explains how one or more variables are related to each other. These variables can be input data features which have been used to forecast our target variable."
   ]
  },
  {
   "cell_type": "code",
   "execution_count": 30,
   "id": "255bce8e-8014-4a2a-a087-69752a2d2023",
   "metadata": {},
   "outputs": [
    {
     "data": {
      "text/plain": [
       "<AxesSubplot:>"
      ]
     },
     "execution_count": 30,
     "metadata": {},
     "output_type": "execute_result"
    },
    {
     "data": {
      "image/png": "[encoded data removed]",
      "text/plain": [
       "<Figure size 1512x432 with 2 Axes>"
      ]
     },
     "metadata": {
      "needs_background": "light"
     },
     "output_type": "display_data"
    }
   ],
   "source": [
    "k = len(df.columns) # Número de variables para el heatmap\n",
    "cols = df.corr().nlargest(k, 'HR[bpm]')['HR[bpm]'].index\n",
    "cm = df[cols].corr()\n",
    "plt.figure(figsize=(21,6))\n",
    "sns.heatmap(cm, annot=True, cmap = 'Reds')"
   ]
  },
  {
   "cell_type": "markdown",
   "id": "e4bf9a7a-85d7-45d7-8dc3-9aa4ba03d797",
   "metadata": {},
   "source": [
    "## Reasoning\n",
    "\n",
    "The correlation that we have obtained between the \"HR[bpm]\" field and the variables was with the \"R\" field: 0.024, that does not serve as a predictor variable, let us remember that for one variable to be correlated with another, there must be a correlation with a value close to 1.\n",
    "\n",
    "It is very possible that these variables do not help us to correctly predict the \"HR[bpm]\" field."
   ]
  },
  {
   "cell_type": "markdown",
   "id": "7b5664b9-cac0-4490-85f1-6385b25094fc",
   "metadata": {},
   "source": [
    "#### 1.2.8 Features selection\n",
    "\n",
    "Feature selection is the process of reducing the number of input variables when developing a predictive model. It is desirable to reduce the number of input variables to both reduce the computational cost of modeling and, in some cases, to improve the performance of the model."
   ]
  },
  {
   "cell_type": "code",
   "execution_count": 31,
   "id": "bb545e1b-8526-4926-8f72-dfaaead8cb17",
   "metadata": {},
   "outputs": [
    {
     "name": "stdout",
     "output_type": "stream",
     "text": [
      "\n",
      "BEST FEATURES (from 0-98)\n",
      "=========================\n",
      "\n",
      "  Specs        Score\n",
      "0     B  4615.362788\n",
      "1     G  2005.288965\n",
      "2     R    65.181524\n"
     ]
    }
   ],
   "source": [
    "# Aplicamos SelectKBest para extraer las mejores características\n",
    "bestfeatures = SelectKBest(score_func=f_regression, k='all')\n",
    "\n",
    "seleccion = [\"B\",\"G\",\"R\"]\n",
    "fit = bestfeatures.fit(X[features],y)\n",
    "dfscores = pd.DataFrame(fit.scores_)\n",
    "dfcolumns = pd.DataFrame(X[features].columns)\n",
    "\n",
    "# Concatenamos los 2 dataframes para una mejor visualización \n",
    "featureScores = pd.concat([dfcolumns,dfscores],axis=1)\n",
    "featureScores.columns = ['Specs','Score']  \n",
    "print(\"\\nBEST FEATURES (from 0-98)\")\n",
    "print(\"=========================\\n\")\n",
    "print(featureScores.nlargest(20,'Score'))  # Desplegamos las mejores características"
   ]
  },
  {
   "cell_type": "markdown",
   "id": "621af5af-5422-4268-9afc-09a3f14db292",
   "metadata": {},
   "source": [
    "This is contradictory, the variable best correlated with the field to be predicted (\"HR[bpm]\") is the one that obtained the lowest score in our search for the best characteristics.\n",
    "\n",
    "Since we don't have anything clear, we are going to use all the variables."
   ]
  },
  {
   "cell_type": "markdown",
   "id": "db62bbb0-097e-46e4-94cb-3f2c228e765d",
   "metadata": {},
   "source": [
    "## 2. Model, Training and Test"
   ]
  },
  {
   "cell_type": "markdown",
   "id": "20f1a6e3-176d-4814-bd97-8868d92d993f",
   "metadata": {},
   "source": [
    "### 2.1 Separation of the training and test set\n",
    "\n",
    "The train-test split procedure is used to estimate the performance of machine learning algorithms when they are used to make predictions on data not used to train the model."
   ]
  },
  {
   "cell_type": "code",
   "execution_count": 32,
   "id": "b515cab5-affd-4767-9e36-de654c7ccf91",
   "metadata": {},
   "outputs": [],
   "source": [
    "X_train, X_test, y_train, y_test = train_test_split(X, y, test_size=0.2, random_state=1)"
   ]
  },
  {
   "cell_type": "code",
   "execution_count": 33,
   "id": "a1e559f9-8a5f-4473-9c0c-3a9c83df4b21",
   "metadata": {},
   "outputs": [
    {
     "name": "stdout",
     "output_type": "stream",
     "text": [
      "Data Training: 89844\n",
      "Data Test: 22462\n"
     ]
    }
   ],
   "source": [
    "print(f\"Data Training: {len(X_train)}\")\n",
    "print(f\"Data Test: {len(X_test)}\")"
   ]
  },
  {
   "cell_type": "code",
   "execution_count": 34,
   "id": "854d9149-f6fb-46d0-9e15-a66e521fcbdc",
   "metadata": {},
   "outputs": [],
   "source": [
    "del df"
   ]
  },
  {
   "cell_type": "markdown",
   "id": "46d03a56-ce7d-4c8f-9ff3-3b87679a956d",
   "metadata": {},
   "source": [
    "### 2.2 Training Models with Default Parameters\n",
    "We are going to carry out the construction, training and testing of the model to predict the PPm, for them we will use not one but seven different models that are:\n",
    "\n",
    "- ElasticNet\n",
    "- Lasso\n",
    "- GradientBoostingRegressor\n",
    "- Bayesian Ridge\n",
    "- LassoLarsIC\n",
    "- RandomForestRegressor\n",
    "- XGB Regressor"
   ]
  },
  {
   "cell_type": "markdown",
   "id": "513ee3f6-7c81-43ea-89d4-62538fe264e8",
   "metadata": {},
   "source": [
    "## Question\n",
    "Now, why did we choose these models to train and test which one will be the best?\n",
    "\n",
    "## Reasoning\n",
    "\n",
    "Because the variable we have to predict (\"HR[bpm\") is continuous, we must therefore choose regression algorithms for our tests."
   ]
  },
  {
   "cell_type": "code",
   "execution_count": 32,
   "id": "8aa8d2df-fc5b-4158-b8e4-ab9bad735673",
   "metadata": {},
   "outputs": [
    {
     "name": "stdout",
     "output_type": "stream",
     "text": [
      "1 ElasticNet trained!\n",
      "2 Lasso trained!\n",
      "3 GradientBoostingRegressor trained!\n",
      "4 BayesianRidge trained!\n",
      "5 LassoLarsIC trained!\n",
      "6 RandomForestRegressor trained!\n",
      "7 XGBRegressor trained!\n"
     ]
    },
    {
     "data": {
      "text/html": [
       "<div>\n",
       "<style scoped>\n",
       "    .dataframe tbody tr th:only-of-type {\n",
       "        vertical-align: middle;\n",
       "    }\n",
       "\n",
       "    .dataframe tbody tr th {\n",
       "        vertical-align: top;\n",
       "    }\n",
       "\n",
       "    .dataframe thead th {\n",
       "        text-align: right;\n",
       "    }\n",
       "</style>\n",
       "<table border=\"1\" class=\"dataframe\">\n",
       "  <thead>\n",
       "    <tr style=\"text-align: right;\">\n",
       "      <th></th>\n",
       "      <th>Name</th>\n",
       "      <th>Train Accuracy Mean</th>\n",
       "      <th>Test Accuracy</th>\n",
       "    </tr>\n",
       "  </thead>\n",
       "  <tbody>\n",
       "    <tr>\n",
       "      <th>0</th>\n",
       "      <td>ElasticNet</td>\n",
       "      <td>2466.657</td>\n",
       "      <td>2475.048</td>\n",
       "    </tr>\n",
       "    <tr>\n",
       "      <th>1</th>\n",
       "      <td>Lasso</td>\n",
       "      <td>2471.211</td>\n",
       "      <td>2479.834</td>\n",
       "    </tr>\n",
       "    <tr>\n",
       "      <th>2</th>\n",
       "      <td>GradientBoostingRegressor</td>\n",
       "      <td>1927.067</td>\n",
       "      <td>1931.366</td>\n",
       "    </tr>\n",
       "    <tr>\n",
       "      <th>3</th>\n",
       "      <td>BayesianRidge</td>\n",
       "      <td>2374.179</td>\n",
       "      <td>2385.679</td>\n",
       "    </tr>\n",
       "    <tr>\n",
       "      <th>4</th>\n",
       "      <td>LassoLarsIC</td>\n",
       "      <td>2374.176</td>\n",
       "      <td>2385.679</td>\n",
       "    </tr>\n",
       "    <tr>\n",
       "      <th>5</th>\n",
       "      <td>RandomForestRegressor</td>\n",
       "      <td>1724.471</td>\n",
       "      <td>1698.460</td>\n",
       "    </tr>\n",
       "    <tr>\n",
       "      <th>6</th>\n",
       "      <td>XGBRegressor</td>\n",
       "      <td>1769.001</td>\n",
       "      <td>1759.260</td>\n",
       "    </tr>\n",
       "  </tbody>\n",
       "</table>\n",
       "</div>"
      ],
      "text/plain": [
       "                        Name  Train Accuracy Mean  Test Accuracy\n",
       "0                 ElasticNet             2466.657       2475.048\n",
       "1                      Lasso             2471.211       2479.834\n",
       "2  GradientBoostingRegressor             1927.067       1931.366\n",
       "3              BayesianRidge             2374.179       2385.679\n",
       "4                LassoLarsIC             2374.176       2385.679\n",
       "5      RandomForestRegressor             1724.471       1698.460\n",
       "6               XGBRegressor             1769.001       1759.260"
      ]
     },
     "execution_count": 32,
     "metadata": {},
     "output_type": "execute_result"
    }
   ],
   "source": [
    "zero = 0\n",
    "\n",
    "# Algorithm selection \n",
    "models = [ElasticNet(), Lasso(), GradientBoostingRegressor(), \n",
    "          BayesianRidge(), LassoLarsIC(), RandomForestRegressor(), \n",
    "          xgb.XGBRegressor()]\n",
    "\n",
    "# Ramdomising the cross validation samples\n",
    "shuff = ShuffleSplit(n_splits = 5, test_size =.2, random_state=42)\n",
    "\n",
    "# Table to compare model accuracy \n",
    "columns = ['Name', 'Train Accuracy Mean', 'Test Accuracy']\n",
    "before_model_compare = pd.DataFrame(columns = columns)\n",
    "\n",
    "# Indexing through models and saving performance in a table\n",
    "row_index = zero\n",
    "percent = 100 \n",
    "\n",
    "for alg in models:\n",
    "\n",
    "    model_name = alg.__class__.__name__\n",
    "    before_model_compare.loc[row_index, 'Name'] = model_name\n",
    "    alg.fit(X_train, y_train)\n",
    "    \n",
    "    training_results = np.sqrt((-cross_val_score(alg, \\\n",
    "                                                 X_train, y_train, \\ \n",
    "                                                 cv = shuff, \\ \n",
    "                                                 scoring= 'neg_mean_squared_error')).mean())\n",
    "    \n",
    "    test_results = np.sqrt((np.square((y_test-alg.predict(X_test)))).mean())\n",
    "    before_model_compare.loc[row_index, 'Train Accuracy Mean'] = np.multiply(training_results, percent)\n",
    "    before_model_compare.loc[row_index, 'Test Accuracy'] = np.multiply(test_results, percent)\n",
    "    row_index+=1\n",
    "    print(row_index, alg.__class__.__name__, 'trained!')\n",
    "\n",
    "decimals = 3\n",
    "before_model_compare['Train Accuracy Mean'] = before_model_compare['Train Accuracy Mean'].apply(lambda x: round(x, decimals))\n",
    "before_model_compare['Test Accuracy'] = before_model_compare['Test Accuracy'].apply(lambda x: round(x, decimals))\n",
    "before_model_compare"
   ]
  },
  {
   "cell_type": "markdown",
   "id": "063ed1e2-bf34-4f71-8115-63ec5b83aeb2",
   "metadata": {},
   "source": [
    "## Reasoning\n",
    "\n",
    "The best accuracy is given by RandomForestRegressor because it is the one that shows the lowest value in the error calculation, however the model is far from being optimized, we are going to create hyperparameters and see what gridsearch can do."
   ]
  },
  {
   "cell_type": "markdown",
   "id": "d9a018f3-5530-487e-98eb-e45735b0e973",
   "metadata": {},
   "source": [
    "### 2.3 Applying Grid-Search\n",
    "\n",
    "A model hyperparameter is a characteristic of a model that is external to the model and whose value cannot be estimated from data. \n",
    "\n",
    "The value of the hyperparameter has to be set before the learning process begins. \n",
    "In contrast, a parameter is an internal characteristic of the model and its value can be estimated from data. \n",
    "\n",
    "Grid-search is used to find the optimal hyperparameters of a model which results in the most ‘accurate’ predictions."
   ]
  },
  {
   "cell_type": "code",
   "execution_count": 44,
   "id": "00dfa8e8-2d94-4015-83e4-311885516439",
   "metadata": {},
   "outputs": [],
   "source": [
    "# List of models \n",
    "models = [ElasticNet(), Lasso(), GradientBoostingRegressor(), \n",
    "          BayesianRidge(), LassoLarsIC(), RandomForestRegressor(), \n",
    "          xgb.XGBRegressor()]\n",
    "\n",
    "# Setting parameter-values for each model\n",
    "EN_param_grid = {'alpha': [1e-3, 0.0005], 'copy_X': [True], \n",
    "                 'l1_ratio': [0.6, 0.9], 'fit_intercept': [True], \n",
    "                 'normalize': [False],'precompute': [False], \n",
    "                 'max_iter': [300], 'tol': [1e-3], \n",
    "                 'selection': ['random'], 'random_state': [None]}\n",
    "\n",
    "LASS_param_grid = {'alpha': [5e-4, 0.0001], 'copy_X': [True], \n",
    "                   'fit_intercept': [True], 'normalize': [False], \n",
    "                   'precompute': [False],'max_iter': [300], \n",
    "                   'tol': [1e-2], 'selection': ['random'], \n",
    "                   'random_state': [None]}\n",
    "\n",
    "GB_param_grid = {'loss': ['huber'], 'learning_rate': [0.1, 0.05], \n",
    "                 'n_estimators': [300], 'max_depth': [3, 4], \n",
    "                 'min_samples_split': [2.5e-3], \n",
    "                 'min_samples_leaf': [5, 15]}\n",
    "\n",
    "BR_param_grid = {'n_iter': [200], 'tol': [1e-5, 1e-6], \n",
    "                 'alpha_1': [1e-8, 1e-6], 'alpha_2': [5e-6, 5e-4], \n",
    "                 'lambda_1': [5e-6, 5e-4],'lambda_2': [1e-8, 1e-6], \n",
    "                 'copy_X': [True]}\n",
    "\n",
    "LL_param_grid = {'criterion': ['aic'], 'normalize': [True], \n",
    "                 'max_iter': [100], 'copy_X': [True], \n",
    "                 'precompute': ['auto'], 'eps': [1e-6]}\n",
    "\n",
    "RFR_param_grid = {'n_estimators': [50], 'max_features': ['auto'], \n",
    "                  'max_depth': [None], 'min_samples_split': [5], \n",
    "                  'min_samples_leaf': [2]}\n",
    "\n",
    "XGB_param_grid = {'max_depth': [3], 'learning_rate': [0.1, 0.05], \n",
    "                  'n_estimators': [300], 'booster': ['gbtree'], \n",
    "                  'gamma': [zero, 0.0468], 'reg_alpha': [0.1, 0.4640], \n",
    "                  'reg_lambda': [0.7, 0.8571], 'max_delta_step': [zero], \n",
    "                  'min_child_weight': [1, 1.7817], \n",
    "                  'colsample_bytree': [.5, 0.4603],\n",
    "                  'colsample_bylevel': [0.2], 'scale_pos_weight': [1]}\n",
    "\n",
    "# List of parameters-grid \n",
    "params_grid = [EN_param_grid, LASS_param_grid, GB_param_grid, \n",
    "               BR_param_grid, LL_param_grid, RFR_param_grid, \n",
    "               XGB_param_grid]"
   ]
  },
  {
   "cell_type": "markdown",
   "id": "c8d12d73-d376-41aa-bc20-f0addfe6103b",
   "metadata": {},
   "source": [
    "Now, We are going to train our models"
   ]
  },
  {
   "cell_type": "code",
   "execution_count": 45,
   "id": "0e96b99c-132a-4f67-aaf3-4e7399f1263d",
   "metadata": {},
   "outputs": [
    {
     "name": "stdout",
     "output_type": "stream",
     "text": [
      "1 ElasticNet trained!\n",
      "2 Lasso trained!\n",
      "3 GradientBoostingRegressor trained!\n",
      "4 BayesianRidge trained!\n",
      "5 LassoLarsIC trained!\n",
      "6 RandomForestRegressor trained!\n",
      "7 XGBRegressor trained!\n"
     ]
    },
    {
     "data": {
      "text/html": [
       "<div>\n",
       "<style scoped>\n",
       "    .dataframe tbody tr th:only-of-type {\n",
       "        vertical-align: middle;\n",
       "    }\n",
       "\n",
       "    .dataframe tbody tr th {\n",
       "        vertical-align: top;\n",
       "    }\n",
       "\n",
       "    .dataframe thead th {\n",
       "        text-align: right;\n",
       "    }\n",
       "</style>\n",
       "<table border=\"1\" class=\"dataframe\">\n",
       "  <thead>\n",
       "    <tr style=\"text-align: right;\">\n",
       "      <th></th>\n",
       "      <th>Name</th>\n",
       "      <th>Train Accuracy Mean</th>\n",
       "      <th>Test Accuracy</th>\n",
       "    </tr>\n",
       "  </thead>\n",
       "  <tbody>\n",
       "    <tr>\n",
       "      <th>0</th>\n",
       "      <td>ElasticNet</td>\n",
       "      <td>2374.210</td>\n",
       "      <td>2385.681</td>\n",
       "    </tr>\n",
       "    <tr>\n",
       "      <th>1</th>\n",
       "      <td>Lasso</td>\n",
       "      <td>2374.177</td>\n",
       "      <td>2385.679</td>\n",
       "    </tr>\n",
       "    <tr>\n",
       "      <th>2</th>\n",
       "      <td>GradientBoostingRegressor</td>\n",
       "      <td>1848.348</td>\n",
       "      <td>1860.415</td>\n",
       "    </tr>\n",
       "    <tr>\n",
       "      <th>3</th>\n",
       "      <td>BayesianRidge</td>\n",
       "      <td>2374.179</td>\n",
       "      <td>2385.679</td>\n",
       "    </tr>\n",
       "    <tr>\n",
       "      <th>4</th>\n",
       "      <td>LassoLarsIC</td>\n",
       "      <td>2374.176</td>\n",
       "      <td>2385.679</td>\n",
       "    </tr>\n",
       "    <tr>\n",
       "      <th>5</th>\n",
       "      <td>RandomForestRegressor</td>\n",
       "      <td>1724.641</td>\n",
       "      <td>1700.771</td>\n",
       "    </tr>\n",
       "    <tr>\n",
       "      <th>6</th>\n",
       "      <td>XGBRegressor</td>\n",
       "      <td>1982.244</td>\n",
       "      <td>1993.624</td>\n",
       "    </tr>\n",
       "  </tbody>\n",
       "</table>\n",
       "</div>"
      ],
      "text/plain": [
       "                        Name  Train Accuracy Mean  Test Accuracy\n",
       "0                 ElasticNet             2374.210       2385.681\n",
       "1                      Lasso             2374.177       2385.679\n",
       "2  GradientBoostingRegressor             1848.348       1860.415\n",
       "3              BayesianRidge             2374.179       2385.679\n",
       "4                LassoLarsIC             2374.176       2385.679\n",
       "5      RandomForestRegressor             1724.641       1700.771\n",
       "6               XGBRegressor             1982.244       1993.624"
      ]
     },
     "execution_count": 45,
     "metadata": {},
     "output_type": "execute_result"
    }
   ],
   "source": [
    "# Train models\n",
    "after_model_compare = pd.DataFrame(columns = columns)\n",
    "row_index = zero\n",
    "\n",
    "for alg in models:  \n",
    "    \n",
    "    gs_alg = GridSearchCV(alg, param_grid = params_grid[zero], cv = shuff, scoring = 'neg_mean_squared_error', n_jobs=-1)\n",
    "    params_grid.pop(zero)\n",
    "    model_name = alg.__class__.__name__\n",
    "    after_model_compare.loc[row_index, 'Name'] = model_name\n",
    "    gs_alg.fit(X_train, y_train)\n",
    "    gs_best = gs_alg.best_estimator_\n",
    "    \n",
    "    after_training_results = np.sqrt(-gs_alg.best_score_)\n",
    "    after_test_results = np.sqrt((np.square(y_test-gs_alg.predict(X_test))).mean()) \n",
    "    after_model_compare.loc[row_index, 'Train Accuracy Mean'] = np.multiply(after_training_results, percent)\n",
    "    after_model_compare.loc[row_index, 'Test Accuracy'] = np.multiply(after_test_results, percent)\n",
    "    \n",
    "    row_index+=1\n",
    "    print(row_index, alg.__class__.__name__, 'trained!')\n",
    "    \n",
    "decimals = 3\n",
    "after_model_compare['Train Accuracy Mean'] = after_model_compare['Train Accuracy Mean'].apply(lambda x: round(x, decimals))\n",
    "after_model_compare['Test Accuracy'] = after_model_compare['Test Accuracy'].apply(lambda x: round(x, decimals))\n",
    "after_model_compare"
   ]
  },
  {
   "cell_type": "markdown",
   "id": "494f1892-fbed-4dd2-87de-661f4784f796",
   "metadata": {
    "tags": []
   },
   "source": [
    "## Reasoning:\n",
    "As can be seen, the best test accuracy was achieved with RandomForrestRegressor (again) which remained almost the same, second GradientBoostingRegressor and third XGBRegressor which improved appreciably.\n",
    "\n",
    "The accuracy has increased for almost all other models and therefore the root mean square error has decreased significantly for almost all models after applying grid search.\n",
    "\n",
    "But in short, the calculated error is very high for all the models (it was already predicted by the distributions we obtained from the data previously, where we saw that they were not normal distributions), so we are going to try another approach: Neural Networks"
   ]
  },
  {
   "cell_type": "markdown",
   "id": "0cf30a2d-a862-40bc-98f2-555645780e61",
   "metadata": {},
   "source": [
    "### 2.4 Neural Networks\n",
    "\n",
    "Neural networks are well known for classification problems, for example, the question is will it be fruitful if we use them for this regression problem?\n",
    "\n",
    "#### Important:\n",
    "- In a regression problem, we seek to predict the output of a continuous value such as \"HR[bpm]\".\n",
    "\n",
    "- In contrast in a Classification problem, we seek to select a class from a list of classes (for example, where an image contains an apple or an orange we want to recognize which is the fruit in the image)."
   ]
  },
  {
   "cell_type": "markdown",
   "id": "9bc5c3d4-1dcf-43b5-89d9-bef0d758a090",
   "metadata": {},
   "source": [
    "#### 2.4.1 Load libraries for Neural Network model"
   ]
  },
  {
   "cell_type": "code",
   "execution_count": 6,
   "id": "b41cf43e-124d-4576-b1f7-219e988b363e",
   "metadata": {},
   "outputs": [
    {
     "name": "stdout",
     "output_type": "stream",
     "text": [
      "2.0.0\n"
     ]
    }
   ],
   "source": [
    "import pathlib\n",
    "\n",
    "import matplotlib.pyplot as plt\n",
    "import pandas as pd\n",
    "import seaborn as sns\n",
    "\n",
    "import tensorflow as tf\n",
    "\n",
    "from tensorflow import keras\n",
    "from tensorflow.keras import layers\n",
    "from tensorflow.keras.layers import Input, Dense, Activation,Dropout\n",
    "from tensorflow.keras.models import Model\n",
    "\n",
    "print(tf.__version__)"
   ]
  },
  {
   "cell_type": "markdown",
   "id": "69113783-3d5d-47eb-8967-3212ff7d1c17",
   "metadata": {},
   "source": [
    "#### 2.4.2 Construct Deep Neural Network"
   ]
  },
  {
   "cell_type": "code",
   "execution_count": 10,
   "id": "2b275d5d-a4cc-4625-b066-d28586faf89d",
   "metadata": {},
   "outputs": [],
   "source": [
    "def build_model():\n",
    "    \n",
    "    \"\"\"\n",
    "    function ->   build_model :build a neural network model\n",
    "    \n",
    "    args     ->  \n",
    "                  None        : No arguments require\n",
    "                  \n",
    "    return   ->\n",
    "                  model       : builded model\n",
    "    \"\"\"\n",
    "  \n",
    "    try:\n",
    "        \n",
    "        input_layer = Input(shape=(X.shape[1],))\n",
    "        dense_layer_1 = Dense(512, activation='relu')(input_layer)\n",
    "        dense_layer_2 = Dense(128, activation='relu')(dense_layer_1)\n",
    "        dense_layer_3 = Dense(32, activation='relu')(dense_layer_2)\n",
    "        dense_layer_4 = Dense(8, activation='relu')(dense_layer_3)\n",
    "        output = Dense(1)(dense_layer_4)\n",
    "\n",
    "        model = Model(inputs=input_layer, outputs=output)\n",
    "        opt = tf.keras.optimizers.RMSprop(0.0001)\n",
    "        #opt = tf.keras.optimizers.SGD(learning_rate=0.0001)\n",
    "        model.compile(loss=\"mse\", \n",
    "                      optimizer= opt,\n",
    "                      metrics=['mae', 'mse'])  \n",
    " \n",
    "   \n",
    "        return model\n",
    "    \n",
    "    except:\n",
    "        \n",
    "        print(\"There's some problems running 'buil_model' function, please check it\")\n",
    "        return Model()"
   ]
  },
  {
   "cell_type": "code",
   "execution_count": 81,
   "id": "e6410b9d-a39b-43cc-a5c4-1636e2ad930b",
   "metadata": {},
   "outputs": [],
   "source": [
    "model = build_model()"
   ]
  },
  {
   "cell_type": "code",
   "execution_count": 82,
   "id": "5219bddd-bc91-437a-992c-8ad680ba2179",
   "metadata": {},
   "outputs": [
    {
     "name": "stdout",
     "output_type": "stream",
     "text": [
      "Model: \"model_5\"\n",
      "_________________________________________________________________\n",
      "Layer (type)                 Output Shape              Param #   \n",
      "=================================================================\n",
      "input_6 (InputLayer)         [(None, 3)]               0         \n",
      "_________________________________________________________________\n",
      "dense_25 (Dense)             (None, 512)               2048      \n",
      "_________________________________________________________________\n",
      "dense_26 (Dense)             (None, 128)               65664     \n",
      "_________________________________________________________________\n",
      "dense_27 (Dense)             (None, 32)                4128      \n",
      "_________________________________________________________________\n",
      "dense_28 (Dense)             (None, 8)                 264       \n",
      "_________________________________________________________________\n",
      "dense_29 (Dense)             (None, 1)                 9         \n",
      "=================================================================\n",
      "Total params: 72,113\n",
      "Trainable params: 72,113\n",
      "Non-trainable params: 0\n",
      "_________________________________________________________________\n"
     ]
    }
   ],
   "source": [
    "model.summary()"
   ]
  },
  {
   "cell_type": "code",
   "execution_count": 83,
   "id": "0914a226-0bcb-48be-ac37-6189f6dcde3e",
   "metadata": {},
   "outputs": [],
   "source": [
    "# The patience parameter is the amount of epochs to check for improvement\n",
    "early_stop = tf.keras.callbacks.EarlyStopping(monitor='val_loss', patience=10)"
   ]
  },
  {
   "cell_type": "code",
   "execution_count": 84,
   "id": "60c980bc-03e6-4371-84c3-013dfc3e19e2",
   "metadata": {},
   "outputs": [
    {
     "name": "stdout",
     "output_type": "stream",
     "text": [
      "Train on 89844 samples, validate on 22462 samples\n",
      "Epoch 1/100\n",
      "89844/89844 [==============================] - 5s 52us/sample - loss: 1643.7018 - mae: 30.4344 - mse: 1643.7001 - val_loss: 2501.4593 - val_mae: 42.0444 - val_mse: 2501.4587\n",
      "Epoch 2/100\n",
      "89844/89844 [==============================] - 4s 44us/sample - loss: 513.1110 - mae: 18.0791 - mse: 513.1113 - val_loss: 2127.6654 - val_mae: 37.6389 - val_mse: 2127.6655\n",
      "Epoch 3/100\n",
      "89844/89844 [==============================] - 4s 44us/sample - loss: 501.7997 - mae: 17.8417 - mse: 501.7995 - val_loss: 1796.2955 - val_mae: 33.4008 - val_mse: 1796.2958\n",
      "Epoch 4/100\n",
      "89844/89844 [==============================] - 4s 40us/sample - loss: 490.2991 - mae: 17.5565 - mse: 490.2992 - val_loss: 1432.2028 - val_mae: 28.6234 - val_mse: 1432.2029\n",
      "Epoch 5/100\n",
      "89844/89844 [==============================] - 4s 43us/sample - loss: 476.5995 - mae: 17.1576 - mse: 476.5995 - val_loss: 1165.7807 - val_mae: 25.2966 - val_mse: 1165.7806\n",
      "Epoch 6/100\n",
      "89844/89844 [==============================] - 4s 44us/sample - loss: 463.3958 - mae: 16.6500 - mse: 463.3958 - val_loss: 1013.1370 - val_mae: 23.6552 - val_mse: 1013.1374\n",
      "Epoch 7/100\n",
      "89844/89844 [==============================] - 4s 40us/sample - loss: 453.8229 - mae: 16.2220 - mse: 453.8227 - val_loss: 928.1451 - val_mae: 22.9692 - val_mse: 928.1451\n",
      "Epoch 8/100\n",
      "89844/89844 [==============================] - 4s 43us/sample - loss: 447.9321 - mae: 15.9690 - mse: 447.9324 - val_loss: 908.5257 - val_mae: 22.8754 - val_mse: 908.5256\n",
      "Epoch 9/100\n",
      "89844/89844 [==============================] - 4s 42us/sample - loss: 443.2506 - mae: 15.7623 - mse: 443.2500 - val_loss: 910.4950 - val_mae: 22.9276 - val_mse: 910.4953\n",
      "Epoch 10/100\n",
      "89844/89844 [==============================] - 4s 42us/sample - loss: 439.4332 - mae: 15.5679 - mse: 439.4328 - val_loss: 945.4153 - val_mae: 23.2177 - val_mse: 945.4153\n",
      "Epoch 11/100\n",
      "89844/89844 [==============================] - 4s 43us/sample - loss: 436.2939 - mae: 15.4103 - mse: 436.2940 - val_loss: 943.1564 - val_mae: 23.2197 - val_mse: 943.1566\n",
      "Epoch 12/100\n",
      "89844/89844 [==============================] - 4s 41us/sample - loss: 432.9356 - mae: 15.2710 - mse: 432.9359 - val_loss: 918.6764 - val_mae: 23.0825 - val_mse: 918.6768\n",
      "Epoch 13/100\n",
      "89844/89844 [==============================] - 4s 44us/sample - loss: 428.4421 - mae: 15.1120 - mse: 428.4417 - val_loss: 910.1750 - val_mae: 23.0806 - val_mse: 910.1748\n",
      "Epoch 14/100\n",
      "89844/89844 [==============================] - 4s 43us/sample - loss: 423.4787 - mae: 14.9385 - mse: 423.4780 - val_loss: 901.1923 - val_mae: 23.0996 - val_mse: 901.1921\n",
      "Epoch 15/100\n",
      "89844/89844 [==============================] - 4s 43us/sample - loss: 417.5459 - mae: 14.7404 - mse: 417.5458 - val_loss: 888.0358 - val_mae: 23.1220 - val_mse: 888.0359\n",
      "Epoch 16/100\n",
      "89844/89844 [==============================] - 4s 46us/sample - loss: 411.7145 - mae: 14.5358 - mse: 411.7145 - val_loss: 890.0114 - val_mae: 23.2276 - val_mse: 890.0118\n",
      "Epoch 17/100\n",
      "89844/89844 [==============================] - 4s 46us/sample - loss: 405.1858 - mae: 14.3224 - mse: 405.1859 - val_loss: 841.4938 - val_mae: 23.1512 - val_mse: 841.4940\n",
      "Epoch 18/100\n",
      "89844/89844 [==============================] - 4s 44us/sample - loss: 398.8107 - mae: 14.1181 - mse: 398.8108 - val_loss: 829.8403 - val_mae: 23.2537 - val_mse: 829.8405\n",
      "Epoch 19/100\n",
      "89844/89844 [==============================] - 4s 44us/sample - loss: 392.1015 - mae: 13.9254 - mse: 392.1020 - val_loss: 822.3808 - val_mae: 23.3093 - val_mse: 822.3811\n",
      "Epoch 20/100\n",
      "89844/89844 [==============================] - 4s 41us/sample - loss: 385.8296 - mae: 13.7330 - mse: 385.8301 - val_loss: 822.3031 - val_mae: 23.2726 - val_mse: 822.3032\n",
      "Epoch 21/100\n",
      "89844/89844 [==============================] - 4s 42us/sample - loss: 380.6915 - mae: 13.5884 - mse: 380.6914 - val_loss: 806.8825 - val_mae: 23.5279 - val_mse: 806.8823\n",
      "Epoch 22/100\n",
      "89844/89844 [==============================] - 4s 42us/sample - loss: 376.4533 - mae: 13.4822 - mse: 376.4531 - val_loss: 805.5257 - val_mae: 23.3652 - val_mse: 805.5253\n",
      "Epoch 23/100\n",
      "89844/89844 [==============================] - 4s 48us/sample - loss: 373.3886 - mae: 13.4066 - mse: 373.3891 - val_loss: 804.7280 - val_mae: 23.4456 - val_mse: 804.7280\n",
      "Epoch 24/100\n",
      "89844/89844 [==============================] - 4s 44us/sample - loss: 370.8210 - mae: 13.3529 - mse: 370.8213 - val_loss: 805.0734 - val_mae: 23.4021 - val_mse: 805.0734\n",
      "Epoch 25/100\n",
      "89844/89844 [==============================] - 4s 41us/sample - loss: 368.8296 - mae: 13.3132 - mse: 368.8296 - val_loss: 802.6914 - val_mae: 23.3976 - val_mse: 802.6915\n",
      "Epoch 26/100\n",
      "89844/89844 [==============================] - 4s 43us/sample - loss: 367.2776 - mae: 13.2804 - mse: 367.2776 - val_loss: 804.5612 - val_mae: 23.4025 - val_mse: 804.5615\n",
      "Epoch 27/100\n",
      "89844/89844 [==============================] - 4s 46us/sample - loss: 365.7645 - mae: 13.2544 - mse: 365.7642 - val_loss: 801.0030 - val_mae: 23.4715 - val_mse: 801.0031\n",
      "Epoch 28/100\n",
      "89844/89844 [==============================] - 4s 45us/sample - loss: 364.4149 - mae: 13.2282 - mse: 364.4150 - val_loss: 804.0951 - val_mae: 23.3395 - val_mse: 804.0958\n",
      "Epoch 29/100\n",
      "89844/89844 [==============================] - 4s 42us/sample - loss: 362.9456 - mae: 13.1861 - mse: 362.9457 - val_loss: 803.8283 - val_mae: 23.2841 - val_mse: 803.8282\n",
      "Epoch 30/100\n",
      "89844/89844 [==============================] - 4s 41us/sample - loss: 361.5550 - mae: 13.1545 - mse: 361.5548 - val_loss: 803.6256 - val_mae: 23.2520 - val_mse: 803.6256\n",
      "Epoch 31/100\n",
      "89844/89844 [==============================] - 4s 44us/sample - loss: 360.1470 - mae: 13.1267 - mse: 360.1472 - val_loss: 810.0266 - val_mae: 23.1740 - val_mse: 810.0260\n",
      "Epoch 32/100\n",
      "89844/89844 [==============================] - 4s 41us/sample - loss: 359.1148 - mae: 13.0894 - mse: 359.1147 - val_loss: 801.8237 - val_mae: 23.2138 - val_mse: 801.8242\n",
      "Epoch 33/100\n",
      "89844/89844 [==============================] - 4s 45us/sample - loss: 357.7066 - mae: 13.0535 - mse: 357.7063 - val_loss: 811.1332 - val_mae: 23.0604 - val_mse: 811.1334\n",
      "Epoch 34/100\n",
      "89844/89844 [==============================] - 4s 42us/sample - loss: 356.5516 - mae: 13.0070 - mse: 356.5516 - val_loss: 816.5731 - val_mae: 23.0427 - val_mse: 816.5734\n",
      "Epoch 35/100\n",
      "89844/89844 [==============================] - 4s 44us/sample - loss: 355.2033 - mae: 12.9619 - mse: 355.2033 - val_loss: 813.4154 - val_mae: 23.0743 - val_mse: 813.4151\n",
      "Epoch 36/100\n",
      "89844/89844 [==============================] - 4s 48us/sample - loss: 353.5413 - mae: 12.9184 - mse: 353.5413 - val_loss: 812.0123 - val_mae: 22.9557 - val_mse: 812.0125\n",
      "Epoch 37/100\n",
      "89844/89844 [==============================] - 4s 41us/sample - loss: 351.8778 - mae: 12.8684 - mse: 351.8784 - val_loss: 822.7059 - val_mae: 22.9373 - val_mse: 822.7060\n"
     ]
    }
   ],
   "source": [
    "history = model.fit(X.to_numpy(), y.to_numpy(),\n",
    "                    batch_size=50, \n",
    "                    epochs=100, \n",
    "                    verbose=1, \n",
    "                    validation_split=0.2, \n",
    "                    callbacks=[early_stop])"
   ]
  },
  {
   "cell_type": "code",
   "execution_count": 11,
   "id": "b2d84822-73a6-4589-9def-1ad3afbbdf4d",
   "metadata": {},
   "outputs": [],
   "source": [
    "def plot_history(history):\n",
    "    \n",
    "    \"\"\"\n",
    "    function ->   plot_history                    : plot two graph, mse and mae\n",
    "    \n",
    "    args     -> \n",
    "                  history(tensorflow history var) : histoy of the model trained with tensorflow\n",
    "                  \n",
    "    return   ->\n",
    "                  None                            : Only plot the graph\n",
    "    \"\"\"\n",
    "    \n",
    "    try:\n",
    "        \n",
    "        hist = pd.DataFrame(history.history)\n",
    "        hist['epoch'] = history.epoch\n",
    "\n",
    "        plt.figure()\n",
    "        plt.xlabel('Epoch')\n",
    "        plt.ylabel('Mean Abs Error [MPG]')\n",
    "    \n",
    "        plt.plot(hist['epoch'], hist['mae'],\n",
    "                 label='Train Error')\n",
    "    \n",
    "        plt.plot(hist['epoch'], hist['val_mae'],\n",
    "                 label = 'Val Error')\n",
    "        plt.legend()\n",
    "\n",
    "        plt.figure()\n",
    "        plt.xlabel('Epoch')\n",
    "        plt.ylabel('mse')\n",
    "        plt.plot(hist['epoch'], hist['mse'],\n",
    "                 label='Mean Squared Error')\n",
    "        plt.plot(hist['epoch'], hist['val_mse'],\n",
    "                 label = 'Val MSE')\n",
    "        plt.legend()\n",
    "        plt.show()\n",
    "        \n",
    "    except:\n",
    "    \n",
    "        print(\"There's some problem running 'plot_history' function, please check it\")"
   ]
  },
  {
   "cell_type": "code",
   "execution_count": 89,
   "id": "0dd078f6-2a54-44bd-aa5a-285514d6363f",
   "metadata": {},
   "outputs": [
    {
     "data": {
      "image/png": "[encoded data removed]",
      "text/plain": [
       "<Figure size 432x288 with 1 Axes>"
      ]
     },
     "metadata": {
      "needs_background": "light"
     },
     "output_type": "display_data"
    },
    {
     "data": {
      "image/png": "[encoded data removed]",
      "text/plain": [
       "<Figure size 432x288 with 1 Axes>"
      ]
     },
     "metadata": {
      "needs_background": "light"
     },
     "output_type": "display_data"
    }
   ],
   "source": [
    "plot_history(history)"
   ]
  },
  {
   "cell_type": "code",
   "execution_count": 87,
   "id": "9f079ec9-bc96-4653-b4a4-e07ebb027d7f",
   "metadata": {},
   "outputs": [
    {
     "name": "stdout",
     "output_type": "stream",
     "text": [
      "22462/1 - 1s - loss: 344.5113 - mae: 14.6691 - mse: 455.0779\n",
      "Testing set Mean Abs Error: 14.67 MPG\n"
     ]
    }
   ],
   "source": [
    "loss, mae, mse = model.evaluate(X_test.to_numpy(), y_test.to_numpy(), verbose=2)\n",
    "\n",
    "print(\"Testing set Mean Abs Error: {:5.2f} MPG\".format(mae))"
   ]
  },
  {
   "cell_type": "markdown",
   "id": "0c8dbcb9-7e16-49ca-92b5-af8a8124f513",
   "metadata": {},
   "source": [
    "## Reasoning\n",
    "\n",
    "We have obtained better results with neural networks, now the mse is 455 and the mae is 14.66, it is still far from a good result but it is a start that guides us where we should direct our efforts.\n",
    "\n",
    "#### Important:\n",
    "\n",
    "- The mean square error (MSE) is a common loss function used for regression problems (different loss functions are used for classification problems).\n",
    "\n",
    "- Similarly, the evaluation metrics used for regression differ from classification. A common regression metric is the mean absolute error (MAE).\n",
    "\n",
    "- When numeric input data features have values with different ranges, each feature must be scaled independently to the same range.\n",
    "\n",
    "#### Remember:\n",
    "- In regression problem, the goal is to predict a continuous value."
   ]
  },
  {
   "cell_type": "markdown",
   "id": "8cd0cb5d-7cd7-42ff-a526-afe4deee14d9",
   "metadata": {},
   "source": [
    "## To summarize what we did:\n",
    "\n",
    "- We load and process the data set.\n",
    "- We familiarize ourselves with the data set by plotting some graphs.\n",
    "- We verified that there were no null values.\n",
    "- We examine outliers.\n",
    "- We normalize the data.\n",
    "- We draw a correlation heat map of the features.\n",
    "- We chose the features.\n",
    "- We separate our data set for training and testing.\n",
    "- We built, trained and tested 7 different Machine Learning models.\n",
    "- We adjusted hyperparameters with the help of GridSearch and obtained the best model.\n",
    "- We built, trained and tested a deep neural network with four hidden layers plus one of a neuron (five layers in total).\n",
    "- Our deep neural network was able to outperform previous models."
   ]
  },
  {
   "cell_type": "code",
   "execution_count": null,
   "id": "0550c494-a2d4-4659-817f-12cf4958df7c",
   "metadata": {},
   "outputs": [],
   "source": []
  }
 ],
 "metadata": {
  "kernelspec": {
   "display_name": "Python 3 (ipykernel)",
   "language": "python",
   "name": "python3"
  },
  "language_info": {
   "codemirror_mode": {
    "name": "ipython",
    "version": 3
   },
   "file_extension": ".py",
   "mimetype": "text/x-python",
   "name": "python",
   "nbconvert_exporter": "python",
   "pygments_lexer": "ipython3",
   "version": "3.7.12"
  }
 },
 "nbformat": 4,
 "nbformat_minor": 5
}
