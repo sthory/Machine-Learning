{
 "cells": [
  {
   "cell_type": "markdown",
   "metadata": {},
   "source": [
    "## Model Evaluation & Validation\n",
    "## Project: Predicting Boston Housing Prices\n",
    "\n",
 ]
  },
  {
   "cell_type": "code",
   "execution_count": 24,
   "metadata": {},
   "outputs": [
    {
     "name": "stdout",
     "output_type": "stream",
     "text": [
      "Boston housing dataset has 489 data points with 4 variables each.\n"
     ]
    }
   ],
   "source": [
    "# Import libraries necessary for this project\n",
    "import numpy as np\n",
    "import pandas as pd\n",
    "from sklearn.cross_validation import ShuffleSplit\n",
    "\n",
    "# Import supplementary visualizations code visuals.py\n",
    "import visuals as vs\n",
    "\n",
    "# Pretty display for notebooks\n",
    "%matplotlib inline\n",
    "\n",
    "# Load the Boston housing dataset\n",
    "data = pd.read_csv('housing.csv')\n",
    "prices = data['MEDV']\n",
    "features = data.drop('MEDV', axis = 1)\n",
    "    \n",
    "# Success\n",
    "print(\"Boston housing dataset has {} data points with {} variables each.\".format(*data.shape))"
   ]
  },
  {
   "cell_type": "markdown",
   "metadata": {},
   "source": [
    "## Data Exploration\n",
    "In this first section of this project, you will make a cursory investigation about the Boston housing data and provide your observations. Familiarizing yourself with the data through an explorative process is a fundamental practice to help you better understand and justify your results.\n",
    "\n",
    "Since the main goal of this project is to construct a working model which has the capability of predicting the value of houses, we will need to separate the dataset into **features** and the **target variable**. The **features**, `'RM'`, `'LSTAT'`, and `'PTRATIO'`, give us quantitative information about each data point. The **target variable**, `'MEDV'`, will be the variable we seek to predict. These are stored in `features` and `prices`, respectively."
   ]
  },
  {
   "cell_type": "markdown",
   "metadata": {},
   "source": [
    "### Implementation: Calculate Statistics\n",
    "For your very first coding implementation, you will calculate descriptive statistics about the Boston housing prices. Since `numpy` has already been imported for you, use this library to perform the necessary calculations. These statistics will be extremely important later on to analyze various prediction results from the constructed model.\n",
    "\n",
    "In the code cell below, you will need to implement the following:\n",
    "- Calculate the minimum, maximum, mean, median, and standard deviation of `'MEDV'`, which is stored in `prices`.\n",
    "  - Store each calculation in their respective variable."
   ]
  },
  {
   "cell_type": "code",
   "execution_count": 25,
   "metadata": {},
   "outputs": [
    {
     "name": "stdout",
     "output_type": "stream",
     "text": [
      "Statistics for Boston housing dataset:\n",
      "\n",
      "Minimum price: $105000.0\n",
      "Maximum price: $1024800.0\n",
      "Mean price: $454342.9447852761\n",
      "Median price $438900.0\n",
      "Standard deviation of prices: $165171.13154429474\n"
     ]
    }
   ],
   "source": [
    "# TODO: Minimum price of the data\n",
    "minimum_price = np.min(prices)\n",
    "\n",
    "# TODO: Maximum price of the data\n",
    "maximum_price = np.max(prices) \n",
    "\n",
    "# TODO: Mean price of the data\n",
    "mean_price = np.mean(prices) \n",
    "\n",
    "# TODO: Median price of the data\n",
    "median_price = np.median(prices)\n",
    "\n",
    "# TODO: Standard deviation of prices of the data\n",
    "std_price = np.std(prices)\n",
    "\n",
    "# Show the calculated statistics\n",
    "print(\"Statistics for Boston housing dataset:\\n\")\n",
    "print(\"Minimum price: ${}\".format(minimum_price)) \n",
    "print(\"Maximum price: ${}\".format(maximum_price))\n",
    "print(\"Mean price: ${}\".format(mean_price))\n",
    "print(\"Median price ${}\".format(median_price))\n",
    "print(\"Standard deviation of prices: ${}\".format(std_price))"
   ]
  },
  {
   "cell_type": "markdown",
   "metadata": {},
   "source": [
    "### Question 1 - Feature Observation\n",
    "As a reminder, we are using three features from the Boston housing dataset: `'RM'`, `'LSTAT'`, and `'PTRATIO'`. For each data point (neighborhood):\n",
    "- `'RM'` is the average number of rooms among homes in the neighborhood.\n",
    "- `'LSTAT'` is the percentage of homeowners in the neighborhood considered \"lower class\" (working poor).\n",
    "- `'PTRATIO'` is the ratio of students to teachers in primary and secondary schools in the neighborhood.\n",
    "\n",
    "\n",
    "** Using your intuition, for each of the three features above, do you think that an increase in the value of that feature would lead to an **increase** in the value of `'MEDV'` or a **decrease** in the value of `'MEDV'`? Justify your answer for each.**\n",
    "\n",
    "**Hint:** This problem can phrased using examples like below.  \n",
    "* Would you expect a home that has an `'RM'` value(number of rooms) of 6 be worth more or less than a home that has an `'RM'` value of 7?\n",
    "* Would you expect a neighborhood that has an `'LSTAT'` value(percent of lower class workers) of 15 have home prices be worth more or less than a neighborhood that has an `'LSTAT'` value of 20?\n",
    "* Would you expect a neighborhood that has an `'PTRATIO'` value(ratio of students to teachers) of 10 have home prices be worth more or less than a neighborhood that has an `'PTRATIO'` value of 15?"
   ]
  },
  {
   "cell_type": "markdown",
   "metadata": {},
   "source": [
    "**Answer:**\n",
    "'RM': The value of 'MEDV' should increase as the number of rooms ('RM') increases, because more people can be accommodated in the house and it should be bigger.\n",
    "'LSTAT': The value of 'MEDV' should decrease as the 'LSTAT' value increases, due to the fact that there is a greater number of people with lower purchasing power, that is, there must be an inverse relationship.\n",
    "'PTRATIO': For a higher 'PTRATIO', would expect to observe a lower 'MEDV'. Why? If there is a lower ratio of teachers per student, there may be less attention devoted to each student and may affect their performance in school. Generally, this occurs in public / state schools, house prices around public schools are generally lower than those in private schools, and lower housing demand in those areas. "
   ]
  },
  {
   "cell_type": "markdown",
   "metadata": {},
   "source": [
    "----\n",
    "\n",
    "## Developing a Model\n",
    "In this second section of the project, you will develop the tools and techniques necessary for a model to make a prediction. Being able to make accurate evaluations of each model's performance through the use of these tools and techniques helps to greatly reinforce the confidence in your predictions."
   ]
  },
  {
   "cell_type": "markdown",
   "metadata": {},
   "source": [
    "### Implementation: Define a Performance Metric\n",
    "It is difficult to measure the quality of a given model without quantifying its performance over training and testing. This is typically done using some type of performance metric, whether it is through calculating some type of error, the goodness of fit, or some other useful measurement. For this project, you will be calculating the [*coefficient of determination*](http://stattrek.com/statistics/dictionary.aspx?definition=coefficient_of_determination), R<sup>2</sup>, to quantify your model's performance. The coefficient of determination for a model is a useful statistic in regression analysis, as it often describes how \"good\" that model is at making predictions. \n",
    "\n",
    "The values for R<sup>2</sup> range from 0 to 1, which captures the percentage of squared correlation between the predicted and actual values of the **target variable**. A model with an R<sup>2</sup> of 0 is no better than a model that always predicts the *mean* of the target variable, whereas a model with an R<sup>2</sup> of 1 perfectly predicts the target variable. Any value between 0 and 1 indicates what percentage of the target variable, using this model, can be explained by the **features**. _A model can be given a negative R<sup>2</sup> as well, which indicates that the model is **arbitrarily worse** than one that always predicts the mean of the target variable._\n",
    "\n",
    "For the `performance_metric` function in the code cell below, you will need to implement the following:\n",
    "- Use `r2_score` from `sklearn.metrics` to perform a performance calculation between `y_true` and `y_predict`.\n",
    "- Assign the performance score to the `score` variable."
   ]
  },
  {
   "cell_type": "code",
   "execution_count": 26,
   "metadata": {},
   "outputs": [],
   "source": [
    "# TODO: Import 'r2_score'\n",
    "from sklearn.metrics import r2_score \n",
    "\n",
    "def performance_metric(y_true, y_predict):\n",
    "    \"\"\" Calculates and returns the performance score between \n",
    "        true and predicted values based on the metric chosen. \"\"\"\n",
    "    \n",
    "    # TODO: Calculate the performance score between 'y_true' and 'y_predict'\n",
    "    score = r2_score(y_true, y_predict)\n",
    "    \n",
    "    # Return the score\n",
    "    return score"
   ]
  },
  {
   "cell_type": "markdown",
   "metadata": {},
   "source": [
    "### Question 2 - Goodness of Fit\n",
    "Assume that a dataset contains five data points and a model made the following predictions for the target variable:\n",
    "\n",
    "| True Value | Prediction |\n",
    "| :-------------: | :--------: |\n",
    "| 3.0 | 2.5 |\n",
    "| -0.5 | 0.0 |\n",
    "| 2.0 | 2.1 |\n",
    "| 7.0 | 7.8 |\n",
    "| 4.2 | 5.3 |\n",
    "\n",
    "Run the code cell below to use the `performance_metric` function and calculate this model's coefficient of determination."
   ]
  },
  {
   "cell_type": "code",
   "execution_count": 27,
   "metadata": {},
   "outputs": [
    {
     "name": "stdout",
     "output_type": "stream",
     "text": [
      "Model has a coefficient of determination, R^2, of 0.923.\n"
     ]
    }
   ],
   "source": [
    "# Calculate the performance of this model\n",
    "score = performance_metric([3, -0.5, 2, 7, 4.2], [2.5, 0.0, 2.1, 7.8, 5.3])\n",
    "print(\"Model has a coefficient of determination, R^2, of {:.3f}.\".format(score))"
   ]
  },
  {
   "cell_type": "markdown",
   "metadata": {},
   "source": [
    "* Would you consider this model to have successfully captured the variation of the target variable? \n",
    "* Why or why not?\n",
    "\n",
    "** Hint: **  The R2 score is the proportion of the variance in the dependent variable that is predictable from the independent variable. In other words:\n",
    "* R2 score of 0 means that the dependent variable cannot be predicted from the independent variable.\n",
    "* R2 score of 1 means the dependent variable can be predicted from the independent variable.\n",
    "* R2 score between 0 and 1 indicates the extent to which the dependent variable is predictable. An \n",
    "* R2 score of 0.40 means that 40 percent of the variance in Y is predictable from X."
   ]
  },
  {
   "cell_type": "markdown",
   "metadata": {},
   "source": [
    "**Answer: **\n",
    "Yes, this model capture the variation of the target variable, because the R^2 is 0.923 (equivalent 92.3% accurate) which is pretty good. \n",
    "Why?\n",
    "If we know that values of \"R ^ 2\" close to 1 and -1 show us a correlation between the dependent variable and the independent variable, then we can conclude that if there is a relation between both, in this case the value is 0.923, very close to 1, shows that the proportion of the variance in the dependent variable that is predictable from the independent variable is very high.\n"
   ]
  },
  {
   "cell_type": "markdown",
   "metadata": {},
   "source": [
    "### Implementation: Shuffle and Split Data\n",
    "Your next implementation requires that you take the Boston housing dataset and split the data into training and testing subsets. Typically, the data is also shuffled into a random order when creating the training and testing subsets to remove any bias in the ordering of the dataset.\n",
    "\n",
    "For the code cell below, you will need to implement the following:\n",
    "- Use `train_test_split` from `sklearn.cross_validation` to shuffle and split the `features` and `prices` data into training and testing sets.\n",
    "  - Split the data into 80% training and 20% testing.\n",
    "  - Set the `random_state` for `train_test_split` to a value of your choice. This ensures results are consistent.\n",
    "- Assign the train and testing splits to `X_train`, `X_test`, `y_train`, and `y_test`."
   ]
  },
  {
   "cell_type": "code",
   "execution_count": 28,
   "metadata": {},
   "outputs": [
    {
     "name": "stdout",
     "output_type": "stream",
     "text": [
      "Training and testing split was successful.\n"
     ]
    }
   ],
   "source": [
    "# TODO: Import 'train_test_split'\n",
    "from sklearn.cross_validation import train_test_split\n",
    "\n",
    "# TODO: Shuffle and split the data into training and testing subsets\n",
    "X_train, X_test, y_train, y_test = train_test_split(features, prices, test_size=0.2, random_state=42)\n",
    "\n",
    "# Success\n",
    "print(\"Training and testing split was successful.\")"
   ]
  },
  {
   "cell_type": "markdown",
   "metadata": {},
   "source": [
    "### Question 3 - Training and Testing\n",
    "\n",
    "* What is the benefit to splitting a dataset into some ratio of training and testing subsets for a learning algorithm?\n",
    "\n",
    "**Hint:** Think about how overfitting or underfitting is contingent upon how splits on data is done."
   ]
  },
  {
   "cell_type": "markdown",
   "metadata": {},
   "source": [
    "**Answer: **\n",
    "The problem is that if the training precision is maximized then the overly complex models that overfit the training data are rewarded. If you add more functions, you can have more precision, but can not generalize well. The data set can be divided into two parts so that the model can be trained and tested with different data and in this way the accuracy of the test is a better estimate than the training precision. "
   ]
  },
  {
   "cell_type": "markdown",
   "metadata": {},
   "source": [
    "----\n",
    "\n",
    "## Analyzing Model Performance\n",
    "In this third section of the project, you'll take a look at several models' learning and testing performances on various subsets of training data. Additionally, you'll investigate one particular algorithm with an increasing `'max_depth'` parameter on the full training set to observe how model complexity affects performance. Graphing your model's performance based on varying criteria can be beneficial in the analysis process, such as visualizing behavior that may not have been apparent from the results alone."
   ]
  },
  {
   "cell_type": "markdown",
   "metadata": {},
   "source": [
    "### Learning Curves\n",
    "The following code cell produces four graphs for a decision tree model with different maximum depths. Each graph visualizes the learning curves of the model for both training and testing as the size of the training set is increased. Note that the shaded region of a learning curve denotes the uncertainty of that curve (measured as the standard deviation). The model is scored on both the training and testing sets using R<sup>2</sup>, the coefficient of determination.  \n",
    "\n",
    "Run the code cell below and use these graphs to answer the following question."
   ]
  },
  {
   "cell_type": "code",
   "execution_count": 29,
   "metadata": {
    "scrolled": false
   },
   "outputs": [
    {
     "data": {
      "image/png": "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\n",
      "text/plain": [
       "<matplotlib.figure.Figure at 0x7f8e5bf1f978>"
      ]
     },
     "metadata": {
      "needs_background": "light"
     },
     "output_type": "display_data"
    }
   ],
   "source": [
    "# Produce learning curves for varying training set sizes and maximum depths\n",
    "vs.ModelLearning(features, prices)"
   ]
  },
  {
   "cell_type": "markdown",
   "metadata": {},
   "source": [
    "### Question 4 - Learning the Data\n",
    "* Choose one of the graphs above and state the maximum depth for the model. \n",
    "* What happens to the score of the training curve as more training points are added? What about the testing curve? \n",
    "* Would having more training points benefit the model? \n",
    "\n",
    "**Hint:** Are the learning curves converging to particular scores? Generally speaking, the more data you have, the better. But if your training and testing curves are converging with a score above your benchmark threshold, would this be necessary?\n",
    "Think about the pros and cons of adding more training points based on if the training and testing curves are converging."
   ]
  },
  {
   "cell_type": "markdown",
   "metadata": {},
   "source": [
    "**Answer: **\n",
    "The ideal max_depth is 3, the curves converge with high score. If we add more training points in \"max_depth\" > 3, the curves move away, and in \"max_depth=1\" the curves approach, but with low score. For the case of \"max_depth = 3\", no more training points are necessary because the curves have already converged."
   ]
  },
  {
   "cell_type": "markdown",
   "metadata": {},
   "source": [
    "### Complexity Curves\n",
    "The following code cell produces a graph for a decision tree model that has been trained and validated on the training data using different maximum depths. The graph produces two complexity curves — one for training and one for validation. Similar to the **learning curves**, the shaded regions of both the complexity curves denote the uncertainty in those curves, and the model is scored on both the training and validation sets using the `performance_metric` function.  \n",
    "\n",
    "** Run the code cell below and use this graph to answer the following two questions Q5 and Q6. **"
   ]
  },
  {
   "cell_type": "code",
   "execution_count": 30,
   "metadata": {},
   "outputs": [
    {
     "data": {
      "image/png": "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\n",
      "text/plain": [
       "<matplotlib.figure.Figure at 0x7f8e63de47b8>"
      ]
     },
     "metadata": {
      "needs_background": "light"
     },
     "output_type": "display_data"
    }
   ],
   "source": [
    "vs.ModelComplexity(X_train, y_train)"
   ]
  },
  {
   "cell_type": "markdown",
   "metadata": {},
   "source": [
    "### Question 5 - Bias-Variance Tradeoff\n",
    "* When the model is trained with a maximum depth of 1, does the model suffer from high bias or from high variance? \n",
    "* How about when the model is trained with a maximum depth of 10? What visual cues in the graph justify your conclusions?\n",
    "\n",
    "**Hint:** High bias is a sign of underfitting(model is not complex enough to pick up the nuances in the data) and high variance is a sign of overfitting(model is by-hearting the data and cannot generalize well). Think about which model(depth 1 or 10) aligns with which part of the tradeoff."
   ]
  },
  {
   "cell_type": "markdown",
   "metadata": {},
   "source": [
    "**Answer: ** \n",
    "\n",
    "- When the model is trained with a maximum depth of 1: Suffer from high bias, the score is low and  and there is almost no gap between the training and test scores. The model does not fit the data set well and does not generalize well.\n",
    "\n",
    "- When the model is trained with a maximum depth of 10: Suffer from high variance, the training score is hig but validation (test) score is low and they separate, there is an important gap between the training and test scores, that is, the model fits well into the data set but does not generalize well. "
   ]
  },
  {
   "cell_type": "markdown",
   "metadata": {},
   "source": [
    "### Question 6 - Best-Guess Optimal Model\n",
    "* Which maximum depth do you think results in a model that best generalizes to unseen data? \n",
    "* What intuition lead you to this answer?\n",
    "\n",
    "** Hint: ** Look at the graph above Question 5 and see where the validation scores lie for the various depths that have been assigned to the model. Does it get better with increased depth? At what point do we get our best validation score without overcomplicating our model? And remember, Occams Razor states \"Among competing hypotheses, the one with the fewest assumptions should be selected.\""
   ]
  },
  {
   "cell_type": "markdown",
   "metadata": {},
   "source": [
    "**Answer: **\n",
    "\n",
    "The maximum depth 4 is the best.\n",
    "- The training score stops here, this indicates the highest possible score for the model's ability to generalize invisible data.  \n",
    "- The distance between the training score and the test score is not important, which means that the model will not suffer high variation. "
   ]
  },
  {
   "cell_type": "markdown",
   "metadata": {},
   "source": [
    "-----\n",
    "\n",
    "## Evaluating Model Performance\n",
    "In this final section of the project, you will construct a model and make a prediction on the client's feature set using an optimized model from `fit_model`."
   ]
  },
  {
   "cell_type": "markdown",
   "metadata": {},
   "source": [
    "### Question 7 - Grid Search\n",
    "* What is the grid search technique?\n",
    "* How it can be applied to optimize a learning algorithm?\n",
    "\n",
    "** Hint: ** When explaining the Grid Search technique, be sure to touch upon why it is used,  what the 'grid' entails and what the end goal of this method is. To solidify your answer, you can also give an example of a parameter in a model that can be optimized using this approach."
   ]
  },
  {
   "cell_type": "markdown",
   "metadata": {},
   "source": [
    "**Answer: **\n",
    "What is the grid search technique?\n",
    "\n",
    "The grid search technique defines a grid of parameters that will be obtained through the cross-validation of K-fold. This technique tries to test each combination of the hyperparameter values provided to find the best model. Then, we seek to find the highest cross-validation accuracy that matches the corresponding parameters that optimize the learning algorithm. An example of hyperparameter in this case is the maximum depth (max_depth).\n",
    "\n",
    "How it can be applied to optimize a learning algorithm?\n",
    "\n",
    "To optimize a learning algorithm, you can apply the grid search and specify the parameters and possible values of those parameters.\n",
    "Then the grid search can return the best parameter values for the model, after adjusting the supplied data. In this way, uncertainty and riddles are eliminated in the search for the values of opitimal parameters for a classifier."
   ]
  },
  {
   "cell_type": "markdown",
   "metadata": {},
   "source": [
    "### Question 8 - Cross-Validation\n",
    "\n",
    "* What is the k-fold cross-validation training technique? \n",
    "\n",
    "* What benefit does this technique provide for grid search when optimizing a model?\n",
    "\n",
    "**Hint:** When explaining the k-fold cross validation technique, be sure to touch upon what 'k' is, how the dataset is split into different parts for training and testing and the number of times it is run based on the 'k' value.\n",
    "\n",
    "When thinking about how k-fold cross validation helps grid search, think about the main drawbacks of grid search which are hinged upon **using a particular subset of data for training or testing** and how k-fold cv could help alleviate that. You can refer to the [docs](http://scikit-learn.org/stable/modules/cross_validation.html#cross-validation) for your answer."
   ]
  },
  {
   "cell_type": "markdown",
   "metadata": {},
   "source": [
    "**Answer: **\n",
    "\n",
    "What is the k-fold cross-validation training technique?\n",
    "\n",
    "Cross-validation is the statistical technique that divides the data into subsets, trains the data in a subset, and uses the other subset to evaluate the performance of the model.\n",
    "This results in a high variability, to reduce the variability, several rounds of cross validation are performed with different subsets of the same data. Then, the results of the validation of these multiple rounds are combined to arrive at an estimate of the predictive performance of the model.\n",
    "\n",
    "\n",
    "The K-fold cross-validation technique performs the following process: \n",
    "\n",
    "1. Divide the data into k-bins with equal size. \n",
    "2. Performed k separate learning experiments, selecting one of the k subsets as the set of tests. The other k-1 trays are grouped in the training set. \n",
    "3. The machine learning algorithm is trained and the performance in the test suite is tested.\n",
    "4. The secret to cross-validation is that it executes this several times (k times) and then all the k outputs of the test set are averaged for the different waiting sets.\n",
    "5. Then the results of the tests of those experiments are averaged. In this way the evaluation of the learning algorithm will be more precise.\n",
    "\n",
    "Reasoning:\n",
    "Executing the grid search without using the cross validation set, can result in different sets of optimal hyperparameters, because in the cross validation set, the estimation of performance outside the sample would have a high variance.\n",
    "\n",
    "We could say that without the K-fold cross-validation, the grid search will select values ​​of hyperparameters that work well in the split data of the sample train test. But it may happen that it works badly for the unknown data sets due to high variance.\n",
    "\n",
    "What benefit does this technique provide for grid search when optimizing a model?\n",
    "\n",
    "1. It gives us a more reliable estimate of the out-of-sample performance of the train / test division.\n",
    "2. Reduce the variance of a single trial of a train / test division."
   ]
  },
  {
   "cell_type": "markdown",
   "metadata": {},
   "source": [
    "### Implementation: Fitting a Model\n",
    "Your final implementation requires that you bring everything together and train a model using the **decision tree algorithm**. To ensure that you are producing an optimized model, you will train the model using the grid search technique to optimize the `'max_depth'` parameter for the decision tree. The `'max_depth'` parameter can be thought of as how many questions the decision tree algorithm is allowed to ask about the data before making a prediction. Decision trees are part of a class of algorithms called *supervised learning algorithms*.\n",
    "\n",
    "In addition, you will find your implementation is using `ShuffleSplit()` for an alternative form of cross-validation (see the `'cv_sets'` variable). While it is not the K-Fold cross-validation technique you describe in **Question 8**, this type of cross-validation technique is just as useful!. The `ShuffleSplit()` implementation below will create 10 (`'n_splits'`) shuffled sets, and for each shuffle, 20% (`'test_size'`) of the data will be used as the *validation set*. While you're working on your implementation, think about the contrasts and similarities it has to the K-fold cross-validation technique.\n",
    "\n",
    "Please note that ShuffleSplit has different parameters in scikit-learn versions 0.17 and 0.18.\n",
    "For the `fit_model` function in the code cell below, you will need to implement the following:\n",
    "- Use [`DecisionTreeRegressor`](http://scikit-learn.org/stable/modules/generated/sklearn.tree.DecisionTreeRegressor.html) from `sklearn.tree` to create a decision tree regressor object.\n",
    "  - Assign this object to the `'regressor'` variable.\n",
    "- Create a dictionary for `'max_depth'` with the values from 1 to 10, and assign this to the `'params'` variable.\n",
    "- Use [`make_scorer`](http://scikit-learn.org/stable/modules/generated/sklearn.metrics.make_scorer.html) from `sklearn.metrics` to create a scoring function object.\n",
    "  - Pass the `performance_metric` function as a parameter to the object.\n",
    "  - Assign this scoring function to the `'scoring_fnc'` variable.\n",
    "- Use [`GridSearchCV`](http://scikit-learn.org/0.17/modules/generated/sklearn.grid_search.GridSearchCV.html) from `sklearn.grid_search` to create a grid search object.\n",
    "  - Pass the variables `'regressor'`, `'params'`, `'scoring_fnc'`, and `'cv_sets'` as parameters to the object. \n",
    "  - Assign the `GridSearchCV` object to the `'grid'` variable."
   ]
  },
  {
   "cell_type": "code",
   "execution_count": 31,
   "metadata": {},
   "outputs": [],
   "source": [
    "# TODO: Import 'make_scorer', 'DecisionTreeRegressor', and 'GridSearchCV'\n",
    "from sklearn.metrics import make_scorer\n",
    "from sklearn.tree import DecisionTreeRegressor\n",
    "from sklearn.model_selection import GridSearchCV\n",
    "\n",
    "def fit_model(X, y):\n",
    "    \"\"\" Performs grid search over the 'max_depth' parameter for a \n",
    "        decision tree regressor trained on the input data [X, y]. \"\"\"\n",
    "    \n",
    "    # Create cross-validation sets from the training data\n",
    "    # sklearn version 0.18: ShuffleSplit(n_splits=10, test_size=0.1, train_size=None, random_state=None)\n",
    "    # sklearn versiin 0.17: ShuffleSplit(n, n_iter=10, test_size=0.1, train_size=None, random_state=None)\n",
    "    cv_sets = ShuffleSplit(X.shape[0], n_iter = 10, test_size = 0.20, random_state = 0)\n",
    "\n",
    "    # TODO: Create a decision tree regressor object\n",
    "    regressor = DecisionTreeRegressor(random_state=0)\n",
    "\n",
    "    # TODO: Create a dictionary for the parameter 'max_depth' with a range from 1 to 10\n",
    "    params = {'max_depth':[1,2,3,4,5,6,7,8,9,10]}\n",
    "\n",
    "    # TODO: Transform 'performance_metric' into a scoring function using 'make_scorer' \n",
    "    scoring_fnc = make_scorer(performance_metric)\n",
    "\n",
    "    # TODO: Create the grid search cv object --> GridSearchCV()\n",
    "    # Make sure to include the right parameters in the object:\n",
    "    # (estimator, param_grid, scoring, cv) which have values 'regressor', 'params', 'scoring_fnc', and 'cv_sets' respectively.\n",
    "    grid = GridSearchCV(regressor, params, scoring=scoring_fnc, cv=cv_sets)\n",
    "\n",
    "    # Fit the grid search object to the data to compute the optimal model\n",
    "    grid = grid.fit(X, y)\n",
    "\n",
    "    # Return the optimal model after fitting the data\n",
    "    return grid.best_estimator_"
   ]
  },
  {
   "cell_type": "markdown",
   "metadata": {},
   "source": [
    "### Making Predictions\n",
    "Once a model has been trained on a given set of data, it can now be used to make predictions on new sets of input data. In the case of a *decision tree regressor*, the model has learned *what the best questions to ask about the input data are*, and can respond with a prediction for the **target variable**. You can use these predictions to gain information about data where the value of the target variable is unknown — such as data the model was not trained on."
   ]
  },
  {
   "cell_type": "markdown",
   "metadata": {},
   "source": [
    "### Question 9 - Optimal Model\n",
    "\n",
    "* What maximum depth does the optimal model have? How does this result compare to your guess in **Question 6**?  \n",
    "\n",
    "Run the code block below to fit the decision tree regressor to the training data and produce an optimal model."
   ]
  },
  {
   "cell_type": "code",
   "execution_count": 32,
   "metadata": {
    "scrolled": true
   },
   "outputs": [
    {
     "name": "stdout",
     "output_type": "stream",
     "text": [
      "Parameter 'max_depth' is 4 for the optimal model.\n"
     ]
    }
   ],
   "source": [
    "# Fit the training data to the model using grid search\n",
    "reg = fit_model(X_train, y_train)\n",
    "\n",
    "# Produce the value for 'max_depth'\n",
    "print(\"Parameter 'max_depth' is {} for the optimal model.\".format(reg.get_params()['max_depth']))"
   ]
  },
  {
   "cell_type": "markdown",
   "metadata": {},
   "source": [
    "** Hint: ** The answer comes from the output of the code snipped above.\n",
    "\n",
    "**Answer: **\n",
    "The optimal model has a 'max_depth' of 4, this matches the answer to question 6"
   ]
  },
  {
   "cell_type": "markdown",
   "metadata": {},
   "source": [
    "### Question 10 - Predicting Selling Prices\n",
    "Imagine that you were a real estate agent in the Boston area looking to use this model to help price homes owned by your clients that they wish to sell. You have collected the following information from three of your clients:\n",
    "\n",
    "| Feature | Client 1 | Client 2 | Client 3 |\n",
    "| :---: | :---: | :---: | :---: |\n",
    "| Total number of rooms in home | 5 rooms | 4 rooms | 8 rooms |\n",
    "| Neighborhood poverty level (as %) | 17% | 32% | 3% |\n",
    "| Student-teacher ratio of nearby schools | 15-to-1 | 22-to-1 | 12-to-1 |\n",
    "\n",
    "* What price would you recommend each client sell his/her home at? \n",
    "* Do these prices seem reasonable given the values for the respective features? \n",
    "\n",
    "**Hint:** Use the statistics you calculated in the **Data Exploration** section to help justify your response.  Of the three clients, client 3 has has the biggest house, in the best public school neighborhood with the lowest poverty level; while client 2 has the smallest house, in a neighborhood with a relatively high poverty rate and not the best public schools.\n",
    "\n",
    "Run the code block below to have your optimized model make predictions for each client's home."
   ]
  },
  {
   "cell_type": "code",
   "execution_count": 33,
   "metadata": {},
   "outputs": [
    {
     "name": "stdout",
     "output_type": "stream",
     "text": [
      "Predicted selling price for Client 1's home: $403,025.00\n",
      "Predicted selling price for Client 2's home: $237,478.72\n",
      "Predicted selling price for Client 3's home: $931,636.36\n"
     ]
    }
   ],
   "source": [
    "# Produce a matrix for client data\n",
    "client_data = [[5, 17, 15], # Client 1\n",
    "               [4, 32, 22], # Client 2\n",
    "               [8, 3, 12]]  # Client 3\n",
    "\n",
    "# Show predictions\n",
    "for i, price in enumerate(reg.predict(client_data)):\n",
    "    print(\"Predicted selling price for Client {}'s home: ${:,.2f}\".format(i+1, price))"
   ]
  },
  {
   "cell_type": "markdown",
   "metadata": {},
   "source": [
    "**Answer: **\n",
    "\n",
    "Data Exploration values:\n",
    "\n",
    "Minimum price: $105000.0\n",
    "\n",
    "Maximum price: $1024800.0\n",
    "\n",
    "Mean price: $454342.9447852761\n",
    "\n",
    "Median price $438900.0\n",
    "\n",
    "Standard deviation of prices: $165340.27765266784\n",
    "\n",
    "\n",
    "Prices Recommend:\n",
    "\n",
    "Client 1: $403,025.00\n",
    "\n",
    "Client 2: $237,478.72\n",
    "\n",
    "Client 3: $931,636.36\n",
    "\n",
    "\n",
    "Reasoning:\n",
    "- The house Client 1 has the medium price, because has quantity moderate of 'rooms', the 'Neighborhood poverty level' it is also medium, and 'Student-teacher ratio of nearby schools' is also moderate.\n",
    "\n",
    "- The house Client 2 has a low price, because the quantity rooms is low, has the highest percentage of 'Neighborhood poverty level' which negatively affects the price and the 'Student-teacher ratio of nearby schools' is also the highest ratio of the three houses, it is for all that that it has the lowest price.\n",
    "\n",
    "- The house Client 3 has a high price, because it has the best features, large number of rooms, low percentage of 'Neighborhood poverty level' and low ratio of 'Student-teacher ratio of nearby schools', all this positively influences the price of the house."
   ]
  },
  {
   "cell_type": "markdown",
   "metadata": {},
   "source": [
    "### Sensitivity\n",
    "An optimal model is not necessarily a robust model. Sometimes, a model is either too complex or too simple to sufficiently generalize to new data. Sometimes, a model could use a learning algorithm that is not appropriate for the structure of the data given. Other times, the data itself could be too noisy or contain too few samples to allow a model to adequately capture the target variable — i.e., the model is underfitted. \n",
    "\n",
    "**Run the code cell below to run the `fit_model` function ten times with different training and testing sets to see how the prediction for a specific client changes with respect to the data it's trained on.**"
   ]
  },
  {
   "cell_type": "code",
   "execution_count": 34,
   "metadata": {},
   "outputs": [
    {
     "name": "stdout",
     "output_type": "stream",
     "text": [
      "Trial 1: $391,183.33\n",
      "Trial 2: $424,935.00\n",
      "Trial 3: $415,800.00\n",
      "Trial 4: $420,622.22\n",
      "Trial 5: $418,377.27\n",
      "Trial 6: $411,931.58\n",
      "Trial 7: $399,663.16\n",
      "Trial 8: $407,232.00\n",
      "Trial 9: $351,577.61\n",
      "Trial 10: $413,700.00\n",
      "\n",
      "Range in prices: $73,357.39\n"
     ]
    }
   ],
   "source": [
    "vs.PredictTrials(features, prices, fit_model, client_data)"
   ]
  },
  {
   "cell_type": "markdown",
   "metadata": {},
   "source": [
    "### Question 11 - Applicability\n",
    "\n",
    "* In a few sentences, discuss whether the constructed model should or should not be used in a real-world setting.  \n",
    "\n",
    "**Hint:** Take a look at the range in prices as calculated in the code snippet above. Some questions to answering:\n",
    "- How relevant today is data that was collected from 1978? How important is inflation?\n",
    "- Are the features present in the data sufficient to describe a home? Do you think factors like quality of apppliances in the home, square feet of the plot area, presence of pool or not etc should factor in?\n",
    "- Is the model robust enough to make consistent predictions?\n",
    "- Would data collected in an urban city like Boston be applicable in a rural city?\n",
    "- Is it fair to judge the price of an individual home based on the characteristics of the entire neighborhood?"
   ]
  },
  {
   "cell_type": "markdown",
   "metadata": {},
   "source": [
    "**Answer: **\n",
    "\n",
    "The data collected in a rural city may not be applicable, because there are different demographic characteristics, there may be characteristics more adaptable to the data set of that place.\n",
    "\n",
    "The learning made with data from 1978 are very old, they are not applicable, factors such as inflation and demographic changes can significantly affect the prediction made by the model.\n",
    "\n",
    " On the other hand, with only three characteristics it is risky to make predictions about the price of homes in Boston. There are other characteristics such as the number of square meters, the crime rate, proximity to the city, access to services and public transport, to name a few, which may influence more than the characteristics that were evaluated in the current model.\n",
    "\n",
    "It would be necessary to make a deeper analysis of the data to know which are the most important characteristics in the construction of the prediction model. With tools such as the ANOVA matrix and the correlation indexes, you can have a fairly accurate idea of which variables can be taken to build the model."
   ]
  },
  {
   "cell_type": "markdown",
   "metadata": {},
   "source": [
    "> **Note**: Once you have completed all of the code implementations and successfully answered each question above, you may finalize your work by exporting the iPython Notebook as an HTML document. You can do this by using the menu above and navigating to  \n",
    "**File -> Download as -> HTML (.html)**. Include the finished document along with this notebook as your submission."
   ]
  },
  {
   "cell_type": "code",
   "execution_count": null,
   "metadata": {},
   "outputs": [],
   "source": []
  }
 ],
 "metadata": {
  "anaconda-cloud": {},
  "kernelspec": {
   "display_name": "Python 3",
   "language": "python",
   "name": "python3"
  },
  "language_info": {
   "codemirror_mode": {
    "name": "ipython",
    "version": 3
   },
   "file_extension": ".py",
   "mimetype": "text/x-python",
   "name": "python",
   "nbconvert_exporter": "python",
   "pygments_lexer": "ipython3",
   "version": "3.6.3"
  }
 },
 "nbformat": 4,
 "nbformat_minor": 1
}
