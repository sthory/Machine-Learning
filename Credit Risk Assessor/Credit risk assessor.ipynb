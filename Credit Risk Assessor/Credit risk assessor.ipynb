{
 "cells": [
  {
   "cell_type": "markdown",
   "id": "1709aec6-f2ab-49e7-bfa8-d0c0436e3701",
   "metadata": {},
   "source": [
    "# Credit risk assessor"
   ]
  },
  {
   "cell_type": "markdown",
   "id": "e5e16335-64c1-4708-9e41-2599f7271937",
   "metadata": {},
   "source": [
    "## 0. Carga de librerías"
   ]
  },
  {
   "cell_type": "code",
   "execution_count": 1,
   "id": "bc465d75-8e59-4857-97bf-6dc5dde077a5",
   "metadata": {},
   "outputs": [],
   "source": [
    "import pandas as pd\n",
    "from imblearn.combine import SMOTEENN\n",
    "import seaborn as sns\n",
    "from sklearn import preprocessing\n",
    "from matplotlib import pyplot as plt\n",
    "import numpy as np\n",
    "from sklearn.feature_selection import SelectKBest\n",
    "from sklearn.feature_selection import f_regression\n",
    "from collections import Counter\n",
    "from sklearn.model_selection import train_test_split\n",
    "from sklearn.metrics import balanced_accuracy_score\n",
    "from sklearn.metrics import confusion_matrix\n",
    "from imblearn.metrics import classification_report_imbalanced"
   ]
  },
  {
   "cell_type": "code",
   "execution_count": 2,
   "id": "24c59506-7329-4481-b279-f0b977c7f19e",
   "metadata": {},
   "outputs": [],
   "source": [
    "import warnings\n",
    "warnings.filterwarnings('ignore')"
   ]
  },
  {
   "cell_type": "markdown",
   "id": "2aedc01c-4e90-495b-9f92-3375234bcca4",
   "metadata": {},
   "source": [
    "# 1. Exploratory Data Analisys - EDA\n",
    "Realizaremos investigaciones iniciales sobre los datos para descubrir patrones, detectar anomalías y verificar suposiciones con la ayuda de estadísticas resumidas y representaciones gráficas."
   ]
  },
  {
   "cell_type": "code",
   "execution_count": 255,
   "id": "224ecc6e-dce7-4b55-bc2f-5b5bb237bb6f",
   "metadata": {},
   "outputs": [],
   "source": [
    "# Carga de archivos\n",
    "X_train = pd.read_csv(\"Train Data.csv\")\n",
    "X_test = pd.read_csv(\"Test Data.csv\")"
   ]
  },
  {
   "cell_type": "code",
   "execution_count": 256,
   "id": "fcef0383-81c0-421e-939c-05e6874df8b1",
   "metadata": {},
   "outputs": [
    {
     "name": "stdout",
     "output_type": "stream",
     "text": [
      "Número de registros de entrenamiento: 1000\n",
      "Número de registros de test: 300\n"
     ]
    }
   ],
   "source": [
    "num_train = len(X_train)\n",
    "num_test = len(X_test)\n",
    "print(f\"Número de registros de entrenamiento: {num_train}\")\n",
    "print(f\"Número de registros de test: {num_test}\")"
   ]
  },
  {
   "cell_type": "code",
   "execution_count": 257,
   "id": "3fa60c21-0d18-4375-8747-f1d6e49f1603",
   "metadata": {},
   "outputs": [],
   "source": [
    "# Creamos la etiqueta y_train y la borramos de X_train\n",
    "y_train = X_train.pop('label').to_frame()"
   ]
  },
  {
   "cell_type": "code",
   "execution_count": 258,
   "id": "127612db-9033-4826-b828-a623419003a6",
   "metadata": {},
   "outputs": [
    {
     "data": {
      "text/html": [
       "<div>\n",
       "<style scoped>\n",
       "    .dataframe tbody tr th:only-of-type {\n",
       "        vertical-align: middle;\n",
       "    }\n",
       "\n",
       "    .dataframe tbody tr th {\n",
       "        vertical-align: top;\n",
       "    }\n",
       "\n",
       "    .dataframe thead th {\n",
       "        text-align: right;\n",
       "    }\n",
       "</style>\n",
       "<table border=\"1\" class=\"dataframe\">\n",
       "  <thead>\n",
       "    <tr style=\"text-align: right;\">\n",
       "      <th></th>\n",
       "      <th>ID</th>\n",
       "      <th>edad</th>\n",
       "      <th>montoSolicitado</th>\n",
       "      <th>montoOtorgado</th>\n",
       "      <th>quincenal</th>\n",
       "      <th>dependientesEconomicos</th>\n",
       "      <th>fico</th>\n",
       "      <th>ingresosMensuales</th>\n",
       "      <th>gastosMensuales</th>\n",
       "      <th>emailScore</th>\n",
       "      <th>NUMTDC_AV</th>\n",
       "    </tr>\n",
       "  </thead>\n",
       "  <tbody>\n",
       "    <tr>\n",
       "      <th>count</th>\n",
       "      <td>1000.000000</td>\n",
       "      <td>996.000000</td>\n",
       "      <td>1000.000000</td>\n",
       "      <td>1000.000000</td>\n",
       "      <td>1000.000000</td>\n",
       "      <td>1000.000000</td>\n",
       "      <td>1000.00000</td>\n",
       "      <td>1000.000000</td>\n",
       "      <td>1000.000000</td>\n",
       "      <td>873.000000</td>\n",
       "      <td>506.000000</td>\n",
       "    </tr>\n",
       "    <tr>\n",
       "      <th>mean</th>\n",
       "      <td>500.500000</td>\n",
       "      <td>34.588353</td>\n",
       "      <td>15871.090740</td>\n",
       "      <td>11871.470470</td>\n",
       "      <td>0.156000</td>\n",
       "      <td>0.995000</td>\n",
       "      <td>533.60800</td>\n",
       "      <td>24852.949160</td>\n",
       "      <td>12692.456000</td>\n",
       "      <td>1.882016</td>\n",
       "      <td>2.203557</td>\n",
       "    </tr>\n",
       "    <tr>\n",
       "      <th>std</th>\n",
       "      <td>288.819436</td>\n",
       "      <td>10.176296</td>\n",
       "      <td>17109.302264</td>\n",
       "      <td>12951.028413</td>\n",
       "      <td>0.363037</td>\n",
       "      <td>1.127939</td>\n",
       "      <td>141.94502</td>\n",
       "      <td>38290.063995</td>\n",
       "      <td>28816.956572</td>\n",
       "      <td>5.325080</td>\n",
       "      <td>1.518228</td>\n",
       "    </tr>\n",
       "    <tr>\n",
       "      <th>min</th>\n",
       "      <td>1.000000</td>\n",
       "      <td>18.000000</td>\n",
       "      <td>1000.000000</td>\n",
       "      <td>1000.000000</td>\n",
       "      <td>0.000000</td>\n",
       "      <td>0.000000</td>\n",
       "      <td>0.00000</td>\n",
       "      <td>12.000000</td>\n",
       "      <td>2.000000</td>\n",
       "      <td>0.000000</td>\n",
       "      <td>1.000000</td>\n",
       "    </tr>\n",
       "    <tr>\n",
       "      <th>25%</th>\n",
       "      <td>250.750000</td>\n",
       "      <td>27.000000</td>\n",
       "      <td>5289.500000</td>\n",
       "      <td>4393.750000</td>\n",
       "      <td>0.000000</td>\n",
       "      <td>0.000000</td>\n",
       "      <td>491.00000</td>\n",
       "      <td>10000.000000</td>\n",
       "      <td>4000.000000</td>\n",
       "      <td>0.000000</td>\n",
       "      <td>1.000000</td>\n",
       "    </tr>\n",
       "    <tr>\n",
       "      <th>50%</th>\n",
       "      <td>500.500000</td>\n",
       "      <td>32.000000</td>\n",
       "      <td>11000.000000</td>\n",
       "      <td>7795.000000</td>\n",
       "      <td>0.000000</td>\n",
       "      <td>1.000000</td>\n",
       "      <td>560.00000</td>\n",
       "      <td>16000.000000</td>\n",
       "      <td>7000.000000</td>\n",
       "      <td>1.000000</td>\n",
       "      <td>2.000000</td>\n",
       "    </tr>\n",
       "    <tr>\n",
       "      <th>75%</th>\n",
       "      <td>750.250000</td>\n",
       "      <td>40.000000</td>\n",
       "      <td>19000.000000</td>\n",
       "      <td>15000.000000</td>\n",
       "      <td>0.000000</td>\n",
       "      <td>2.000000</td>\n",
       "      <td>618.25000</td>\n",
       "      <td>25000.000000</td>\n",
       "      <td>14000.000000</td>\n",
       "      <td>1.000000</td>\n",
       "      <td>3.000000</td>\n",
       "    </tr>\n",
       "    <tr>\n",
       "      <th>max</th>\n",
       "      <td>1000.000000</td>\n",
       "      <td>69.000000</td>\n",
       "      <td>150000.000000</td>\n",
       "      <td>100000.000000</td>\n",
       "      <td>1.000000</td>\n",
       "      <td>5.000000</td>\n",
       "      <td>748.00000</td>\n",
       "      <td>900000.000000</td>\n",
       "      <td>750000.000000</td>\n",
       "      <td>80.000000</td>\n",
       "      <td>12.000000</td>\n",
       "    </tr>\n",
       "  </tbody>\n",
       "</table>\n",
       "</div>"
      ],
      "text/plain": [
       "                ID        edad  montoSolicitado  montoOtorgado    quincenal  \\\n",
       "count  1000.000000  996.000000      1000.000000    1000.000000  1000.000000   \n",
       "mean    500.500000   34.588353     15871.090740   11871.470470     0.156000   \n",
       "std     288.819436   10.176296     17109.302264   12951.028413     0.363037   \n",
       "min       1.000000   18.000000      1000.000000    1000.000000     0.000000   \n",
       "25%     250.750000   27.000000      5289.500000    4393.750000     0.000000   \n",
       "50%     500.500000   32.000000     11000.000000    7795.000000     0.000000   \n",
       "75%     750.250000   40.000000     19000.000000   15000.000000     0.000000   \n",
       "max    1000.000000   69.000000    150000.000000  100000.000000     1.000000   \n",
       "\n",
       "       dependientesEconomicos        fico  ingresosMensuales  gastosMensuales  \\\n",
       "count             1000.000000  1000.00000        1000.000000      1000.000000   \n",
       "mean                 0.995000   533.60800       24852.949160     12692.456000   \n",
       "std                  1.127939   141.94502       38290.063995     28816.956572   \n",
       "min                  0.000000     0.00000          12.000000         2.000000   \n",
       "25%                  0.000000   491.00000       10000.000000      4000.000000   \n",
       "50%                  1.000000   560.00000       16000.000000      7000.000000   \n",
       "75%                  2.000000   618.25000       25000.000000     14000.000000   \n",
       "max                  5.000000   748.00000      900000.000000    750000.000000   \n",
       "\n",
       "       emailScore   NUMTDC_AV  \n",
       "count  873.000000  506.000000  \n",
       "mean     1.882016    2.203557  \n",
       "std      5.325080    1.518228  \n",
       "min      0.000000    1.000000  \n",
       "25%      0.000000    1.000000  \n",
       "50%      1.000000    2.000000  \n",
       "75%      1.000000    3.000000  \n",
       "max     80.000000   12.000000  "
      ]
     },
     "execution_count": 258,
     "metadata": {},
     "output_type": "execute_result"
    }
   ],
   "source": [
    "X_train.describe()"
   ]
  },
  {
   "cell_type": "code",
   "execution_count": 259,
   "id": "15eba77a-3c09-4fa6-88e7-4152ac04d153",
   "metadata": {},
   "outputs": [
    {
     "data": {
      "text/html": [
       "<div>\n",
       "<style scoped>\n",
       "    .dataframe tbody tr th:only-of-type {\n",
       "        vertical-align: middle;\n",
       "    }\n",
       "\n",
       "    .dataframe tbody tr th {\n",
       "        vertical-align: top;\n",
       "    }\n",
       "\n",
       "    .dataframe thead th {\n",
       "        text-align: right;\n",
       "    }\n",
       "</style>\n",
       "<table border=\"1\" class=\"dataframe\">\n",
       "  <thead>\n",
       "    <tr style=\"text-align: right;\">\n",
       "      <th></th>\n",
       "      <th>ID</th>\n",
       "      <th>edad</th>\n",
       "      <th>montoSolicitado</th>\n",
       "      <th>montoOtorgado</th>\n",
       "      <th>genero</th>\n",
       "      <th>quincenal</th>\n",
       "      <th>dependientesEconomicos</th>\n",
       "      <th>nivelEstudio</th>\n",
       "      <th>fico</th>\n",
       "      <th>ingresosMensuales</th>\n",
       "      <th>gastosMensuales</th>\n",
       "      <th>emailScore</th>\n",
       "      <th>browser</th>\n",
       "      <th>NUMTDC_AV</th>\n",
       "    </tr>\n",
       "  </thead>\n",
       "  <tbody>\n",
       "    <tr>\n",
       "      <th>0</th>\n",
       "      <td>1</td>\n",
       "      <td>38.0</td>\n",
       "      <td>11890.0</td>\n",
       "      <td>11890.0</td>\n",
       "      <td>Hombre</td>\n",
       "      <td>0</td>\n",
       "      <td>1</td>\n",
       "      <td>Universidad</td>\n",
       "      <td>561</td>\n",
       "      <td>7000.0</td>\n",
       "      <td>7000</td>\n",
       "      <td>0.0</td>\n",
       "      <td>CHROME9</td>\n",
       "      <td>1.0</td>\n",
       "    </tr>\n",
       "    <tr>\n",
       "      <th>1</th>\n",
       "      <td>2</td>\n",
       "      <td>26.0</td>\n",
       "      <td>3700.0</td>\n",
       "      <td>3700.0</td>\n",
       "      <td>Hombre</td>\n",
       "      <td>1</td>\n",
       "      <td>0</td>\n",
       "      <td>Preparatoria</td>\n",
       "      <td>649</td>\n",
       "      <td>8000.0</td>\n",
       "      <td>3000</td>\n",
       "      <td>0.0</td>\n",
       "      <td>CHROME9</td>\n",
       "      <td>1.0</td>\n",
       "    </tr>\n",
       "    <tr>\n",
       "      <th>2</th>\n",
       "      <td>3</td>\n",
       "      <td>28.0</td>\n",
       "      <td>13980.0</td>\n",
       "      <td>13980.0</td>\n",
       "      <td>Hombre</td>\n",
       "      <td>0</td>\n",
       "      <td>0</td>\n",
       "      <td>Universidad</td>\n",
       "      <td>575</td>\n",
       "      <td>7500.0</td>\n",
       "      <td>2000</td>\n",
       "      <td>NaN</td>\n",
       "      <td>NaN</td>\n",
       "      <td>3.0</td>\n",
       "    </tr>\n",
       "    <tr>\n",
       "      <th>3</th>\n",
       "      <td>4</td>\n",
       "      <td>27.0</td>\n",
       "      <td>12016.0</td>\n",
       "      <td>6286.0</td>\n",
       "      <td>Hombre</td>\n",
       "      <td>0</td>\n",
       "      <td>0</td>\n",
       "      <td>Universidad</td>\n",
       "      <td>651</td>\n",
       "      <td>12800.0</td>\n",
       "      <td>4300</td>\n",
       "      <td>1.0</td>\n",
       "      <td>UNKNOWN</td>\n",
       "      <td>NaN</td>\n",
       "    </tr>\n",
       "    <tr>\n",
       "      <th>4</th>\n",
       "      <td>5</td>\n",
       "      <td>31.0</td>\n",
       "      <td>20000.0</td>\n",
       "      <td>12000.0</td>\n",
       "      <td>Hombre</td>\n",
       "      <td>1</td>\n",
       "      <td>1</td>\n",
       "      <td>Universidad</td>\n",
       "      <td>444</td>\n",
       "      <td>20000.0</td>\n",
       "      <td>12000</td>\n",
       "      <td>1.0</td>\n",
       "      <td>MOBILE_SAFARI</td>\n",
       "      <td>NaN</td>\n",
       "    </tr>\n",
       "  </tbody>\n",
       "</table>\n",
       "</div>"
      ],
      "text/plain": [
       "   ID  edad  montoSolicitado  montoOtorgado  genero  quincenal  \\\n",
       "0   1  38.0          11890.0        11890.0  Hombre          0   \n",
       "1   2  26.0           3700.0         3700.0  Hombre          1   \n",
       "2   3  28.0          13980.0        13980.0  Hombre          0   \n",
       "3   4  27.0          12016.0         6286.0  Hombre          0   \n",
       "4   5  31.0          20000.0        12000.0  Hombre          1   \n",
       "\n",
       "   dependientesEconomicos  nivelEstudio  fico  ingresosMensuales  \\\n",
       "0                       1   Universidad   561             7000.0   \n",
       "1                       0  Preparatoria   649             8000.0   \n",
       "2                       0   Universidad   575             7500.0   \n",
       "3                       0   Universidad   651            12800.0   \n",
       "4                       1   Universidad   444            20000.0   \n",
       "\n",
       "   gastosMensuales  emailScore        browser  NUMTDC_AV  \n",
       "0             7000         0.0        CHROME9        1.0  \n",
       "1             3000         0.0        CHROME9        1.0  \n",
       "2             2000         NaN            NaN        3.0  \n",
       "3             4300         1.0        UNKNOWN        NaN  \n",
       "4            12000         1.0  MOBILE_SAFARI        NaN  "
      ]
     },
     "execution_count": 259,
     "metadata": {},
     "output_type": "execute_result"
    }
   ],
   "source": [
    "X_train.head()"
   ]
  },
  {
   "cell_type": "code",
   "execution_count": 260,
   "id": "e1141ab7-f034-40a5-bd09-9bb37b41ab8b",
   "metadata": {},
   "outputs": [
    {
     "data": {
      "text/html": [
       "<div>\n",
       "<style scoped>\n",
       "    .dataframe tbody tr th:only-of-type {\n",
       "        vertical-align: middle;\n",
       "    }\n",
       "\n",
       "    .dataframe tbody tr th {\n",
       "        vertical-align: top;\n",
       "    }\n",
       "\n",
       "    .dataframe thead th {\n",
       "        text-align: right;\n",
       "    }\n",
       "</style>\n",
       "<table border=\"1\" class=\"dataframe\">\n",
       "  <thead>\n",
       "    <tr style=\"text-align: right;\">\n",
       "      <th></th>\n",
       "      <th>ID</th>\n",
       "      <th>edad</th>\n",
       "      <th>montoSolicitado</th>\n",
       "      <th>montoOtorgado</th>\n",
       "      <th>genero</th>\n",
       "      <th>quincenal</th>\n",
       "      <th>dependientesEconomicos</th>\n",
       "      <th>nivelEstudio</th>\n",
       "      <th>fico</th>\n",
       "      <th>ingresosMensuales</th>\n",
       "      <th>gastosMensuales</th>\n",
       "      <th>emailScore</th>\n",
       "      <th>browser</th>\n",
       "      <th>NUMTDC_AV</th>\n",
       "    </tr>\n",
       "  </thead>\n",
       "  <tbody>\n",
       "    <tr>\n",
       "      <th>0</th>\n",
       "      <td>1</td>\n",
       "      <td>30.0</td>\n",
       "      <td>20000.0</td>\n",
       "      <td>40000.0</td>\n",
       "      <td>Hombre</td>\n",
       "      <td>1</td>\n",
       "      <td>0</td>\n",
       "      <td>Universidad</td>\n",
       "      <td>575</td>\n",
       "      <td>25000.0</td>\n",
       "      <td>15000</td>\n",
       "      <td>1.0</td>\n",
       "      <td>UNKNOWN</td>\n",
       "      <td>2.0</td>\n",
       "    </tr>\n",
       "    <tr>\n",
       "      <th>1</th>\n",
       "      <td>2</td>\n",
       "      <td>31.0</td>\n",
       "      <td>2000.0</td>\n",
       "      <td>2000.0</td>\n",
       "      <td>Hombre</td>\n",
       "      <td>0</td>\n",
       "      <td>4</td>\n",
       "      <td>Preparatoria</td>\n",
       "      <td>635</td>\n",
       "      <td>12000.0</td>\n",
       "      <td>8000</td>\n",
       "      <td>8.0</td>\n",
       "      <td>CHROME9</td>\n",
       "      <td>NaN</td>\n",
       "    </tr>\n",
       "    <tr>\n",
       "      <th>2</th>\n",
       "      <td>3</td>\n",
       "      <td>29.0</td>\n",
       "      <td>15000.0</td>\n",
       "      <td>15000.0</td>\n",
       "      <td>Mujer</td>\n",
       "      <td>0</td>\n",
       "      <td>0</td>\n",
       "      <td>Universidad</td>\n",
       "      <td>568</td>\n",
       "      <td>20000.0</td>\n",
       "      <td>14000</td>\n",
       "      <td>0.0</td>\n",
       "      <td>CHROME_MOBILE</td>\n",
       "      <td>1.0</td>\n",
       "    </tr>\n",
       "    <tr>\n",
       "      <th>3</th>\n",
       "      <td>4</td>\n",
       "      <td>20.0</td>\n",
       "      <td>7000.0</td>\n",
       "      <td>6000.0</td>\n",
       "      <td>Mujer</td>\n",
       "      <td>0</td>\n",
       "      <td>1</td>\n",
       "      <td>Preparatoria</td>\n",
       "      <td>643</td>\n",
       "      <td>2000.0</td>\n",
       "      <td>6000</td>\n",
       "      <td>1.0</td>\n",
       "      <td>CHROME_MOBILE</td>\n",
       "      <td>NaN</td>\n",
       "    </tr>\n",
       "    <tr>\n",
       "      <th>4</th>\n",
       "      <td>5</td>\n",
       "      <td>34.0</td>\n",
       "      <td>18000.0</td>\n",
       "      <td>12999.0</td>\n",
       "      <td>Hombre</td>\n",
       "      <td>1</td>\n",
       "      <td>1</td>\n",
       "      <td>Universidad</td>\n",
       "      <td>546</td>\n",
       "      <td>50000.0</td>\n",
       "      <td>30000</td>\n",
       "      <td>0.0</td>\n",
       "      <td>APPLE_WEB_KIT</td>\n",
       "      <td>2.0</td>\n",
       "    </tr>\n",
       "  </tbody>\n",
       "</table>\n",
       "</div>"
      ],
      "text/plain": [
       "   ID  edad  montoSolicitado  montoOtorgado  genero  quincenal  \\\n",
       "0   1  30.0          20000.0        40000.0  Hombre          1   \n",
       "1   2  31.0           2000.0         2000.0  Hombre          0   \n",
       "2   3  29.0          15000.0        15000.0   Mujer          0   \n",
       "3   4  20.0           7000.0         6000.0   Mujer          0   \n",
       "4   5  34.0          18000.0        12999.0  Hombre          1   \n",
       "\n",
       "   dependientesEconomicos  nivelEstudio  fico  ingresosMensuales  \\\n",
       "0                       0   Universidad   575            25000.0   \n",
       "1                       4  Preparatoria   635            12000.0   \n",
       "2                       0   Universidad   568            20000.0   \n",
       "3                       1  Preparatoria   643             2000.0   \n",
       "4                       1   Universidad   546            50000.0   \n",
       "\n",
       "   gastosMensuales  emailScore        browser  NUMTDC_AV  \n",
       "0            15000         1.0        UNKNOWN        2.0  \n",
       "1             8000         8.0        CHROME9        NaN  \n",
       "2            14000         0.0  CHROME_MOBILE        1.0  \n",
       "3             6000         1.0  CHROME_MOBILE        NaN  \n",
       "4            30000         0.0  APPLE_WEB_KIT        2.0  "
      ]
     },
     "execution_count": 260,
     "metadata": {},
     "output_type": "execute_result"
    }
   ],
   "source": [
    "X_test.head()"
   ]
  },
  {
   "cell_type": "code",
   "execution_count": 261,
   "id": "d68666dd-e083-4f9b-bacd-e8a8fbf980b8",
   "metadata": {},
   "outputs": [
    {
     "name": "stdout",
     "output_type": "stream",
     "text": [
      "<class 'pandas.core.frame.DataFrame'>\n",
      "RangeIndex: 1000 entries, 0 to 999\n",
      "Data columns (total 14 columns):\n",
      " #   Column                  Non-Null Count  Dtype  \n",
      "---  ------                  --------------  -----  \n",
      " 0   ID                      1000 non-null   int64  \n",
      " 1   edad                    996 non-null    float64\n",
      " 2   montoSolicitado         1000 non-null   float64\n",
      " 3   montoOtorgado           1000 non-null   float64\n",
      " 4   genero                  1000 non-null   object \n",
      " 5   quincenal               1000 non-null   int64  \n",
      " 6   dependientesEconomicos  1000 non-null   int64  \n",
      " 7   nivelEstudio            1000 non-null   object \n",
      " 8   fico                    1000 non-null   int64  \n",
      " 9   ingresosMensuales       1000 non-null   float64\n",
      " 10  gastosMensuales         1000 non-null   int64  \n",
      " 11  emailScore              873 non-null    float64\n",
      " 12  browser                 871 non-null    object \n",
      " 13  NUMTDC_AV               506 non-null    float64\n",
      "dtypes: float64(6), int64(5), object(3)\n",
      "memory usage: 109.5+ KB\n"
     ]
    }
   ],
   "source": [
    "X_train.info()"
   ]
  },
  {
   "cell_type": "code",
   "execution_count": 262,
   "id": "55507d55-84eb-492c-924f-b30d7c5b5e50",
   "metadata": {},
   "outputs": [
    {
     "name": "stdout",
     "output_type": "stream",
     "text": [
      "<class 'pandas.core.frame.DataFrame'>\n",
      "RangeIndex: 300 entries, 0 to 299\n",
      "Data columns (total 14 columns):\n",
      " #   Column                  Non-Null Count  Dtype  \n",
      "---  ------                  --------------  -----  \n",
      " 0   ID                      300 non-null    int64  \n",
      " 1   edad                    297 non-null    float64\n",
      " 2   montoSolicitado         300 non-null    float64\n",
      " 3   montoOtorgado           300 non-null    float64\n",
      " 4   genero                  300 non-null    object \n",
      " 5   quincenal               300 non-null    int64  \n",
      " 6   dependientesEconomicos  300 non-null    int64  \n",
      " 7   nivelEstudio            300 non-null    object \n",
      " 8   fico                    300 non-null    int64  \n",
      " 9   ingresosMensuales       300 non-null    float64\n",
      " 10  gastosMensuales         300 non-null    int64  \n",
      " 11  emailScore              261 non-null    float64\n",
      " 12  browser                 257 non-null    object \n",
      " 13  NUMTDC_AV               184 non-null    float64\n",
      "dtypes: float64(6), int64(5), object(3)\n",
      "memory usage: 32.9+ KB\n"
     ]
    }
   ],
   "source": [
    "X_test.info()"
   ]
  },
  {
   "cell_type": "code",
   "execution_count": 263,
   "id": "8020d001-8047-4af2-8a7b-c729d78e0f8b",
   "metadata": {},
   "outputs": [
    {
     "name": "stdout",
     "output_type": "stream",
     "text": [
      "<class 'pandas.core.frame.DataFrame'>\n",
      "RangeIndex: 1000 entries, 0 to 999\n",
      "Data columns (total 1 columns):\n",
      " #   Column  Non-Null Count  Dtype\n",
      "---  ------  --------------  -----\n",
      " 0   label   1000 non-null   int64\n",
      "dtypes: int64(1)\n",
      "memory usage: 7.9 KB\n"
     ]
    }
   ],
   "source": [
    "y_train.info()"
   ]
  },
  {
   "cell_type": "markdown",
   "id": "1ba41245-a4d2-40f3-81ee-a50d2c6ee255",
   "metadata": {},
   "source": [
    "#### Veamos las distribuciones:"
   ]
  },
  {
   "cell_type": "code",
   "execution_count": 264,
   "id": "963abe50-8438-43ad-8527-392860c3a739",
   "metadata": {},
   "outputs": [
    {
     "data": {
      "text/plain": [
       "array(['ID', 'edad', 'montoSolicitado', 'montoOtorgado', 'genero',\n",
       "       'quincenal', 'dependientesEconomicos', 'nivelEstudio', 'fico',\n",
       "       'ingresosMensuales', 'gastosMensuales', 'emailScore', 'browser',\n",
       "       'NUMTDC_AV'], dtype=object)"
      ]
     },
     "execution_count": 264,
     "metadata": {},
     "output_type": "execute_result"
    }
   ],
   "source": [
    "X_train.columns.values"
   ]
  },
  {
   "cell_type": "code",
   "execution_count": 265,
   "id": "f495f2f6-64f1-4137-8f68-1a293e3dd58a",
   "metadata": {},
   "outputs": [
    {
     "data": {
      "image/png": "[encoded data removed]",
      "text/plain": [
       "<Figure size 2016x2520 with 8 Axes>"
      ]
     },
     "metadata": {},
     "output_type": "display_data"
    }
   ],
   "source": [
    "l = ['edad', 'montoSolicitado', 'montoOtorgado', 'fico',\n",
    "     'ingresosMensuales', 'gastosMensuales', 'emailScore', 'NUMTDC_AV']\n",
    "number_of_columns=len(X_train.columns.values)\n",
    "number_of_rows = int(len(l)-1/number_of_columns)\n",
    "plt.figure(figsize=(2*number_of_columns,5*number_of_rows))\n",
    "for i in range(0,len(l)):\n",
    "    plt.subplot(number_of_rows + 1,number_of_columns,i+1)\n",
    "    sns.distplot(X_train[l[i]],kde=True) "
   ]
  },
  {
   "cell_type": "markdown",
   "id": "07e8545d-422c-405e-b38d-35282a79f229",
   "metadata": {},
   "source": [
    "## 1.1 Manejo de valores nulos o valores faltantes: \n",
    "Tenemos los campos de \"edad\", \"emailscore\",\"browser\" y \"NUMTDC_AV\" con valores nulos, tanto en X_train como en X_test\n",
    "Los trataremos de la siguiente forma (hay diversas maneras de hacerlo):\n",
    "- Se obtendrá el valor mas común de cada columna y ese será el valor asignado a esos campos \"nulos\".\n",
    "- Hay otras maneras, como por ejemplo tomar la media y asignarla a esos campos \"nulos\", otro posible tratamiento sería eliminar esos registros pero como nuestros registros no son muy cuantiosos es mejor preservarlos para el entrenamiento del modelo."
   ]
  },
  {
   "cell_type": "code",
   "execution_count": 266,
   "id": "18caf2a6-19d1-4fd0-bfe0-ab11e891929f",
   "metadata": {},
   "outputs": [],
   "source": [
    "# Primero lo hacemos con los datos de entrenamiento\n",
    "X_train = X_train.fillna(X_train.mode().iloc[0])"
   ]
  },
  {
   "cell_type": "code",
   "execution_count": 267,
   "id": "2edded1a-8a42-4570-bcf4-4d800de349a8",
   "metadata": {},
   "outputs": [],
   "source": [
    "# Ahora lo hacemos con los datos de test\n",
    "X_test = X_test.fillna(X_test.mode().iloc[0])"
   ]
  },
  {
   "cell_type": "code",
   "execution_count": 268,
   "id": "071cfa63-71c7-451e-9100-99311a343047",
   "metadata": {},
   "outputs": [
    {
     "name": "stdout",
     "output_type": "stream",
     "text": [
      "<class 'pandas.core.frame.DataFrame'>\n",
      "RangeIndex: 1000 entries, 0 to 999\n",
      "Data columns (total 14 columns):\n",
      " #   Column                  Non-Null Count  Dtype  \n",
      "---  ------                  --------------  -----  \n",
      " 0   ID                      1000 non-null   int64  \n",
      " 1   edad                    1000 non-null   float64\n",
      " 2   montoSolicitado         1000 non-null   float64\n",
      " 3   montoOtorgado           1000 non-null   float64\n",
      " 4   genero                  1000 non-null   object \n",
      " 5   quincenal               1000 non-null   int64  \n",
      " 6   dependientesEconomicos  1000 non-null   int64  \n",
      " 7   nivelEstudio            1000 non-null   object \n",
      " 8   fico                    1000 non-null   int64  \n",
      " 9   ingresosMensuales       1000 non-null   float64\n",
      " 10  gastosMensuales         1000 non-null   int64  \n",
      " 11  emailScore              1000 non-null   float64\n",
      " 12  browser                 1000 non-null   object \n",
      " 13  NUMTDC_AV               1000 non-null   float64\n",
      "dtypes: float64(6), int64(5), object(3)\n",
      "memory usage: 109.5+ KB\n"
     ]
    }
   ],
   "source": [
    "X_train.info()"
   ]
  },
  {
   "cell_type": "code",
   "execution_count": 269,
   "id": "e9f32b92-87d0-4b46-b6a8-aae7a001bba7",
   "metadata": {},
   "outputs": [
    {
     "name": "stdout",
     "output_type": "stream",
     "text": [
      "<class 'pandas.core.frame.DataFrame'>\n",
      "RangeIndex: 300 entries, 0 to 299\n",
      "Data columns (total 14 columns):\n",
      " #   Column                  Non-Null Count  Dtype  \n",
      "---  ------                  --------------  -----  \n",
      " 0   ID                      300 non-null    int64  \n",
      " 1   edad                    300 non-null    float64\n",
      " 2   montoSolicitado         300 non-null    float64\n",
      " 3   montoOtorgado           300 non-null    float64\n",
      " 4   genero                  300 non-null    object \n",
      " 5   quincenal               300 non-null    int64  \n",
      " 6   dependientesEconomicos  300 non-null    int64  \n",
      " 7   nivelEstudio            300 non-null    object \n",
      " 8   fico                    300 non-null    int64  \n",
      " 9   ingresosMensuales       300 non-null    float64\n",
      " 10  gastosMensuales         300 non-null    int64  \n",
      " 11  emailScore              300 non-null    float64\n",
      " 12  browser                 300 non-null    object \n",
      " 13  NUMTDC_AV               300 non-null    float64\n",
      "dtypes: float64(6), int64(5), object(3)\n",
      "memory usage: 32.9+ KB\n"
     ]
    }
   ],
   "source": [
    "X_test.info()"
   ]
  },
  {
   "cell_type": "markdown",
   "id": "36c1fa23-c941-4d6c-b316-735b66867f70",
   "metadata": {},
   "source": [
    "#### Ya no tenemos registros nulos ! \n",
    "Han sido susituidos por el valor mas común de cada campo."
   ]
  },
  {
   "cell_type": "markdown",
   "id": "b5756c05-9384-4567-88b9-7274d4e54c08",
   "metadata": {},
   "source": [
    "## 1.2 Manejo de registros duplicados: "
   ]
  },
  {
   "cell_type": "code",
   "execution_count": 271,
   "id": "d6bfddbc-00fc-4a80-ba64-ebc46478dce7",
   "metadata": {},
   "outputs": [
    {
     "name": "stdout",
     "output_type": "stream",
     "text": [
      "0\n",
      "0\n"
     ]
    }
   ],
   "source": [
    "# Revisamos el set de entrenamiento y test\n",
    "print(len(X_train[X_train.duplicated(['ID'], keep=False)]))\n",
    "print(len(X_test[X_test.duplicated(['ID'], keep=False)]))"
   ]
  },
  {
   "cell_type": "markdown",
   "id": "90eb9b5b-0230-4826-9b89-e43aba121026",
   "metadata": {},
   "source": [
    "#### No tenemos registros duplicados!"
   ]
  },
  {
   "cell_type": "markdown",
   "id": "1df5efb8-c482-4b2f-953d-537257aae6c0",
   "metadata": {},
   "source": [
    "## 1.3 Manejo de valores atípicos "
   ]
  },
  {
   "cell_type": "code",
   "execution_count": 272,
   "id": "03eaa967-3e00-498b-9f19-88c4819568dc",
   "metadata": {},
   "outputs": [
    {
     "data": {
      "text/plain": [
       "array(['ID', 'edad', 'montoSolicitado', 'montoOtorgado', 'genero',\n",
       "       'quincenal', 'dependientesEconomicos', 'nivelEstudio', 'fico',\n",
       "       'ingresosMensuales', 'gastosMensuales', 'emailScore', 'browser',\n",
       "       'NUMTDC_AV'], dtype=object)"
      ]
     },
     "execution_count": 272,
     "metadata": {},
     "output_type": "execute_result"
    }
   ],
   "source": [
    "X_train.columns.values"
   ]
  },
  {
   "cell_type": "code",
   "execution_count": 273,
   "id": "10c0826b-aa20-4c9d-aa39-dcc4ba1ffd0d",
   "metadata": {},
   "outputs": [
    {
     "data": {
      "image/png": "[encoded data removed]",
      "text/plain": [
       "<Figure size 1008x2520 with 8 Axes>"
      ]
     },
     "metadata": {},
     "output_type": "display_data"
    }
   ],
   "source": [
    "l = ['edad', 'montoSolicitado', 'montoOtorgado', 'fico',\n",
    "     'ingresosMensuales', 'gastosMensuales', 'emailScore', 'NUMTDC_AV']\n",
    "number_of_columns=len(X_train.columns.values)\n",
    "number_of_rows = int(len(l)-1/number_of_columns)\n",
    "plt.figure(figsize=(number_of_columns,5*number_of_rows))\n",
    "for i in range(0,len(l)):\n",
    "    plt.subplot(number_of_rows + 1,number_of_columns,i+1)\n",
    "    sns.set_style('whitegrid')\n",
    "    sns.boxplot(data=X_train[l[i]], color='green', orient='v')\n",
    "    plt.tight_layout()"
   ]
  },
  {
   "cell_type": "markdown",
   "id": "999d958b-1bbe-4dc9-bbda-42fec111e4f6",
   "metadata": {},
   "source": [
    "#### Tenemos outliers en todas las categorías\n",
    "Se desconoce la \"política\" de que hacer con estos \"outliers\", si son aceptables o hasta que rango, sin embargo los analizaremos uno a uno para tener información y poder tomar desiciones a futuro con ellos"
   ]
  },
  {
   "cell_type": "code",
   "execution_count": 274,
   "id": "d35337d0-7160-4f96-80a9-edae9c9e92e7",
   "metadata": {},
   "outputs": [],
   "source": [
    "# Función para detectar anomalías (outliers), en nuestro caso con mas de 3 desviaciones estándar\n",
    "def find_anomalies(data):\n",
    "\n",
    "    anomalies = []\n",
    "    no_anomalies = []\n",
    "\n",
    "    # Establecemos el límite superior e inferior a 3 desviaciones estándar\n",
    "    data_std = data.std()\n",
    "    data_mean = data.mean()\n",
    "    anomaly_cut_off = data_std * 3\n",
    "    lower_limit  = data_mean - anomaly_cut_off \n",
    "    upper_limit = data_mean + anomaly_cut_off\n",
    "    print(f\"Lower limit: {lower_limit.iloc[0]}\")\n",
    "    print(f\"Upper limit: {upper_limit.iloc[0]}\")\n",
    "\n",
    "    # Generar outliers\n",
    "    for index, row in data.iterrows():\n",
    "        outlier = row # obtener primer columna\n",
    "        if (outlier.iloc[0] > upper_limit.iloc[0]) or (outlier.iloc[0] < lower_limit.iloc[0]):\n",
    "            anomalies.append((index, outlier))\n",
    "        else:\n",
    "            no_anomalies.append((index, outlier))\n",
    "    return ((anomalies, no_anomalies))"
   ]
  },
  {
   "cell_type": "code",
   "execution_count": 275,
   "id": "7d2e6763-3854-474a-9b18-20cab2f2f206",
   "metadata": {},
   "outputs": [
    {
     "data": {
      "text/html": [
       "<div>\n",
       "<style scoped>\n",
       "    .dataframe tbody tr th:only-of-type {\n",
       "        vertical-align: middle;\n",
       "    }\n",
       "\n",
       "    .dataframe tbody tr th {\n",
       "        vertical-align: top;\n",
       "    }\n",
       "\n",
       "    .dataframe thead th {\n",
       "        text-align: right;\n",
       "    }\n",
       "</style>\n",
       "<table border=\"1\" class=\"dataframe\">\n",
       "  <thead>\n",
       "    <tr style=\"text-align: right;\">\n",
       "      <th></th>\n",
       "      <th>ID</th>\n",
       "      <th>edad</th>\n",
       "      <th>montoSolicitado</th>\n",
       "      <th>montoOtorgado</th>\n",
       "      <th>genero</th>\n",
       "      <th>quincenal</th>\n",
       "      <th>dependientesEconomicos</th>\n",
       "      <th>nivelEstudio</th>\n",
       "      <th>fico</th>\n",
       "      <th>ingresosMensuales</th>\n",
       "      <th>gastosMensuales</th>\n",
       "      <th>emailScore</th>\n",
       "      <th>browser</th>\n",
       "      <th>NUMTDC_AV</th>\n",
       "    </tr>\n",
       "  </thead>\n",
       "  <tbody>\n",
       "    <tr>\n",
       "      <th>0</th>\n",
       "      <td>1</td>\n",
       "      <td>38.0</td>\n",
       "      <td>11890.0</td>\n",
       "      <td>11890.0</td>\n",
       "      <td>Hombre</td>\n",
       "      <td>0</td>\n",
       "      <td>1</td>\n",
       "      <td>Universidad</td>\n",
       "      <td>561</td>\n",
       "      <td>7000.0</td>\n",
       "      <td>7000</td>\n",
       "      <td>0.0</td>\n",
       "      <td>CHROME9</td>\n",
       "      <td>1.0</td>\n",
       "    </tr>\n",
       "    <tr>\n",
       "      <th>1</th>\n",
       "      <td>2</td>\n",
       "      <td>26.0</td>\n",
       "      <td>3700.0</td>\n",
       "      <td>3700.0</td>\n",
       "      <td>Hombre</td>\n",
       "      <td>1</td>\n",
       "      <td>0</td>\n",
       "      <td>Preparatoria</td>\n",
       "      <td>649</td>\n",
       "      <td>8000.0</td>\n",
       "      <td>3000</td>\n",
       "      <td>0.0</td>\n",
       "      <td>CHROME9</td>\n",
       "      <td>1.0</td>\n",
       "    </tr>\n",
       "    <tr>\n",
       "      <th>2</th>\n",
       "      <td>3</td>\n",
       "      <td>28.0</td>\n",
       "      <td>13980.0</td>\n",
       "      <td>13980.0</td>\n",
       "      <td>Hombre</td>\n",
       "      <td>0</td>\n",
       "      <td>0</td>\n",
       "      <td>Universidad</td>\n",
       "      <td>575</td>\n",
       "      <td>7500.0</td>\n",
       "      <td>2000</td>\n",
       "      <td>1.0</td>\n",
       "      <td>CHROME_MOBILE</td>\n",
       "      <td>3.0</td>\n",
       "    </tr>\n",
       "    <tr>\n",
       "      <th>3</th>\n",
       "      <td>4</td>\n",
       "      <td>27.0</td>\n",
       "      <td>12016.0</td>\n",
       "      <td>6286.0</td>\n",
       "      <td>Hombre</td>\n",
       "      <td>0</td>\n",
       "      <td>0</td>\n",
       "      <td>Universidad</td>\n",
       "      <td>651</td>\n",
       "      <td>12800.0</td>\n",
       "      <td>4300</td>\n",
       "      <td>1.0</td>\n",
       "      <td>UNKNOWN</td>\n",
       "      <td>1.0</td>\n",
       "    </tr>\n",
       "    <tr>\n",
       "      <th>4</th>\n",
       "      <td>5</td>\n",
       "      <td>31.0</td>\n",
       "      <td>20000.0</td>\n",
       "      <td>12000.0</td>\n",
       "      <td>Hombre</td>\n",
       "      <td>1</td>\n",
       "      <td>1</td>\n",
       "      <td>Universidad</td>\n",
       "      <td>444</td>\n",
       "      <td>20000.0</td>\n",
       "      <td>12000</td>\n",
       "      <td>1.0</td>\n",
       "      <td>MOBILE_SAFARI</td>\n",
       "      <td>1.0</td>\n",
       "    </tr>\n",
       "  </tbody>\n",
       "</table>\n",
       "</div>"
      ],
      "text/plain": [
       "   ID  edad  montoSolicitado  montoOtorgado  genero  quincenal  \\\n",
       "0   1  38.0          11890.0        11890.0  Hombre          0   \n",
       "1   2  26.0           3700.0         3700.0  Hombre          1   \n",
       "2   3  28.0          13980.0        13980.0  Hombre          0   \n",
       "3   4  27.0          12016.0         6286.0  Hombre          0   \n",
       "4   5  31.0          20000.0        12000.0  Hombre          1   \n",
       "\n",
       "   dependientesEconomicos  nivelEstudio  fico  ingresosMensuales  \\\n",
       "0                       1   Universidad   561             7000.0   \n",
       "1                       0  Preparatoria   649             8000.0   \n",
       "2                       0   Universidad   575             7500.0   \n",
       "3                       0   Universidad   651            12800.0   \n",
       "4                       1   Universidad   444            20000.0   \n",
       "\n",
       "   gastosMensuales  emailScore        browser  NUMTDC_AV  \n",
       "0             7000         0.0        CHROME9        1.0  \n",
       "1             3000         0.0        CHROME9        1.0  \n",
       "2             2000         1.0  CHROME_MOBILE        3.0  \n",
       "3             4300         1.0        UNKNOWN        1.0  \n",
       "4            12000         1.0  MOBILE_SAFARI        1.0  "
      ]
     },
     "execution_count": 275,
     "metadata": {},
     "output_type": "execute_result"
    }
   ],
   "source": [
    "X_train.head()"
   ]
  },
  {
   "cell_type": "markdown",
   "id": "c7a71bd8-29b3-4b64-a8eb-0a032eba7e36",
   "metadata": {},
   "source": [
    "### 1.3.1 Valores atípicos para \"montoSolicitado\""
   ]
  },
  {
   "cell_type": "code",
   "execution_count": 276,
   "id": "cc44a740-9fd0-4036-8a2d-ccf487db9663",
   "metadata": {},
   "outputs": [
    {
     "name": "stdout",
     "output_type": "stream",
     "text": [
      "Lower limit: -35456.81605102128\n",
      "Upper limit: 67198.99753102128\n",
      "Number of records with anomalies: 19\n",
      "Number of records with NO anomalies: 981\n"
     ]
    }
   ],
   "source": [
    "(anomalies_montoSolicitado, \n",
    " no_anomalies_montoSolicitado) = find_anomalies(X_train.set_index('ID')[['montoSolicitado']])\n",
    "print(f\"Number of records with anomalies: {len(anomalies_montoSolicitado)}\")\n",
    "print(f\"Number of records with NO anomalies: {len(no_anomalies_montoSolicitado)}\")"
   ]
  },
  {
   "cell_type": "code",
   "execution_count": 277,
   "id": "b401c90a-f82b-426d-913f-e22ccfafa7c5",
   "metadata": {},
   "outputs": [
    {
     "name": "stdout",
     "output_type": "stream",
     "text": [
      "ID: 77 , Monto Solicitado 100000.0\n",
      "ID: 154 , Monto Solicitado 85000.0\n",
      "ID: 191 , Monto Solicitado 113490.0\n",
      "ID: 194 , Monto Solicitado 70000.0\n",
      "ID: 199 , Monto Solicitado 100000.0\n",
      "ID: 313 , Monto Solicitado 80000.0\n",
      "ID: 375 , Monto Solicitado 100000.0\n",
      "ID: 386 , Monto Solicitado 100000.0\n",
      "ID: 430 , Monto Solicitado 100000.0\n",
      "ID: 561 , Monto Solicitado 100000.0\n",
      "ID: 611 , Monto Solicitado 150000.0\n",
      "ID: 726 , Monto Solicitado 100000.0\n",
      "ID: 755 , Monto Solicitado 80000.0\n",
      "ID: 795 , Monto Solicitado 69350.0\n",
      "ID: 804 , Monto Solicitado 100000.0\n",
      "ID: 862 , Monto Solicitado 85000.0\n",
      "ID: 864 , Monto Solicitado 100000.0\n",
      "ID: 943 , Monto Solicitado 150000.0\n",
      "ID: 954 , Monto Solicitado 100000.0\n"
     ]
    }
   ],
   "source": [
    "for row in anomalies_montoSolicitado:\n",
    "    print(\"ID:\",row[0], \", Monto Solicitado\", row[1][0]) "
   ]
  },
  {
   "cell_type": "markdown",
   "id": "4d0d9831-fe32-4caa-986d-eae70f82aeaf",
   "metadata": {},
   "source": [
    "#### Tenemos 19 registros cuyo \"montoSolicitado\" es mayor a 3 desviaciones estándar.\n",
    "Eso solo como información ya que no podemos considerarlos como outliers, pero si podemos tenerlos en cuenta para algún tipo de \"TRATAMIENTO ESPECIAL\" ya que son créditos solicitados mucho mas altos de lo normal!!"
   ]
  },
  {
   "cell_type": "code",
   "execution_count": 278,
   "id": "0841bf80-3d8f-4f47-8972-02172b39dc9e",
   "metadata": {},
   "outputs": [
    {
     "data": {
      "text/plain": [
       "<AxesSubplot:xlabel='montoSolicitado'>"
      ]
     },
     "execution_count": 278,
     "metadata": {},
     "output_type": "execute_result"
    },
    {
     "data": {
      "image/png": "[encoded data removed]",
      "text/plain": [
       "<Figure size 432x288 with 1 Axes>"
      ]
     },
     "metadata": {},
     "output_type": "display_data"
    }
   ],
   "source": [
    "sns.boxplot(X_train['montoSolicitado'])"
   ]
  },
  {
   "cell_type": "markdown",
   "id": "21580c37-627c-4d02-b600-91458db32608",
   "metadata": {},
   "source": [
    "### 1.3.2 Valores atípicos para \"ingresosMensuales\""
   ]
  },
  {
   "cell_type": "code",
   "execution_count": 279,
   "id": "313ecc71-83c7-40f0-ac8b-624bdd603fa6",
   "metadata": {},
   "outputs": [
    {
     "name": "stdout",
     "output_type": "stream",
     "text": [
      "Lower limit: -90017.24282643576\n",
      "Upper limit: 139723.14114643575\n",
      "Number of records with anomalies: 14\n",
      "Number of records with NO anomalies: 986\n"
     ]
    }
   ],
   "source": [
    "(anomalies_ingresosMensuales, \n",
    " no_anomalies_ingresosMensuales) = find_anomalies(X_train.set_index('ID')[['ingresosMensuales']])\n",
    "print(f\"Number of records with anomalies: {len(anomalies_ingresosMensuales)}\")\n",
    "print(f\"Number of records with NO anomalies: {len(no_anomalies_ingresosMensuales)}\")"
   ]
  },
  {
   "cell_type": "code",
   "execution_count": 280,
   "id": "2529d9e4-1da2-4fff-a2ce-b14fbba37329",
   "metadata": {},
   "outputs": [
    {
     "name": "stdout",
     "output_type": "stream",
     "text": [
      "ID: 77 , Ingresos mensuales 150000.0\n",
      "ID: 148 , Ingresos mensuales 200000.0\n",
      "ID: 230 , Ingresos mensuales 150000.0\n",
      "ID: 235 , Ingresos mensuales 350000.0\n",
      "ID: 236 , Ingresos mensuales 150000.0\n",
      "ID: 313 , Ingresos mensuales 150000.0\n",
      "ID: 386 , Ingresos mensuales 160000.0\n",
      "ID: 561 , Ingresos mensuales 180000.0\n",
      "ID: 573 , Ingresos mensuales 140000.0\n",
      "ID: 649 , Ingresos mensuales 170000.0\n",
      "ID: 706 , Ingresos mensuales 900000.0\n",
      "ID: 755 , Ingresos mensuales 180000.0\n",
      "ID: 845 , Ingresos mensuales 150000.0\n",
      "ID: 864 , Ingresos mensuales 150000.0\n"
     ]
    }
   ],
   "source": [
    "for row in anomalies_ingresosMensuales:\n",
    "    print(\"ID:\",row[0], \", Ingresos mensuales\", row[1][0]) "
   ]
  },
  {
   "cell_type": "markdown",
   "id": "20367fc7-c6da-4e22-9c01-4f5887dfe53f",
   "metadata": {},
   "source": [
    "#### Tenemos 19 registros cuyo \"ingresosMensuales\" es mayor a 3 desviaciones estándar.\n",
    "Eso solo como información ya que no podemos considerarlos como outliers, pero si podemos tenerlos en cuenta para algún tipo de \"TRATAMIENTO ESPECIAL\" ya que los ingresos mensuales son mucho mas altos de lo normal!!"
   ]
  },
  {
   "cell_type": "code",
   "execution_count": 281,
   "id": "4c136469-800d-46ba-9a27-336f9a764dfd",
   "metadata": {},
   "outputs": [
    {
     "data": {
      "text/plain": [
       "<AxesSubplot:xlabel='ingresosMensuales'>"
      ]
     },
     "execution_count": 281,
     "metadata": {},
     "output_type": "execute_result"
    },
    {
     "data": {
      "image/png": "[encoded data removed]",
      "text/plain": [
       "<Figure size 432x288 with 1 Axes>"
      ]
     },
     "metadata": {},
     "output_type": "display_data"
    }
   ],
   "source": [
    "sns.boxplot(X_train['ingresosMensuales'])"
   ]
  },
  {
   "cell_type": "code",
   "execution_count": 282,
   "id": "a2c2ec71-9420-4c8d-93bf-df023f67ec1b",
   "metadata": {},
   "outputs": [],
   "source": [
    "df_anomalies_montoSolicitado = pd.DataFrame(anomalies_montoSolicitado, columns = ['ID','Otro'])\n",
    "df_anomalies_ingresosMensuales = pd.DataFrame(anomalies_ingresosMensuales, columns = ['ID','Otro'])"
   ]
  },
  {
   "cell_type": "code",
   "execution_count": 283,
   "id": "9186d09c-1057-4df8-9900-3d0c358a1a43",
   "metadata": {},
   "outputs": [
    {
     "name": "stdout",
     "output_type": "stream",
     "text": [
      "0     77\n",
      "1    313\n",
      "2    386\n",
      "3    561\n",
      "4    755\n",
      "5    864\n",
      "Name: ID, dtype: int64\n"
     ]
    }
   ],
   "source": [
    "outliers_1_2 = (pd.merge(df_anomalies_montoSolicitado, \n",
    "                         df_anomalies_ingresosMensuales, \n",
    "                         how='inner', on = \"ID\")['ID'])\n",
    "print(outliers_1_2)"
   ]
  },
  {
   "cell_type": "markdown",
   "id": "bc0334d1-1bac-43a6-9182-545502263c84",
   "metadata": {},
   "source": [
    "#### 5 registros tienen mas de 3 desviaciones estándar en los campos de \"montoSolicitado\" e \"ingresosMensuales\".\n",
    "Estos resultados reflejan el hecho de que para pedir montos \"altos\" de crédito también es necesario tener ingresos mensuales \"altos\", estos registros cumplen con ese requisito."
   ]
  },
  {
   "cell_type": "markdown",
   "id": "b20d5215-13cb-4a48-b911-9679438b009a",
   "metadata": {},
   "source": [
    "### 1.3.3 Valores atípicos para \"gastosMensuales\""
   ]
  },
  {
   "cell_type": "code",
   "execution_count": 284,
   "id": "fb1007c0-7831-445f-9f58-d0cbeb73537f",
   "metadata": {},
   "outputs": [
    {
     "name": "stdout",
     "output_type": "stream",
     "text": [
      "Lower limit: -73758.41371660455\n",
      "Upper limit: 99143.32571660457\n",
      "Number of records with anomalies: 6\n",
      "Number of records with NO anomalies: 994\n"
     ]
    }
   ],
   "source": [
    "(anomalies_gastosMensuales, \n",
    " no_anomalies_gastosMensuales) = find_anomalies(X_train.set_index('ID')[['gastosMensuales']])\n",
    "print(f\"Number of records with anomalies: {len(anomalies_gastosMensuales)}\")\n",
    "print(f\"Number of records with NO anomalies: {len(no_anomalies_gastosMensuales)}\")"
   ]
  },
  {
   "cell_type": "code",
   "execution_count": 285,
   "id": "b6b187e2-aefb-4364-885b-d21e9231cdbd",
   "metadata": {},
   "outputs": [
    {
     "name": "stdout",
     "output_type": "stream",
     "text": [
      "ID: 148 , gastos Mensuales 150000\n",
      "ID: 235 , gastos Mensuales 300000\n",
      "ID: 386 , gastos Mensuales 120000\n",
      "ID: 561 , gastos Mensuales 120000\n",
      "ID: 706 , gastos Mensuales 750000\n",
      "ID: 845 , gastos Mensuales 100000\n"
     ]
    }
   ],
   "source": [
    "for row in anomalies_gastosMensuales:\n",
    "    print(\"ID:\",row[0], \", gastos Mensuales\", row[1][0]) "
   ]
  },
  {
   "cell_type": "code",
   "execution_count": 286,
   "id": "3f665b2e-094d-441c-919a-5ca6da219bde",
   "metadata": {},
   "outputs": [
    {
     "data": {
      "text/plain": [
       "<AxesSubplot:xlabel='gastosMensuales'>"
      ]
     },
     "execution_count": 286,
     "metadata": {},
     "output_type": "execute_result"
    },
    {
     "data": {
      "image/png": "[encoded data removed]",
      "text/plain": [
       "<Figure size 432x288 with 1 Axes>"
      ]
     },
     "metadata": {},
     "output_type": "display_data"
    }
   ],
   "source": [
    "sns.boxplot(X_train['gastosMensuales'])"
   ]
  },
  {
   "cell_type": "code",
   "execution_count": 287,
   "id": "33cf8ca8-d564-4cd3-81f6-60408e52886a",
   "metadata": {},
   "outputs": [],
   "source": [
    "df_anomalies_gastosMensuales = pd.DataFrame(anomalies_gastosMensuales, columns = ['ID','Otro'])"
   ]
  },
  {
   "cell_type": "code",
   "execution_count": 288,
   "id": "b04f7059-ac8c-4d18-8584-ed3976111b2e",
   "metadata": {},
   "outputs": [
    {
     "name": "stdout",
     "output_type": "stream",
     "text": [
      "[386 561]\n"
     ]
    }
   ],
   "source": [
    "outliers_1_2_3 = (pd.merge(outliers_1_2, \n",
    "                           df_anomalies_gastosMensuales,\n",
    "                           how='inner', on = \"ID\")['ID'].values)\n",
    "print(outliers_1_2_3)"
   ]
  },
  {
   "cell_type": "markdown",
   "id": "6f0ed531-1e8e-4cb1-b134-73e720d193c3",
   "metadata": {},
   "source": [
    "#### Nota: Hay solo 2 registros que cumplen con la condición de tener \"monto solicitado\", \"ingresos mensuales\" y \"gastos mensuales\" ALTOS"
   ]
  },
  {
   "cell_type": "markdown",
   "id": "42e86b59-1dcc-4c50-92db-d18842553fb8",
   "metadata": {},
   "source": [
    "## 1.4 Codificación de variables categóricas"
   ]
  },
  {
   "cell_type": "markdown",
   "id": "04dc2d0e-8656-45e9-b3b4-ea7765651937",
   "metadata": {
    "tags": []
   },
   "source": [
    "#### Los campos 'genero' y 'nivelEstudio\" son necesario categorizarlos\n"
   ]
  },
  {
   "cell_type": "markdown",
   "id": "6f41bd5a-5440-409e-80cf-0c094657ecac",
   "metadata": {},
   "source": [
    "Unimos los dataframe de X_train y X_test (luego los volveremos a separar) para realizar la codificación de variables categóricas de forma homogénea en ambos conjuntos de datos"
   ]
  },
  {
   "cell_type": "code",
   "execution_count": 289,
   "id": "fd4d14c2-1eac-4a27-819c-69d7d6ceeda2",
   "metadata": {},
   "outputs": [],
   "source": [
    "df_train_and_test = pd.concat([X_train, X_test], axis = 0)"
   ]
  },
  {
   "cell_type": "code",
   "execution_count": 290,
   "id": "798575de-10b0-42e7-ba86-668be5b4f9ce",
   "metadata": {},
   "outputs": [
    {
     "name": "stdout",
     "output_type": "stream",
     "text": [
      "Número total de registros: 1300\n"
     ]
    }
   ],
   "source": [
    "print(f\"Número total de registros: {len(df_train_and_test)}\")"
   ]
  },
  {
   "cell_type": "markdown",
   "id": "a768a465-1187-4c4d-a590-6ddf07b0c8b8",
   "metadata": {},
   "source": [
    "#### Ahora tenemos un DataFrame cuyos últimos 300 registros son del set de test, luego los separaremos"
   ]
  },
  {
   "cell_type": "code",
   "execution_count": 291,
   "id": "a8330818-ebc1-4311-b191-5d976f031a78",
   "metadata": {
    "tags": []
   },
   "outputs": [],
   "source": [
    "# Para los campos de 'genero' y 'nivelEstudio' es necesario categorizarlos \n",
    "# entonces creamos las variables dummies \n",
    "dummies = pd.get_dummies(df_train_and_test[['genero', 'nivelEstudio']])\n",
    "\n",
    "# Añadimos las variables binarias al DataFrame de entrenamiento\n",
    "df_train_and_test = pd.concat([df_train_and_test, dummies], axis = 1)\n",
    "# Eliminamos la variables originales \"genero\" y \"nivelEstudio\"\n",
    "df_train_and_test = df_train_and_test.drop(columns=['genero','nivelEstudio'])"
   ]
  },
  {
   "cell_type": "markdown",
   "id": "1af67605-8dd5-4681-a9ef-e16179c760a9",
   "metadata": {
    "tags": []
   },
   "source": [
    "# 2. Pre-procesamiento de los datos"
   ]
  },
  {
   "cell_type": "markdown",
   "id": "7adac2e7-ee6a-4616-9847-ab4ce2b7fa06",
   "metadata": {},
   "source": [
    "## 2.1 Normalización\n",
    "Ajustaremos las variables a una escala del 0 - 1 para que el modelo \"comprenda\" mejor, después de la normalización, se acelera la velocidad de descenso del gradiente para encontrar la solución óptima y se puede mejorar la precisión.\n",
    "Los campos que normalizaremos serán:\n",
    "- edad\n",
    "- montoSolicitado\n",
    "- montoOtorgado\n",
    "- fico\n",
    "- ingresosMensuales\n",
    "- gastosMensuales"
   ]
  },
  {
   "cell_type": "code",
   "execution_count": 292,
   "id": "66d5b1a0-80c7-4bb4-a3a7-36278364dbf3",
   "metadata": {},
   "outputs": [
    {
     "data": {
      "text/plain": [
       "Index(['ID', 'edad', 'montoSolicitado', 'montoOtorgado', 'quincenal',\n",
       "       'dependientesEconomicos', 'fico', 'ingresosMensuales',\n",
       "       'gastosMensuales', 'emailScore', 'browser', 'NUMTDC_AV',\n",
       "       'genero_Hombre', 'genero_Mujer', 'nivelEstudio_Doctorado',\n",
       "       'nivelEstudio_Maestr√≠a', 'nivelEstudio_Ninguno',\n",
       "       'nivelEstudio_Preparatoria', 'nivelEstudio_Primaria',\n",
       "       'nivelEstudio_Secundaria', 'nivelEstudio_Universidad'],\n",
       "      dtype='object')"
      ]
     },
     "execution_count": 292,
     "metadata": {},
     "output_type": "execute_result"
    }
   ],
   "source": [
    "df_train_and_test.columns"
   ]
  },
  {
   "cell_type": "code",
   "execution_count": 293,
   "id": "4307c985-9dab-452c-8ee6-76bf072492c8",
   "metadata": {},
   "outputs": [],
   "source": [
    "min_max_scaler = preprocessing.MinMaxScaler()"
   ]
  },
  {
   "cell_type": "code",
   "execution_count": 294,
   "id": "39843a5c-adad-456c-80fa-9f543bced40d",
   "metadata": {},
   "outputs": [],
   "source": [
    "seleccion = ['edad','montoSolicitado','montoOtorgado','fico','ingresosMensuales','gastosMensuales']\n",
    "df_train_and_test[seleccion] = min_max_scaler.fit_transform(df_train_and_test[seleccion])"
   ]
  },
  {
   "cell_type": "code",
   "execution_count": 295,
   "id": "b6fabb36-840b-4560-a858-d31fe4386a68",
   "metadata": {},
   "outputs": [
    {
     "data": {
      "text/html": [
       "<div>\n",
       "<style scoped>\n",
       "    .dataframe tbody tr th:only-of-type {\n",
       "        vertical-align: middle;\n",
       "    }\n",
       "\n",
       "    .dataframe tbody tr th {\n",
       "        vertical-align: top;\n",
       "    }\n",
       "\n",
       "    .dataframe thead th {\n",
       "        text-align: right;\n",
       "    }\n",
       "</style>\n",
       "<table border=\"1\" class=\"dataframe\">\n",
       "  <thead>\n",
       "    <tr style=\"text-align: right;\">\n",
       "      <th></th>\n",
       "      <th>ID</th>\n",
       "      <th>edad</th>\n",
       "      <th>montoSolicitado</th>\n",
       "      <th>montoOtorgado</th>\n",
       "      <th>quincenal</th>\n",
       "      <th>dependientesEconomicos</th>\n",
       "      <th>fico</th>\n",
       "      <th>ingresosMensuales</th>\n",
       "      <th>gastosMensuales</th>\n",
       "      <th>emailScore</th>\n",
       "      <th>...</th>\n",
       "      <th>NUMTDC_AV</th>\n",
       "      <th>genero_Hombre</th>\n",
       "      <th>genero_Mujer</th>\n",
       "      <th>nivelEstudio_Doctorado</th>\n",
       "      <th>nivelEstudio_Maestr√≠a</th>\n",
       "      <th>nivelEstudio_Ninguno</th>\n",
       "      <th>nivelEstudio_Preparatoria</th>\n",
       "      <th>nivelEstudio_Primaria</th>\n",
       "      <th>nivelEstudio_Secundaria</th>\n",
       "      <th>nivelEstudio_Universidad</th>\n",
       "    </tr>\n",
       "  </thead>\n",
       "  <tbody>\n",
       "    <tr>\n",
       "      <th>0</th>\n",
       "      <td>1</td>\n",
       "      <td>0.392157</td>\n",
       "      <td>0.073087</td>\n",
       "      <td>0.110000</td>\n",
       "      <td>0</td>\n",
       "      <td>1</td>\n",
       "      <td>0.750000</td>\n",
       "      <td>0.007765</td>\n",
       "      <td>0.009331</td>\n",
       "      <td>0.0</td>\n",
       "      <td>...</td>\n",
       "      <td>1.0</td>\n",
       "      <td>1</td>\n",
       "      <td>0</td>\n",
       "      <td>0</td>\n",
       "      <td>0</td>\n",
       "      <td>0</td>\n",
       "      <td>0</td>\n",
       "      <td>0</td>\n",
       "      <td>0</td>\n",
       "      <td>1</td>\n",
       "    </tr>\n",
       "    <tr>\n",
       "      <th>1</th>\n",
       "      <td>2</td>\n",
       "      <td>0.156863</td>\n",
       "      <td>0.018121</td>\n",
       "      <td>0.027273</td>\n",
       "      <td>1</td>\n",
       "      <td>0</td>\n",
       "      <td>0.867647</td>\n",
       "      <td>0.008876</td>\n",
       "      <td>0.003997</td>\n",
       "      <td>0.0</td>\n",
       "      <td>...</td>\n",
       "      <td>1.0</td>\n",
       "      <td>1</td>\n",
       "      <td>0</td>\n",
       "      <td>0</td>\n",
       "      <td>0</td>\n",
       "      <td>0</td>\n",
       "      <td>1</td>\n",
       "      <td>0</td>\n",
       "      <td>0</td>\n",
       "      <td>0</td>\n",
       "    </tr>\n",
       "    <tr>\n",
       "      <th>2</th>\n",
       "      <td>3</td>\n",
       "      <td>0.196078</td>\n",
       "      <td>0.087114</td>\n",
       "      <td>0.131111</td>\n",
       "      <td>0</td>\n",
       "      <td>0</td>\n",
       "      <td>0.768717</td>\n",
       "      <td>0.008320</td>\n",
       "      <td>0.002664</td>\n",
       "      <td>1.0</td>\n",
       "      <td>...</td>\n",
       "      <td>3.0</td>\n",
       "      <td>1</td>\n",
       "      <td>0</td>\n",
       "      <td>0</td>\n",
       "      <td>0</td>\n",
       "      <td>0</td>\n",
       "      <td>0</td>\n",
       "      <td>0</td>\n",
       "      <td>0</td>\n",
       "      <td>1</td>\n",
       "    </tr>\n",
       "    <tr>\n",
       "      <th>3</th>\n",
       "      <td>4</td>\n",
       "      <td>0.176471</td>\n",
       "      <td>0.073933</td>\n",
       "      <td>0.053394</td>\n",
       "      <td>0</td>\n",
       "      <td>0</td>\n",
       "      <td>0.870321</td>\n",
       "      <td>0.014209</td>\n",
       "      <td>0.005731</td>\n",
       "      <td>1.0</td>\n",
       "      <td>...</td>\n",
       "      <td>1.0</td>\n",
       "      <td>1</td>\n",
       "      <td>0</td>\n",
       "      <td>0</td>\n",
       "      <td>0</td>\n",
       "      <td>0</td>\n",
       "      <td>0</td>\n",
       "      <td>0</td>\n",
       "      <td>0</td>\n",
       "      <td>1</td>\n",
       "    </tr>\n",
       "    <tr>\n",
       "      <th>4</th>\n",
       "      <td>5</td>\n",
       "      <td>0.254902</td>\n",
       "      <td>0.127517</td>\n",
       "      <td>0.111111</td>\n",
       "      <td>1</td>\n",
       "      <td>1</td>\n",
       "      <td>0.593583</td>\n",
       "      <td>0.022209</td>\n",
       "      <td>0.015997</td>\n",
       "      <td>1.0</td>\n",
       "      <td>...</td>\n",
       "      <td>1.0</td>\n",
       "      <td>1</td>\n",
       "      <td>0</td>\n",
       "      <td>0</td>\n",
       "      <td>0</td>\n",
       "      <td>0</td>\n",
       "      <td>0</td>\n",
       "      <td>0</td>\n",
       "      <td>0</td>\n",
       "      <td>1</td>\n",
       "    </tr>\n",
       "  </tbody>\n",
       "</table>\n",
       "<p>5 rows × 21 columns</p>\n",
       "</div>"
      ],
      "text/plain": [
       "   ID      edad  montoSolicitado  montoOtorgado  quincenal  \\\n",
       "0   1  0.392157         0.073087       0.110000          0   \n",
       "1   2  0.156863         0.018121       0.027273          1   \n",
       "2   3  0.196078         0.087114       0.131111          0   \n",
       "3   4  0.176471         0.073933       0.053394          0   \n",
       "4   5  0.254902         0.127517       0.111111          1   \n",
       "\n",
       "   dependientesEconomicos      fico  ingresosMensuales  gastosMensuales  \\\n",
       "0                       1  0.750000           0.007765         0.009331   \n",
       "1                       0  0.867647           0.008876         0.003997   \n",
       "2                       0  0.768717           0.008320         0.002664   \n",
       "3                       0  0.870321           0.014209         0.005731   \n",
       "4                       1  0.593583           0.022209         0.015997   \n",
       "\n",
       "   emailScore  ... NUMTDC_AV  genero_Hombre  genero_Mujer  \\\n",
       "0         0.0  ...       1.0              1             0   \n",
       "1         0.0  ...       1.0              1             0   \n",
       "2         1.0  ...       3.0              1             0   \n",
       "3         1.0  ...       1.0              1             0   \n",
       "4         1.0  ...       1.0              1             0   \n",
       "\n",
       "   nivelEstudio_Doctorado  nivelEstudio_Maestr√≠a  nivelEstudio_Ninguno  \\\n",
       "0                       0                       0                     0   \n",
       "1                       0                       0                     0   \n",
       "2                       0                       0                     0   \n",
       "3                       0                       0                     0   \n",
       "4                       0                       0                     0   \n",
       "\n",
       "   nivelEstudio_Preparatoria  nivelEstudio_Primaria  nivelEstudio_Secundaria  \\\n",
       "0                          0                      0                        0   \n",
       "1                          1                      0                        0   \n",
       "2                          0                      0                        0   \n",
       "3                          0                      0                        0   \n",
       "4                          0                      0                        0   \n",
       "\n",
       "   nivelEstudio_Universidad  \n",
       "0                         1  \n",
       "1                         0  \n",
       "2                         1  \n",
       "3                         1  \n",
       "4                         1  \n",
       "\n",
       "[5 rows x 21 columns]"
      ]
     },
     "execution_count": 295,
     "metadata": {},
     "output_type": "execute_result"
    }
   ],
   "source": [
    "df_train_and_test.head()"
   ]
  },
  {
   "cell_type": "markdown",
   "id": "abf13d0d-ba88-45f8-a50f-5a9afad7c931",
   "metadata": {},
   "source": [
    "#### Listo! tenemos las variables numéricas normalizadas\n",
    "#### Ahora volvemos a dividir el dataset en \"entrenamiento\" y \"test\""
   ]
  },
  {
   "cell_type": "code",
   "execution_count": 296,
   "id": "c233366b-03d2-41a3-acbe-5fe498900217",
   "metadata": {},
   "outputs": [],
   "source": [
    "X_train = df_train_and_test.iloc[0:1000]\n",
    "X_test = df_train_and_test.iloc[1000:]"
   ]
  },
  {
   "cell_type": "code",
   "execution_count": 297,
   "id": "2bc473b3-9e86-4753-a824-1d9f6a03ba4a",
   "metadata": {},
   "outputs": [
    {
     "name": "stdout",
     "output_type": "stream",
     "text": [
      "Dataset de training: 1000\n",
      "Dataset de test: 300\n"
     ]
    }
   ],
   "source": [
    "print(f\"Dataset de training: {len(X_train)}\")\n",
    "print(f\"Dataset de test: {len(X_test)}\")"
   ]
  },
  {
   "cell_type": "markdown",
   "id": "142ed2ff-0811-4b33-a3e5-443ece6c80c8",
   "metadata": {},
   "source": [
    "#### Listo! tenemos X_train y X_test de vuelta"
   ]
  },
  {
   "cell_type": "markdown",
   "id": "a5654c38-aa67-444f-a3d5-bd7246e84c05",
   "metadata": {},
   "source": [
    "## 2.2 Correlación\n",
    "Utilizaremos para la correlación X_train y y_train"
   ]
  },
  {
   "cell_type": "code",
   "execution_count": 298,
   "id": "bde640bb-ef9a-4521-a931-eac13439c6f6",
   "metadata": {},
   "outputs": [],
   "source": [
    "# Matriz der correlacion\n",
    "df_correlation = pd.concat([X_train, y_train], axis = 1)"
   ]
  },
  {
   "cell_type": "code",
   "execution_count": 299,
   "id": "4c215570-0fdb-4c51-a38b-38e5bdf6baa9",
   "metadata": {},
   "outputs": [
    {
     "data": {
      "text/plain": [
       "0         1\n",
       "1         2\n",
       "2         3\n",
       "3         4\n",
       "4         5\n",
       "       ... \n",
       "995     996\n",
       "996     997\n",
       "997     998\n",
       "998     999\n",
       "999    1000\n",
       "Name: ID, Length: 1000, dtype: int64"
      ]
     },
     "execution_count": 299,
     "metadata": {},
     "output_type": "execute_result"
    }
   ],
   "source": [
    "# Eliminaremos el campo \"ID\" de la matriz de correlación, es solo un identificador, no se correlaciona con nada\n",
    "df_correlation.pop(\"ID\")"
   ]
  },
  {
   "cell_type": "code",
   "execution_count": 300,
   "id": "2f0ef8ae-acb5-4ec3-954a-c4876d9da97a",
   "metadata": {},
   "outputs": [
    {
     "data": {
      "text/plain": [
       "<AxesSubplot:>"
      ]
     },
     "execution_count": 300,
     "metadata": {},
     "output_type": "execute_result"
    },
    {
     "data": {
      "image/png": "[encoded data removed]",
      "text/plain": [
       "<Figure size 1512x432 with 2 Axes>"
      ]
     },
     "metadata": {},
     "output_type": "display_data"
    }
   ],
   "source": [
    "k = len(df_correlation.columns) # Número de variables para el heatmap\n",
    "cols = df_correlation.corr().nlargest(k, 'label')['label'].index\n",
    "cm = df_correlation[cols].corr()\n",
    "plt.figure(figsize=(21,6))\n",
    "sns.heatmap(cm, annot=True, cmap = 'Reds')"
   ]
  },
  {
   "cell_type": "code",
   "execution_count": 301,
   "id": "112bfe37-d8d2-4da1-85bd-29ef72f7bae8",
   "metadata": {},
   "outputs": [
    {
     "data": {
      "text/plain": [
       "array(['ID', 'edad', 'montoSolicitado', 'montoOtorgado', 'quincenal',\n",
       "       'dependientesEconomicos', 'fico', 'ingresosMensuales',\n",
       "       'gastosMensuales', 'emailScore', 'browser', 'NUMTDC_AV',\n",
       "       'genero_Hombre', 'genero_Mujer', 'nivelEstudio_Doctorado',\n",
       "       'nivelEstudio_Maestr√≠a', 'nivelEstudio_Ninguno',\n",
       "       'nivelEstudio_Preparatoria', 'nivelEstudio_Primaria',\n",
       "       'nivelEstudio_Secundaria', 'nivelEstudio_Universidad'],\n",
       "      dtype=object)"
      ]
     },
     "execution_count": 301,
     "metadata": {},
     "output_type": "execute_result"
    }
   ],
   "source": [
    "X_train.columns.values"
   ]
  },
  {
   "cell_type": "code",
   "execution_count": 302,
   "id": "902c1dd9-4746-48ff-a793-5971ecdc6aec",
   "metadata": {},
   "outputs": [
    {
     "name": "stdout",
     "output_type": "stream",
     "text": [
      "\n",
      "BEST FEATURES (from 0-98)\n",
      "=========================\n",
      "\n",
      "                        Specs      Score\n",
      "0                        edad  21.892794\n",
      "15  nivelEstudio_Preparatoria   9.014127\n",
      "18   nivelEstudio_Universidad   8.045949\n",
      "5                        fico   4.176001\n",
      "9                   NUMTDC_AV   3.670982\n",
      "13     nivelEstudio_Maestr√≠a   3.554521\n",
      "6           ingresosMensuales   3.246072\n",
      "17    nivelEstudio_Secundaria   2.736160\n",
      "1             montoSolicitado   2.570923\n",
      "16      nivelEstudio_Primaria   1.555561\n",
      "7             gastosMensuales   1.354085\n",
      "2               montoOtorgado   1.077608\n",
      "12     nivelEstudio_Doctorado   0.847722\n",
      "8                  emailScore   0.600474\n",
      "14       nivelEstudio_Ninguno   0.281849\n",
      "4      dependientesEconomicos   0.170298\n",
      "3                   quincenal   0.076971\n",
      "10              genero_Hombre   0.000933\n",
      "11               genero_Mujer   0.000933\n"
     ]
    }
   ],
   "source": [
    "# Aplicamos SelectKBest para extraer las mejores características\n",
    "bestfeatures = SelectKBest(score_func=f_regression, k='all')\n",
    "\n",
    "seleccion = ['edad', 'montoSolicitado', 'montoOtorgado', 'quincenal',\n",
    "             'dependientesEconomicos', 'fico', 'ingresosMensuales',\n",
    "             'gastosMensuales', 'emailScore', 'NUMTDC_AV',\n",
    "             'genero_Hombre', 'genero_Mujer', 'nivelEstudio_Doctorado',\n",
    "             'nivelEstudio_Maestr√≠a', 'nivelEstudio_Ninguno',\n",
    "             'nivelEstudio_Preparatoria', 'nivelEstudio_Primaria',\n",
    "             'nivelEstudio_Secundaria', 'nivelEstudio_Universidad']\n",
    "fit = bestfeatures.fit(X_train[seleccion],y_train)\n",
    "dfscores = pd.DataFrame(fit.scores_)\n",
    "dfcolumns = pd.DataFrame(X_train[seleccion].columns)\n",
    "\n",
    "# Concatenamos los 2 dataframes para una mejor visualización \n",
    "featureScores = pd.concat([dfcolumns,dfscores],axis=1)\n",
    "featureScores.columns = ['Specs','Score']  \n",
    "print(\"\\nBEST FEATURES (from 0-98)\")\n",
    "print(\"=========================\\n\")\n",
    "print(featureScores.nlargest(20,'Score'))  # Desplegamos las mejores características"
   ]
  },
  {
   "cell_type": "markdown",
   "id": "fc0abc40-5832-4eab-b1ff-29786794f3e5",
   "metadata": {},
   "source": [
    "#### Tomaremos las características cuyo valor de relevancia sea mayor o igual 1 "
   ]
  },
  {
   "cell_type": "code",
   "execution_count": 303,
   "id": "1efd2b1c-b11e-48cc-b874-257ca288f811",
   "metadata": {},
   "outputs": [
    {
     "name": "stdout",
     "output_type": "stream",
     "text": [
      "['edad', 'montoSolicitado', 'montoOtorgado', 'fico', 'ingresosMensuales', 'gastosMensuales', 'NUMTDC_AV', 'nivelEstudio_Maestr√≠a', 'nivelEstudio_Preparatoria', 'nivelEstudio_Primaria', 'nivelEstudio_Secundaria', 'nivelEstudio_Universidad']\n"
     ]
    }
   ],
   "source": [
    "features = featureScores[featureScores['Score'] >= 1]['Specs'].to_list()\n",
    "print(features)"
   ]
  },
  {
   "cell_type": "code",
   "execution_count": 304,
   "id": "cf72741f-5620-4f97-a0b9-717e0a6ba3a9",
   "metadata": {},
   "outputs": [],
   "source": [
    "X_train = X_train[features]\n",
    "X_test = X_test[features]"
   ]
  },
  {
   "cell_type": "code",
   "execution_count": 305,
   "id": "fc9cf56d-21cc-4fc3-948a-a22673ac08bf",
   "metadata": {},
   "outputs": [
    {
     "name": "stdout",
     "output_type": "stream",
     "text": [
      "<class 'pandas.core.frame.DataFrame'>\n",
      "Int64Index: 1000 entries, 0 to 999\n",
      "Data columns (total 12 columns):\n",
      " #   Column                     Non-Null Count  Dtype  \n",
      "---  ------                     --------------  -----  \n",
      " 0   edad                       1000 non-null   float64\n",
      " 1   montoSolicitado            1000 non-null   float64\n",
      " 2   montoOtorgado              1000 non-null   float64\n",
      " 3   fico                       1000 non-null   float64\n",
      " 4   ingresosMensuales          1000 non-null   float64\n",
      " 5   gastosMensuales            1000 non-null   float64\n",
      " 6   NUMTDC_AV                  1000 non-null   float64\n",
      " 7   nivelEstudio_Maestr√≠a     1000 non-null   uint8  \n",
      " 8   nivelEstudio_Preparatoria  1000 non-null   uint8  \n",
      " 9   nivelEstudio_Primaria      1000 non-null   uint8  \n",
      " 10  nivelEstudio_Secundaria    1000 non-null   uint8  \n",
      " 11  nivelEstudio_Universidad   1000 non-null   uint8  \n",
      "dtypes: float64(7), uint8(5)\n",
      "memory usage: 67.4 KB\n"
     ]
    }
   ],
   "source": [
    "X_train.info()"
   ]
  },
  {
   "cell_type": "markdown",
   "id": "2827642e-f837-4597-827b-b1afd26f97b1",
   "metadata": {
    "tags": []
   },
   "source": [
    "## 2.3: Imbalanceo de clases\n",
    "Entrenar un modelo con imbalanceo de clases podría fectar negativamente el \"accuracy\" de las predicciones, de tal manera que se procederá a hacer un \"resampling\" de los datos para que desaparezca ese imbalanceo.\n",
    "Hay 780 clientes \"NO MOROSOS\" y 220 clientes \"MOROSOS\"."
   ]
  },
  {
   "cell_type": "code",
   "execution_count": 306,
   "id": "efbb59f6-7cd8-44ff-a8bf-19a024e6e3c8",
   "metadata": {
    "tags": []
   },
   "outputs": [
    {
     "name": "stdout",
     "output_type": "stream",
     "text": [
      "label\n",
      "0    780\n",
      "1    220\n",
      "Name: label, dtype: int64\n"
     ]
    }
   ],
   "source": [
    "imbalanceo = y_train.groupby(\"label\")[\"label\"].count()\n",
    "print(imbalanceo)"
   ]
  },
  {
   "cell_type": "markdown",
   "id": "5d8a1b20-c5c5-40c9-8054-de5dbb0c111e",
   "metadata": {},
   "source": [
    "#### Hay un imbalanceo de clases, 780 = 0 (no morosos) y 220 = 1 (morosos)"
   ]
  },
  {
   "cell_type": "code",
   "execution_count": 307,
   "id": "f00aa333-2f43-40e7-ba01-68ba8b9b0e8a",
   "metadata": {},
   "outputs": [
    {
     "data": {
      "image/png": "[encoded data removed]",
      "text/plain": [
       "<Figure size 576x576 with 1 Axes>"
      ]
     },
     "metadata": {},
     "output_type": "display_data"
    }
   ],
   "source": [
    "imbalanceo.plot.pie(figsize=(8, 8));"
   ]
  },
  {
   "cell_type": "markdown",
   "id": "c41c7a07-0e85-4ea1-a4a2-e1eb4baa0501",
   "metadata": {},
   "source": [
    "#### Para balancear las clases haremos un resampling con SMOTE (OverSampling)"
   ]
  },
  {
   "cell_type": "code",
   "execution_count": 308,
   "id": "bc7f8850-44d0-479f-8b83-92534d24c6bb",
   "metadata": {
    "tags": []
   },
   "outputs": [
    {
     "data": {
      "text/plain": [
       "Counter({'label': 1})"
      ]
     },
     "execution_count": 308,
     "metadata": {},
     "output_type": "execute_result"
    }
   ],
   "source": [
    "# Resample the training data with SMOTE\n",
    "from imblearn.over_sampling import SMOTE\n",
    "\n",
    "X_resampled, y_resampled = SMOTE(random_state=1, sampling_strategy='auto').fit_resample(X_train, y_train)\n",
    "Counter(y_resampled)"
   ]
  },
  {
   "cell_type": "code",
   "execution_count": 309,
   "id": "51ce8d36-be1c-4b71-828b-961cb1cf5f8d",
   "metadata": {},
   "outputs": [
    {
     "data": {
      "text/plain": [
       "label\n",
       "0    780\n",
       "1    780\n",
       "Name: label, dtype: int64"
      ]
     },
     "execution_count": 309,
     "metadata": {},
     "output_type": "execute_result"
    }
   ],
   "source": [
    "y_resampled.groupby(\"label\")[\"label\"].count()"
   ]
  },
  {
   "cell_type": "markdown",
   "id": "2d6de0df-2eba-4b1f-b6d7-3ea3724a943e",
   "metadata": {},
   "source": [
    "#### Ahora tenemos las clases balanceadas: \n",
    "- 0: 780\n",
    "- 1: 780 \n",
    "- y además tenemos en total 1560 registros de entrenamiento! antes solo eran 1000!"
   ]
  },
  {
   "cell_type": "markdown",
   "id": "51394d0a-5a67-43a8-b129-58f2500d982a",
   "metadata": {},
   "source": [
    "#### 2.4 Separación del set de entrenamiento y Test\n",
    "Procederemos a realizar la separación de los datos para la obtención del set de entrenamiento y test. Hay otro set de \"Test\" (\"Test Data.csv\") pero ese no tiene etiquetas y será usado solo para hacer las predicciones y enviarlas en un archivo a los técnicos ATRATO para su revisión.\n",
    "Para el entrenamiento tomaremos el 80% de los datos y dejaremos el otro 20% para el test."
   ]
  },
  {
   "cell_type": "code",
   "execution_count": 310,
   "id": "2571cc40-db31-4b87-a228-334c24e6cacd",
   "metadata": {},
   "outputs": [],
   "source": [
    "X, y = X_resampled, y_resampled"
   ]
  },
  {
   "cell_type": "code",
   "execution_count": 311,
   "id": "55d40ff1-e7cd-4859-9572-693241e38dfa",
   "metadata": {},
   "outputs": [],
   "source": [
    "X_train, X_test, y_train, y_test = train_test_split(X, y, test_size=0.2, random_state=1)"
   ]
  },
  {
   "cell_type": "code",
   "execution_count": 312,
   "id": "b0fdb501-5f60-4be4-b37d-966ee9fc3d51",
   "metadata": {},
   "outputs": [
    {
     "name": "stdout",
     "output_type": "stream",
     "text": [
      "Datos de entrenamiento: 1248\n",
      "Datos de entrenamiento: 312\n"
     ]
    }
   ],
   "source": [
    "print(f\"Datos de entrenamiento: {len(X_train)}\")\n",
    "print(f\"Datos de entrenamiento: {len(X_test)}\")"
   ]
  },
  {
   "cell_type": "markdown",
   "id": "34c1160a-ad8c-4ed3-9e23-428b235d39cb",
   "metadata": {},
   "source": [
    "#### Tenemos listo nuestro set de entrenamiento y test :)"
   ]
  },
  {
   "cell_type": "markdown",
   "id": "eebf877c-a935-4b8b-a3af-48b9e2fd66b5",
   "metadata": {},
   "source": [
    "# 3. Entrenamiento y Testing del modelo"
   ]
  },
  {
   "cell_type": "markdown",
   "id": "78ee960f-eba3-49ee-aa5b-7b5a3e183d42",
   "metadata": {},
   "source": [
    "Debido a que teníamos un dataset con alto grado de imbalanceo (al cual le hicimos un OverSampling para nivelarlo), se decidió utilizar las librerías de imblearn que es una biblioteca de código abierto con licencia del MIT que se basa en scikit-learn (importado como sklearn) y proporciona herramientas cuando se trata de la clasificación con clases desequilibradas."
   ]
  },
  {
   "cell_type": "markdown",
   "id": "0ac224a3-8c58-47da-a202-d96e9af627b5",
   "metadata": {},
   "source": [
    "#### Primero creamos dos funciones que nos servirán para representar graficamente la matriz de confusión y el Roc AUC"
   ]
  },
  {
   "cell_type": "code",
   "execution_count": 315,
   "id": "c1298d22-c1c6-469c-a29f-2a929a407574",
   "metadata": {},
   "outputs": [],
   "source": [
    "import itertools\n",
    "from sklearn.metrics import roc_curve, auc, roc_auc_score, log_loss, accuracy_score, confusion_matrix\n",
    "\n",
    "# Gráfico de la matriz de confusión\n",
    "def plot_cm(ax, y_true, y_pred, classes, title, th=0.5, cmap=plt.cm.Blues):\n",
    "    \n",
    "    y_pred_labels = (y_pred > th)\n",
    "    cm = confusion_matrix(y_true, y_pred_labels)\n",
    "    \n",
    "    im = ax.imshow(cm, interpolation = 'nearest', cmap = cmap)\n",
    "    ax.set_title(title)\n",
    "\n",
    "    tick_marks = np.arange(len(classes))\n",
    "    ax.set_xticks(tick_marks)\n",
    "    ax.set_yticks(tick_marks)\n",
    "    ax.set_xticklabels(classes)\n",
    "    ax.set_yticklabels(classes)\n",
    "\n",
    "    thresh = cm.max() / 2.\n",
    "    for i, j in itertools.product(range(cm.shape[0]), range(cm.shape[1])):\n",
    "        ax.text(j, i, cm[i, j],\n",
    "                 horizontalalignment=\"center\",\n",
    "                 color=\"white\" if cm[i, j] > thresh else \"black\")\n",
    "    ax.set_ylabel('True label')\n",
    "    ax.set_xlabel('Predicted label')\n",
    "\n",
    "# Gráfico del Roc AUC\n",
    "def plot_auc(ax, y_train, y_train_pred, y_test, y_test_pred, th=0.5):\n",
    "\n",
    "    y_train_pred_labels = (y_train_pred > th)\n",
    "    y_test_pred_labels  = (y_test_pred > th)\n",
    "\n",
    "    fpr_train, tpr_train, _ = roc_curve(y_train,y_train_pred)\n",
    "    roc_auc_train = auc(fpr_train, tpr_train)\n",
    "    acc_train = accuracy_score(y_train, y_train_pred_labels)\n",
    "\n",
    "    fpr_test, tpr_test, _ = roc_curve(y_test,y_test_pred)\n",
    "    roc_auc_test = auc(fpr_test, tpr_test)\n",
    "    acc_test = accuracy_score(y_test, y_test_pred_labels)\n",
    "\n",
    "    ax.plot(fpr_train, tpr_train)\n",
    "    ax.plot(fpr_test, tpr_test)\n",
    "\n",
    "    ax.plot([0, 1], [0, 1], 'k--')\n",
    "\n",
    "    ax.set_xlim([0.0, 1.0])\n",
    "    ax.set_ylim([0.0, 1.05])\n",
    "    ax.set_xlabel('False Positive Rate')\n",
    "    ax.set_ylabel('True Positive Rate')\n",
    "    ax.set_title('ROC curve')\n",
    "    \n",
    "    train_text = 'train acc = {:.3f}, auc = {:.2f}'.format(acc_train, roc_auc_train)\n",
    "    test_text = 'test acc = {:.3f}, auc = {:.2f}'.format(acc_test, roc_auc_test)\n",
    "    ax.legend([train_text, test_text])"
   ]
  },
  {
   "cell_type": "markdown",
   "id": "e0ea44cb-9e3c-4377-8c21-e29278587c68",
   "metadata": {},
   "source": [
    "## 3.1 Ensemble AdaBoost Classifier\n",
    "El primer algoritmo que probaremos será el algoritmo AdaBoost"
   ]
  },
  {
   "cell_type": "code",
   "execution_count": 324,
   "id": "e8bd9546-430a-4963-8ac4-409426326830",
   "metadata": {},
   "outputs": [
    {
     "data": {
      "text/plain": [
       "EasyEnsembleClassifier(n_estimators=100, random_state=1)"
      ]
     },
     "execution_count": 324,
     "metadata": {},
     "output_type": "execute_result"
    }
   ],
   "source": [
    "# Entrenamiento EasyEnsembleClassifier\n",
    "from imblearn.ensemble import EasyEnsembleClassifier\n",
    "model_ensemble = EasyEnsembleClassifier(n_estimators=100, random_state=1)\n",
    "model_ensemble.fit(X_train, y_train)"
   ]
  },
  {
   "cell_type": "code",
   "execution_count": 325,
   "id": "842847aa-8212-42b2-be93-1b471c248dde",
   "metadata": {},
   "outputs": [
    {
     "data": {
      "text/plain": [
       "0.7167763157894737"
      ]
     },
     "execution_count": 325,
     "metadata": {},
     "output_type": "execute_result"
    }
   ],
   "source": [
    "# Calculo del balanced accuracy score\n",
    "predictions = model_ensemble.predict(X_test)\n",
    "bal_acc_score = balanced_accuracy_score(y_test, predictions)\n",
    "bal_acc_score"
   ]
  },
  {
   "cell_type": "code",
   "execution_count": 326,
   "id": "e8f75919-e36a-4d65-919f-f7eee9a6c847",
   "metadata": {},
   "outputs": [
    {
     "data": {
      "image/png": "[encoded data removed]",
      "text/plain": [
       "<Figure size 1080x360 with 3 Axes>"
      ]
     },
     "metadata": {},
     "output_type": "display_data"
    }
   ],
   "source": [
    "from sklearn.metrics import roc_curve, auc, roc_auc_score, log_loss, accuracy_score\n",
    "\n",
    "threshold = 0.5\n",
    "y_train_pred = model_ensemble.predict_proba(X_train)[:,1]\n",
    "y_test_pred = model_ensemble.predict_proba(X_test)[:,1]\n",
    "\n",
    "fig,ax = plt.subplots(1,3)\n",
    "fig.set_size_inches(15,5)\n",
    "\n",
    "plot_cm(ax[0],  y_train, y_train_pred, [0,1], 'Confusion matrix (TRAIN)', threshold)\n",
    "plot_cm(ax[1],  y_test, y_test_pred,   [0,1], 'Confusion matrix (TEST)', threshold)\n",
    "plot_auc(ax[2], y_train, y_train_pred, y_test, y_test_pred, threshold)\n",
    "    \n",
    "plt.tight_layout()\n",
    "plt.show()"
   ]
  },
  {
   "cell_type": "code",
   "execution_count": 327,
   "id": "08fe679e-f2e0-4d9c-a94f-b36e50910481",
   "metadata": {},
   "outputs": [
    {
     "name": "stdout",
     "output_type": "stream",
     "text": [
      "                      pre       rec       spe        f1       geo       iba       sup\n",
      "\n",
      "Bajo riesgo: 0       0.77      0.64      0.80      0.70      0.71      0.50       160\n",
      "Alto riesgo: 1       0.68      0.80      0.64      0.73      0.71      0.52       152\n",
      "\n",
      "   avg / total       0.72      0.71      0.72      0.71      0.71      0.51       312\n",
      "\n"
     ]
    }
   ],
   "source": [
    "# Imprimimos imbalanced classification report\n",
    "print(classification_report_imbalanced(y_test, predictions, target_names=[\"Bajo riesgo: 0\", \"Alto riesgo: 1\"]))"
   ]
  },
  {
   "cell_type": "markdown",
   "id": "24ee43d9-ffbd-4f55-9fa1-d6ff63552cf4",
   "metadata": {},
   "source": [
    "#### No está mal (para empezar), con AdaBoost tenemos alrededor de 71% de accuracy!"
   ]
  },
  {
   "cell_type": "markdown",
   "id": "b7c8b707-4964-4eb7-a3f6-8d16c6427f9a",
   "metadata": {},
   "source": [
    "## 3.2 BalancedRandomForestClassifier\n",
    "Ahora probaremos con el algoritmo BalancedRandomForestClassifier"
   ]
  },
  {
   "cell_type": "code",
   "execution_count": 328,
   "id": "41877463-8d3d-4a0d-886c-70cc75196a7c",
   "metadata": {},
   "outputs": [
    {
     "data": {
      "text/plain": [
       "BalancedRandomForestClassifier(max_depth=20, random_state=1)"
      ]
     },
     "execution_count": 328,
     "metadata": {},
     "output_type": "execute_result"
    }
   ],
   "source": [
    "# Entrenamiento con BalancedRandomForestClassifier\n",
    "from imblearn.ensemble import BalancedRandomForestClassifier\n",
    "brf_model = BalancedRandomForestClassifier(n_estimators=100,\n",
    "                                           max_depth=20,\n",
    "                                           max_features='auto', \n",
    "                                           bootstrap=True,\n",
    "                                           sampling_strategy='auto',\n",
    "                                           replacement=False,\n",
    "                                           random_state=1)\n",
    "brf_model.fit(X_train, y_train)"
   ]
  },
  {
   "cell_type": "code",
   "execution_count": 329,
   "id": "64eb5a34-0f05-49d4-9ddb-900fd8f47b58",
   "metadata": {},
   "outputs": [
    {
     "data": {
      "text/plain": [
       "0.8666118421052631"
      ]
     },
     "execution_count": 329,
     "metadata": {},
     "output_type": "execute_result"
    }
   ],
   "source": [
    "# Calculo del balanced accuracy score\n",
    "from sklearn.metrics import balanced_accuracy_score\n",
    "predictions = brf_model.predict(X_test)\n",
    "bal_acc_score = balanced_accuracy_score(y_test, predictions)\n",
    "bal_acc_score"
   ]
  },
  {
   "cell_type": "code",
   "execution_count": 330,
   "id": "4f28f170-6887-4fd8-9fef-dfeb9b25bf53",
   "metadata": {},
   "outputs": [
    {
     "data": {
      "image/png": "[encoded data removed]",
      "text/plain": [
       "<Figure size 1080x360 with 3 Axes>"
      ]
     },
     "metadata": {},
     "output_type": "display_data"
    }
   ],
   "source": [
    "from sklearn.metrics import roc_curve, auc, roc_auc_score, log_loss, accuracy_score\n",
    "\n",
    "threshold = 0.5\n",
    "y_train_pred = brf_model.predict_proba(X_train)[:,1]\n",
    "y_test_pred = brf_model.predict_proba(X_test)[:,1]\n",
    "\n",
    "fig,ax = plt.subplots(1,3)\n",
    "fig.set_size_inches(15,5)\n",
    "\n",
    "plot_cm(ax[0],  y_train, y_train_pred, [0,1], 'Confusion matrix (TRAIN)', threshold)\n",
    "plot_cm(ax[1],  y_test, y_test_pred,   [0,1], 'Confusion matrix (TEST)', threshold)\n",
    "plot_auc(ax[2], y_train, y_train_pred, y_test, y_test_pred, threshold)\n",
    "    \n",
    "plt.tight_layout()\n",
    "plt.show()"
   ]
  },
  {
   "cell_type": "code",
   "execution_count": 331,
   "id": "e00217db-6287-49df-920a-9ed8e01ba5a5",
   "metadata": {},
   "outputs": [
    {
     "name": "stdout",
     "output_type": "stream",
     "text": [
      "                      pre       rec       spe        f1       geo       iba       sup\n",
      "\n",
      "Bajo riesgo: 0       0.91      0.82      0.91      0.86      0.87      0.74       160\n",
      "Alto riesgo: 1       0.83      0.91      0.82      0.87      0.87      0.76       152\n",
      "\n",
      "   avg / total       0.87      0.87      0.87      0.87      0.87      0.75       312\n",
      "\n"
     ]
    }
   ],
   "source": [
    "# Imprimimos el imbalanced classification report\n",
    "from imblearn.metrics import classification_report_imbalanced\n",
    "print(classification_report_imbalanced(y_test, predictions, target_names=[\"Bajo riesgo: 0\", \"Alto riesgo: 1\"]))"
   ]
  },
  {
   "cell_type": "markdown",
   "id": "a856cee1-9d0c-4a56-987a-c71774fbca09",
   "metadata": {},
   "source": [
    "#### Ahora con BalancedRandomForestClassifier obtuvimos alrededor del 86% de accuarcy, nada mal !"
   ]
  },
  {
   "cell_type": "markdown",
   "id": "99ee1909-e04f-462c-b546-efdfee5554e3",
   "metadata": {},
   "source": [
    "## 3.3 Deep Learning - Neural Network (Tensorflow)\n",
    "Finalmente probaremos con redes neuronales, específicamente con Tensorflow/Keras"
   ]
  },
  {
   "cell_type": "code",
   "execution_count": 69,
   "id": "152f62dc-1ef7-40cb-9c1a-954fa2ebd970",
   "metadata": {},
   "outputs": [],
   "source": [
    "from tensorflow.keras.models import Sequential\n",
    "from tensorflow.keras.layers import Dense, Activation, Dropout"
   ]
  },
  {
   "cell_type": "code",
   "execution_count": 70,
   "id": "78a5672b-3ccf-45d2-9660-564024933bec",
   "metadata": {},
   "outputs": [],
   "source": [
    "input_dim = X_train.shape[1]\n",
    "\n",
    "model = Sequential()\n",
    "model.add(Dense(256, input_shape=(input_dim,), activation='relu'))\n",
    "model.add(Dropout(0.1))\n",
    "model.add(Dense(256, activation='relu'))\n",
    "model.add(Dropout(0.1))\n",
    "model.add(Dense(64, activation='relu'))\n",
    "model.add(Dropout(0.1))\n",
    "model.add(Dense(64, activation='relu'))\n",
    "model.add(Dropout(0.1))\n",
    "model.add(Dense(10, activation='relu'))\n",
    "model.add(Dense(10, activation='sigmoid'))\n",
    "model.add(Dense(1,  activation='sigmoid'))"
   ]
  },
  {
   "cell_type": "code",
   "execution_count": 71,
   "id": "c305c258-dc77-4c2c-97b1-e7d8aa384ed8",
   "metadata": {},
   "outputs": [],
   "source": [
    "model.compile(optimizer='adam', lr=0.0001, loss='binary_crossentropy', metrics=['accuracy'])"
   ]
  },
  {
   "cell_type": "code",
   "execution_count": 72,
   "id": "090eb790-07ba-4b93-8344-ba335139a973",
   "metadata": {},
   "outputs": [],
   "source": [
    "from tensorflow.keras.callbacks import Callback"
   ]
  },
  {
   "cell_type": "code",
   "execution_count": 73,
   "id": "e70991c2-92b4-4d99-a31f-8a137ea440f9",
   "metadata": {},
   "outputs": [],
   "source": [
    "class BatchLogger(Callback):\n",
    "    def on_train_begin(self, epoch, logs={}):\n",
    "        self.log_values = {}\n",
    "        for k in self.params['metrics']:\n",
    "            self.log_values[k] = []\n",
    "\n",
    "    def on_epoch_end(self, batch, logs={}):\n",
    "        for k in self.params['metrics']:\n",
    "            if k in logs:\n",
    "                self.log_values[k].append(logs[k])\n",
    "    \n",
    "    def get_values(self, metric_name, window):\n",
    "        d =  pd.Series(self.log_values[metric_name])\n",
    "        return d.rolling(window,center=False).mean()\n",
    "\n",
    "bl = BatchLogger()"
   ]
  },
  {
   "cell_type": "code",
   "execution_count": 78,
   "id": "62b63f32-e99b-4c66-8a16-1b63a4f04c9a",
   "metadata": {},
   "outputs": [
    {
     "name": "stdout",
     "output_type": "stream",
     "text": [
      "Train on 1248 samples, validate on 312 samples\n",
      "Epoch 1/5\n",
      "1248/1248 [==============================] - 0s 143us/sample - loss: 0.1521 - accuracy: 0.9471 - val_loss: 0.7065 - val_accuracy: 0.7821\n",
      "Epoch 2/5\n",
      "1248/1248 [==============================] - 0s 119us/sample - loss: 0.1126 - accuracy: 0.9639 - val_loss: 0.6389 - val_accuracy: 0.8141\n",
      "Epoch 3/5\n",
      "1248/1248 [==============================] - 0s 115us/sample - loss: 0.0914 - accuracy: 0.9712 - val_loss: 0.6567 - val_accuracy: 0.8077\n",
      "Epoch 4/5\n",
      "1248/1248 [==============================] - 0s 119us/sample - loss: 0.0926 - accuracy: 0.9671 - val_loss: 0.6903 - val_accuracy: 0.8109\n",
      "Epoch 5/5\n",
      "1248/1248 [==============================] - 0s 122us/sample - loss: 0.0952 - accuracy: 0.9647 - val_loss: 0.7598 - val_accuracy: 0.8077\n"
     ]
    }
   ],
   "source": [
    "history = model.fit(np.array(X_train), \n",
    "                    np.array(y_train),\n",
    "                    batch_size=25, \n",
    "                    epochs=5, \n",
    "                    verbose=1, \n",
    "                    callbacks=[bl],\n",
    "                    validation_data=(np.array(X_test), np.array(y_test)))"
   ]
  },
  {
   "cell_type": "markdown",
   "id": "d37fc05f-e866-46ec-a555-ccec701e232e",
   "metadata": {},
   "source": [
    "#### Ahora si tenemos un resultado un poco mas serio con Redes neuronales, alrededor de 96% de accuracy en el entrenamiento pero solo 80% en nuestra validación"
   ]
  },
  {
   "cell_type": "code",
   "execution_count": 79,
   "id": "531776e9-92a4-405e-a8f8-d494fcd3fa24",
   "metadata": {},
   "outputs": [
    {
     "name": "stdout",
     "output_type": "stream",
     "text": [
      "Test log loss: 0.7598153475003365\n",
      "Test accuracy: 0.8076923\n"
     ]
    }
   ],
   "source": [
    "score = model.evaluate(np.array(X_test), np.array(y_test), verbose=0)\n",
    "print('Test log loss:', score[0])\n",
    "print('Test accuracy:', score[1])"
   ]
  },
  {
   "cell_type": "code",
   "execution_count": 332,
   "id": "dd088c6d-e892-4106-a434-a5a6777a6360",
   "metadata": {},
   "outputs": [
    {
     "data": {
      "image/png": "[encoded data removed]",
      "text/plain": [
       "<Figure size 1080x360 with 2 Axes>"
      ]
     },
     "metadata": {},
     "output_type": "display_data"
    }
   ],
   "source": [
    "plt.figure(figsize=(15,5))\n",
    "\n",
    "plt.subplot(1, 2, 1)\n",
    "plt.title('loss/batch')\n",
    "plt.plot(bl.get_values('loss',1), 'b-', label='train');\n",
    "plt.plot(bl.get_values('val_loss',1), 'r-', label='test');\n",
    "\n",
    "plt.subplot(1, 2, 2)\n",
    "plt.title('accuracy/batch')\n",
    "plt.plot(bl.get_values('accuracy',1), 'b-', label='train');\n",
    "plt.plot(bl.get_values('val_accuracy',1), 'r-', label='test');\n",
    "plt.show()"
   ]
  },
  {
   "cell_type": "code",
   "execution_count": 333,
   "id": "85d77900-680c-4f45-a170-f4c8e3b44bc4",
   "metadata": {},
   "outputs": [
    {
     "data": {
      "image/png": "[encoded data removed]",
      "text/plain": [
       "<Figure size 1080x360 with 3 Axes>"
      ]
     },
     "metadata": {},
     "output_type": "display_data"
    }
   ],
   "source": [
    "y_train_pred = model.predict_on_batch(np.array(X_train))[:,0]\n",
    "y_test_pred = model.predict_on_batch(np.array(X_test))[:,0]\n",
    "\n",
    "fig,ax = plt.subplots(1,3)\n",
    "fig.set_size_inches(15,5)\n",
    "\n",
    "plot_cm(ax[0], y_train, y_train_pred, [0,1], 'Confusion matrix (TRAIN)')\n",
    "plot_cm(ax[1], y_test, y_test_pred, [0,1], 'Confusion matrix (TEST)')\n",
    "\n",
    "plot_auc(ax[2], y_train, y_train_pred, y_test, y_test_pred)\n",
    "    \n",
    "plt.tight_layout()\n",
    "plt.show()"
   ]
  },
  {
   "cell_type": "markdown",
   "id": "d7512bfb-d4e4-43d7-a419-0323aa3b57c1",
   "metadata": {},
   "source": [
    "## 3.4 Generación de archivo CSV de predicciones del modelo "
   ]
  },
  {
   "cell_type": "markdown",
   "id": "d447aeb4-c0a0-4eb7-8691-f9f6466cdec0",
   "metadata": {},
   "source": [
    "De los 3 modelos que entrenamos, el BalancedRandomForestClassifier nos dió el mejor accuracy en set de datos de Test, así que utilizaremos este para generar nuestras predicciones y crear el archivo CSV de predicciones."
   ]
  },
  {
   "cell_type": "markdown",
   "id": "36e3979f-3513-4d49-836b-5f4fc9eff9ff",
   "metadata": {},
   "source": [
    "#### Cargamos el archivo de \"Test Data.csv\""
   ]
  },
  {
   "cell_type": "code",
   "execution_count": 334,
   "id": "a693b8d6-60be-43de-9836-4d08d9cebe0c",
   "metadata": {},
   "outputs": [],
   "source": [
    "TestData = pd.read_csv(\"Test Data.csv\")"
   ]
  },
  {
   "cell_type": "code",
   "execution_count": 335,
   "id": "2e10b2c3-01b6-4411-89dd-ee5e757175ae",
   "metadata": {},
   "outputs": [
    {
     "data": {
      "text/html": [
       "<div>\n",
       "<style scoped>\n",
       "    .dataframe tbody tr th:only-of-type {\n",
       "        vertical-align: middle;\n",
       "    }\n",
       "\n",
       "    .dataframe tbody tr th {\n",
       "        vertical-align: top;\n",
       "    }\n",
       "\n",
       "    .dataframe thead th {\n",
       "        text-align: right;\n",
       "    }\n",
       "</style>\n",
       "<table border=\"1\" class=\"dataframe\">\n",
       "  <thead>\n",
       "    <tr style=\"text-align: right;\">\n",
       "      <th></th>\n",
       "      <th>ID</th>\n",
       "      <th>edad</th>\n",
       "      <th>montoSolicitado</th>\n",
       "      <th>montoOtorgado</th>\n",
       "      <th>genero</th>\n",
       "      <th>quincenal</th>\n",
       "      <th>dependientesEconomicos</th>\n",
       "      <th>nivelEstudio</th>\n",
       "      <th>fico</th>\n",
       "      <th>ingresosMensuales</th>\n",
       "      <th>gastosMensuales</th>\n",
       "      <th>emailScore</th>\n",
       "      <th>browser</th>\n",
       "      <th>NUMTDC_AV</th>\n",
       "    </tr>\n",
       "  </thead>\n",
       "  <tbody>\n",
       "    <tr>\n",
       "      <th>0</th>\n",
       "      <td>1</td>\n",
       "      <td>30.0</td>\n",
       "      <td>20000.0</td>\n",
       "      <td>40000.0</td>\n",
       "      <td>Hombre</td>\n",
       "      <td>1</td>\n",
       "      <td>0</td>\n",
       "      <td>Universidad</td>\n",
       "      <td>575</td>\n",
       "      <td>25000.0</td>\n",
       "      <td>15000</td>\n",
       "      <td>1.0</td>\n",
       "      <td>UNKNOWN</td>\n",
       "      <td>2.0</td>\n",
       "    </tr>\n",
       "    <tr>\n",
       "      <th>1</th>\n",
       "      <td>2</td>\n",
       "      <td>31.0</td>\n",
       "      <td>2000.0</td>\n",
       "      <td>2000.0</td>\n",
       "      <td>Hombre</td>\n",
       "      <td>0</td>\n",
       "      <td>4</td>\n",
       "      <td>Preparatoria</td>\n",
       "      <td>635</td>\n",
       "      <td>12000.0</td>\n",
       "      <td>8000</td>\n",
       "      <td>8.0</td>\n",
       "      <td>CHROME9</td>\n",
       "      <td>NaN</td>\n",
       "    </tr>\n",
       "    <tr>\n",
       "      <th>2</th>\n",
       "      <td>3</td>\n",
       "      <td>29.0</td>\n",
       "      <td>15000.0</td>\n",
       "      <td>15000.0</td>\n",
       "      <td>Mujer</td>\n",
       "      <td>0</td>\n",
       "      <td>0</td>\n",
       "      <td>Universidad</td>\n",
       "      <td>568</td>\n",
       "      <td>20000.0</td>\n",
       "      <td>14000</td>\n",
       "      <td>0.0</td>\n",
       "      <td>CHROME_MOBILE</td>\n",
       "      <td>1.0</td>\n",
       "    </tr>\n",
       "    <tr>\n",
       "      <th>3</th>\n",
       "      <td>4</td>\n",
       "      <td>20.0</td>\n",
       "      <td>7000.0</td>\n",
       "      <td>6000.0</td>\n",
       "      <td>Mujer</td>\n",
       "      <td>0</td>\n",
       "      <td>1</td>\n",
       "      <td>Preparatoria</td>\n",
       "      <td>643</td>\n",
       "      <td>2000.0</td>\n",
       "      <td>6000</td>\n",
       "      <td>1.0</td>\n",
       "      <td>CHROME_MOBILE</td>\n",
       "      <td>NaN</td>\n",
       "    </tr>\n",
       "    <tr>\n",
       "      <th>4</th>\n",
       "      <td>5</td>\n",
       "      <td>34.0</td>\n",
       "      <td>18000.0</td>\n",
       "      <td>12999.0</td>\n",
       "      <td>Hombre</td>\n",
       "      <td>1</td>\n",
       "      <td>1</td>\n",
       "      <td>Universidad</td>\n",
       "      <td>546</td>\n",
       "      <td>50000.0</td>\n",
       "      <td>30000</td>\n",
       "      <td>0.0</td>\n",
       "      <td>APPLE_WEB_KIT</td>\n",
       "      <td>2.0</td>\n",
       "    </tr>\n",
       "  </tbody>\n",
       "</table>\n",
       "</div>"
      ],
      "text/plain": [
       "   ID  edad  montoSolicitado  montoOtorgado  genero  quincenal  \\\n",
       "0   1  30.0          20000.0        40000.0  Hombre          1   \n",
       "1   2  31.0           2000.0         2000.0  Hombre          0   \n",
       "2   3  29.0          15000.0        15000.0   Mujer          0   \n",
       "3   4  20.0           7000.0         6000.0   Mujer          0   \n",
       "4   5  34.0          18000.0        12999.0  Hombre          1   \n",
       "\n",
       "   dependientesEconomicos  nivelEstudio  fico  ingresosMensuales  \\\n",
       "0                       0   Universidad   575            25000.0   \n",
       "1                       4  Preparatoria   635            12000.0   \n",
       "2                       0   Universidad   568            20000.0   \n",
       "3                       1  Preparatoria   643             2000.0   \n",
       "4                       1   Universidad   546            50000.0   \n",
       "\n",
       "   gastosMensuales  emailScore        browser  NUMTDC_AV  \n",
       "0            15000         1.0        UNKNOWN        2.0  \n",
       "1             8000         8.0        CHROME9        NaN  \n",
       "2            14000         0.0  CHROME_MOBILE        1.0  \n",
       "3             6000         1.0  CHROME_MOBILE        NaN  \n",
       "4            30000         0.0  APPLE_WEB_KIT        2.0  "
      ]
     },
     "execution_count": 335,
     "metadata": {},
     "output_type": "execute_result"
    }
   ],
   "source": [
    "TestData.head()"
   ]
  },
  {
   "cell_type": "code",
   "execution_count": 336,
   "id": "9c8e7f86-288e-4497-bbbb-c4ffb347258d",
   "metadata": {},
   "outputs": [
    {
     "name": "stdout",
     "output_type": "stream",
     "text": [
      "<class 'pandas.core.frame.DataFrame'>\n",
      "RangeIndex: 300 entries, 0 to 299\n",
      "Data columns (total 14 columns):\n",
      " #   Column                  Non-Null Count  Dtype  \n",
      "---  ------                  --------------  -----  \n",
      " 0   ID                      300 non-null    int64  \n",
      " 1   edad                    297 non-null    float64\n",
      " 2   montoSolicitado         300 non-null    float64\n",
      " 3   montoOtorgado           300 non-null    float64\n",
      " 4   genero                  300 non-null    object \n",
      " 5   quincenal               300 non-null    int64  \n",
      " 6   dependientesEconomicos  300 non-null    int64  \n",
      " 7   nivelEstudio            300 non-null    object \n",
      " 8   fico                    300 non-null    int64  \n",
      " 9   ingresosMensuales       300 non-null    float64\n",
      " 10  gastosMensuales         300 non-null    int64  \n",
      " 11  emailScore              261 non-null    float64\n",
      " 12  browser                 257 non-null    object \n",
      " 13  NUMTDC_AV               184 non-null    float64\n",
      "dtypes: float64(6), int64(5), object(3)\n",
      "memory usage: 32.9+ KB\n"
     ]
    }
   ],
   "source": [
    "TestData.info()"
   ]
  },
  {
   "cell_type": "markdown",
   "id": "eb12a870-7fd3-407a-a1b9-219629fb8fa6",
   "metadata": {},
   "source": [
    "#### Tratamiento de valores nulos"
   ]
  },
  {
   "cell_type": "code",
   "execution_count": 337,
   "id": "2d2e85db-69fe-43fb-8fc1-0e174fa32ea0",
   "metadata": {},
   "outputs": [],
   "source": [
    "TestData = TestData.fillna(TestData.mode().iloc[0])"
   ]
  },
  {
   "cell_type": "code",
   "execution_count": 339,
   "id": "70e90b61-2cda-427c-ad59-ff8a02561b75",
   "metadata": {},
   "outputs": [
    {
     "name": "stdout",
     "output_type": "stream",
     "text": [
      "<class 'pandas.core.frame.DataFrame'>\n",
      "RangeIndex: 300 entries, 0 to 299\n",
      "Data columns (total 14 columns):\n",
      " #   Column                  Non-Null Count  Dtype  \n",
      "---  ------                  --------------  -----  \n",
      " 0   ID                      300 non-null    int64  \n",
      " 1   edad                    300 non-null    float64\n",
      " 2   montoSolicitado         300 non-null    float64\n",
      " 3   montoOtorgado           300 non-null    float64\n",
      " 4   genero                  300 non-null    object \n",
      " 5   quincenal               300 non-null    int64  \n",
      " 6   dependientesEconomicos  300 non-null    int64  \n",
      " 7   nivelEstudio            300 non-null    object \n",
      " 8   fico                    300 non-null    int64  \n",
      " 9   ingresosMensuales       300 non-null    float64\n",
      " 10  gastosMensuales         300 non-null    int64  \n",
      " 11  emailScore              300 non-null    float64\n",
      " 12  browser                 300 non-null    object \n",
      " 13  NUMTDC_AV               300 non-null    float64\n",
      "dtypes: float64(6), int64(5), object(3)\n",
      "memory usage: 32.9+ KB\n"
     ]
    }
   ],
   "source": [
    "TestData.info()"
   ]
  },
  {
   "cell_type": "markdown",
   "id": "77c96f46-43c5-4ebe-b817-95ff2278a292",
   "metadata": {},
   "source": [
    "#### Ahora no tenemos registros nulos"
   ]
  },
  {
   "cell_type": "code",
   "execution_count": 340,
   "id": "a271d79e-becb-4a9b-8f43-ee7d695e450d",
   "metadata": {},
   "outputs": [
    {
     "name": "stdout",
     "output_type": "stream",
     "text": [
      "0\n"
     ]
    }
   ],
   "source": [
    "print(len(TestData[TestData.duplicated(['ID'], keep=False)]))"
   ]
  },
  {
   "cell_type": "markdown",
   "id": "b8318acf-82f8-491a-861d-e5cbca3741d7",
   "metadata": {},
   "source": [
    "#### No hay registros duplicados"
   ]
  },
  {
   "cell_type": "markdown",
   "id": "5b4875a4-57da-4fe2-bd05-79173954dc0b",
   "metadata": {},
   "source": [
    "##### Tratamiento de variables categoricas"
   ]
  },
  {
   "cell_type": "code",
   "execution_count": 341,
   "id": "bce18f90-c38b-49c6-a2ec-2dbff05d2e52",
   "metadata": {},
   "outputs": [],
   "source": [
    "dummies = pd.get_dummies(TestData[['genero', 'nivelEstudio']])\n",
    "\n",
    "# Añadimos las variables binarias al DataFrame de entrenamiento\n",
    "X_test_val = pd.concat([TestData, dummies], axis = 1)\n",
    "# Eliminamos la variables originales \"genero\" y \"nivelEstudio\"\n",
    "X_test_val = X_test_val.drop(columns=['genero','nivelEstudio'])"
   ]
  },
  {
   "cell_type": "markdown",
   "id": "66b887a2-2109-40aa-b370-bf6c16c885d0",
   "metadata": {},
   "source": [
    "#### Normalización"
   ]
  },
  {
   "cell_type": "code",
   "execution_count": 342,
   "id": "f3624553-3445-4011-9d2d-2c05450c7db0",
   "metadata": {},
   "outputs": [],
   "source": [
    "min_max_scaler = preprocessing.MinMaxScaler()\n",
    "seleccion = ['edad','montoSolicitado','montoOtorgado','fico','ingresosMensuales','gastosMensuales']\n",
    "X_test_val[seleccion] = min_max_scaler.fit_transform(X_test_val[seleccion])"
   ]
  },
  {
   "cell_type": "code",
   "execution_count": 343,
   "id": "0b689ad9-8303-47b3-b3dd-d7375a4bcb5f",
   "metadata": {},
   "outputs": [
    {
     "data": {
      "text/html": [
       "<div>\n",
       "<style scoped>\n",
       "    .dataframe tbody tr th:only-of-type {\n",
       "        vertical-align: middle;\n",
       "    }\n",
       "\n",
       "    .dataframe tbody tr th {\n",
       "        vertical-align: top;\n",
       "    }\n",
       "\n",
       "    .dataframe thead th {\n",
       "        text-align: right;\n",
       "    }\n",
       "</style>\n",
       "<table border=\"1\" class=\"dataframe\">\n",
       "  <thead>\n",
       "    <tr style=\"text-align: right;\">\n",
       "      <th></th>\n",
       "      <th>ID</th>\n",
       "      <th>edad</th>\n",
       "      <th>montoSolicitado</th>\n",
       "      <th>montoOtorgado</th>\n",
       "      <th>quincenal</th>\n",
       "      <th>dependientesEconomicos</th>\n",
       "      <th>fico</th>\n",
       "      <th>ingresosMensuales</th>\n",
       "      <th>gastosMensuales</th>\n",
       "      <th>emailScore</th>\n",
       "      <th>browser</th>\n",
       "      <th>NUMTDC_AV</th>\n",
       "      <th>genero_Hombre</th>\n",
       "      <th>genero_Mujer</th>\n",
       "      <th>nivelEstudio_Doctorado</th>\n",
       "      <th>nivelEstudio_Maestr√≠a</th>\n",
       "      <th>nivelEstudio_Preparatoria</th>\n",
       "      <th>nivelEstudio_Primaria</th>\n",
       "      <th>nivelEstudio_Secundaria</th>\n",
       "      <th>nivelEstudio_Universidad</th>\n",
       "    </tr>\n",
       "  </thead>\n",
       "  <tbody>\n",
       "    <tr>\n",
       "      <th>0</th>\n",
       "      <td>1</td>\n",
       "      <td>0.24</td>\n",
       "      <td>0.127517</td>\n",
       "      <td>0.393939</td>\n",
       "      <td>1</td>\n",
       "      <td>0</td>\n",
       "      <td>0.817923</td>\n",
       "      <td>0.047715</td>\n",
       "      <td>0.033237</td>\n",
       "      <td>1.0</td>\n",
       "      <td>UNKNOWN</td>\n",
       "      <td>2.0</td>\n",
       "      <td>1</td>\n",
       "      <td>0</td>\n",
       "      <td>0</td>\n",
       "      <td>0</td>\n",
       "      <td>0</td>\n",
       "      <td>0</td>\n",
       "      <td>0</td>\n",
       "      <td>1</td>\n",
       "    </tr>\n",
       "    <tr>\n",
       "      <th>1</th>\n",
       "      <td>2</td>\n",
       "      <td>0.26</td>\n",
       "      <td>0.006711</td>\n",
       "      <td>0.010101</td>\n",
       "      <td>0</td>\n",
       "      <td>4</td>\n",
       "      <td>0.903272</td>\n",
       "      <td>0.021652</td>\n",
       "      <td>0.017680</td>\n",
       "      <td>8.0</td>\n",
       "      <td>CHROME9</td>\n",
       "      <td>1.0</td>\n",
       "      <td>1</td>\n",
       "      <td>0</td>\n",
       "      <td>0</td>\n",
       "      <td>0</td>\n",
       "      <td>1</td>\n",
       "      <td>0</td>\n",
       "      <td>0</td>\n",
       "      <td>0</td>\n",
       "    </tr>\n",
       "    <tr>\n",
       "      <th>2</th>\n",
       "      <td>3</td>\n",
       "      <td>0.22</td>\n",
       "      <td>0.093960</td>\n",
       "      <td>0.141414</td>\n",
       "      <td>0</td>\n",
       "      <td>0</td>\n",
       "      <td>0.807966</td>\n",
       "      <td>0.037690</td>\n",
       "      <td>0.031014</td>\n",
       "      <td>0.0</td>\n",
       "      <td>CHROME_MOBILE</td>\n",
       "      <td>1.0</td>\n",
       "      <td>0</td>\n",
       "      <td>1</td>\n",
       "      <td>0</td>\n",
       "      <td>0</td>\n",
       "      <td>0</td>\n",
       "      <td>0</td>\n",
       "      <td>0</td>\n",
       "      <td>1</td>\n",
       "    </tr>\n",
       "    <tr>\n",
       "      <th>3</th>\n",
       "      <td>4</td>\n",
       "      <td>0.04</td>\n",
       "      <td>0.040268</td>\n",
       "      <td>0.050505</td>\n",
       "      <td>0</td>\n",
       "      <td>1</td>\n",
       "      <td>0.914651</td>\n",
       "      <td>0.001604</td>\n",
       "      <td>0.013235</td>\n",
       "      <td>1.0</td>\n",
       "      <td>CHROME_MOBILE</td>\n",
       "      <td>1.0</td>\n",
       "      <td>0</td>\n",
       "      <td>1</td>\n",
       "      <td>0</td>\n",
       "      <td>0</td>\n",
       "      <td>1</td>\n",
       "      <td>0</td>\n",
       "      <td>0</td>\n",
       "      <td>0</td>\n",
       "    </tr>\n",
       "    <tr>\n",
       "      <th>4</th>\n",
       "      <td>5</td>\n",
       "      <td>0.32</td>\n",
       "      <td>0.114094</td>\n",
       "      <td>0.121202</td>\n",
       "      <td>1</td>\n",
       "      <td>1</td>\n",
       "      <td>0.776671</td>\n",
       "      <td>0.097835</td>\n",
       "      <td>0.066573</td>\n",
       "      <td>0.0</td>\n",
       "      <td>APPLE_WEB_KIT</td>\n",
       "      <td>2.0</td>\n",
       "      <td>1</td>\n",
       "      <td>0</td>\n",
       "      <td>0</td>\n",
       "      <td>0</td>\n",
       "      <td>0</td>\n",
       "      <td>0</td>\n",
       "      <td>0</td>\n",
       "      <td>1</td>\n",
       "    </tr>\n",
       "  </tbody>\n",
       "</table>\n",
       "</div>"
      ],
      "text/plain": [
       "   ID  edad  montoSolicitado  montoOtorgado  quincenal  \\\n",
       "0   1  0.24         0.127517       0.393939          1   \n",
       "1   2  0.26         0.006711       0.010101          0   \n",
       "2   3  0.22         0.093960       0.141414          0   \n",
       "3   4  0.04         0.040268       0.050505          0   \n",
       "4   5  0.32         0.114094       0.121202          1   \n",
       "\n",
       "   dependientesEconomicos      fico  ingresosMensuales  gastosMensuales  \\\n",
       "0                       0  0.817923           0.047715         0.033237   \n",
       "1                       4  0.903272           0.021652         0.017680   \n",
       "2                       0  0.807966           0.037690         0.031014   \n",
       "3                       1  0.914651           0.001604         0.013235   \n",
       "4                       1  0.776671           0.097835         0.066573   \n",
       "\n",
       "   emailScore        browser  NUMTDC_AV  genero_Hombre  genero_Mujer  \\\n",
       "0         1.0        UNKNOWN        2.0              1             0   \n",
       "1         8.0        CHROME9        1.0              1             0   \n",
       "2         0.0  CHROME_MOBILE        1.0              0             1   \n",
       "3         1.0  CHROME_MOBILE        1.0              0             1   \n",
       "4         0.0  APPLE_WEB_KIT        2.0              1             0   \n",
       "\n",
       "   nivelEstudio_Doctorado  nivelEstudio_Maestr√≠a  nivelEstudio_Preparatoria  \\\n",
       "0                       0                       0                          0   \n",
       "1                       0                       0                          1   \n",
       "2                       0                       0                          0   \n",
       "3                       0                       0                          1   \n",
       "4                       0                       0                          0   \n",
       "\n",
       "   nivelEstudio_Primaria  nivelEstudio_Secundaria  nivelEstudio_Universidad  \n",
       "0                      0                        0                         1  \n",
       "1                      0                        0                         0  \n",
       "2                      0                        0                         1  \n",
       "3                      0                        0                         0  \n",
       "4                      0                        0                         1  "
      ]
     },
     "execution_count": 343,
     "metadata": {},
     "output_type": "execute_result"
    }
   ],
   "source": [
    "X_test_val.head()"
   ]
  },
  {
   "cell_type": "code",
   "execution_count": 344,
   "id": "b1051487-7831-4f52-8515-05a65de20697",
   "metadata": {},
   "outputs": [],
   "source": [
    "IDs = X_test_val.pop(\"ID\")"
   ]
  },
  {
   "cell_type": "code",
   "execution_count": 345,
   "id": "89593369-4466-4a0c-a3cc-7316a42c74cc",
   "metadata": {},
   "outputs": [],
   "source": [
    "X_test_val = X_test_val[features]"
   ]
  },
  {
   "cell_type": "code",
   "execution_count": 346,
   "id": "ea2b8a71-15c9-46fa-b019-2de8e52cca93",
   "metadata": {},
   "outputs": [],
   "source": [
    "y_test_pred_val = brf_model.predict_proba(X_test_val)[:,1]\n",
    "y_test_pred_val_2 = brf_model.predict(X_test_val)"
   ]
  },
  {
   "cell_type": "code",
   "execution_count": 347,
   "id": "a93bb602-6d21-4e89-85c5-29d8aab62e2e",
   "metadata": {},
   "outputs": [
    {
     "data": {
      "text/plain": [
       "array([0, 1, 0, 1, 0, 0, 0, 1, 1, 0, 0, 0, 0, 0, 0, 0, 0, 1, 0, 0, 0, 1,\n",
       "       0, 0, 0, 0, 0, 1, 0, 1, 0, 0, 0, 1, 0, 1, 0, 0, 0, 0, 1, 0, 0, 0,\n",
       "       0, 0, 1, 0, 1, 0, 0, 0, 0, 0, 0, 0, 0, 1, 1, 1, 0, 0, 0, 0, 0, 1,\n",
       "       1, 1, 0, 0, 1, 0, 0, 0, 0, 1, 0, 0, 1, 0, 0, 0, 0, 0, 0, 0, 0, 0,\n",
       "       1, 0, 0, 0, 0, 0, 0, 0, 0, 0, 0, 1, 0, 0, 0, 0, 0, 0, 1, 1, 0, 0,\n",
       "       0, 0, 0, 0, 0, 1, 0, 0, 0, 1, 0, 0, 0, 1, 1, 0, 0, 0, 0, 0, 1, 0,\n",
       "       0, 0, 0, 0, 1, 1, 0, 0, 1, 1, 0, 1, 0, 1, 1, 0, 1, 0, 0, 0, 0, 1,\n",
       "       0, 0, 0, 1, 0, 0, 0, 0, 0, 0, 0, 0, 0, 0, 0, 1, 0, 0, 0, 1, 0, 0,\n",
       "       0, 0, 0, 0, 0, 1, 1, 0, 0, 0, 0, 1, 0, 0, 1, 0, 1, 0, 0, 0, 0, 0,\n",
       "       0, 0, 0, 0, 0, 0, 0, 0, 0, 0, 0, 1, 1, 0, 1, 0, 0, 0, 0, 1, 0, 1,\n",
       "       0, 0, 0, 0, 0, 1, 0, 0, 0, 0, 1, 0, 1, 0, 1, 1, 0, 0, 1, 0, 0, 0,\n",
       "       1, 0, 1, 1, 1, 0, 0, 0, 0, 0, 0, 0, 1, 0, 1, 0, 0, 0, 0, 0, 1, 1,\n",
       "       1, 0, 0, 0, 0, 0, 1, 1, 1, 1, 0, 0, 0, 0, 1, 0, 0, 0, 0, 0, 0, 0,\n",
       "       0, 0, 0, 0, 1, 0, 0, 0, 0, 0, 0, 0, 0, 1], dtype=int64)"
      ]
     },
     "execution_count": 347,
     "metadata": {},
     "output_type": "execute_result"
    }
   ],
   "source": [
    "y_test_pred_val_2"
   ]
  },
  {
   "cell_type": "code",
   "execution_count": 348,
   "id": "1b14d8ab-24ac-426c-9c8d-5daed744bf1c",
   "metadata": {},
   "outputs": [
    {
     "data": {
      "text/html": [
       "<div>\n",
       "<style scoped>\n",
       "    .dataframe tbody tr th:only-of-type {\n",
       "        vertical-align: middle;\n",
       "    }\n",
       "\n",
       "    .dataframe tbody tr th {\n",
       "        vertical-align: top;\n",
       "    }\n",
       "\n",
       "    .dataframe thead th {\n",
       "        text-align: right;\n",
       "    }\n",
       "</style>\n",
       "<table border=\"1\" class=\"dataframe\">\n",
       "  <thead>\n",
       "    <tr style=\"text-align: right;\">\n",
       "      <th></th>\n",
       "      <th>ID</th>\n",
       "      <th>Score</th>\n",
       "      <th>Pred</th>\n",
       "    </tr>\n",
       "  </thead>\n",
       "  <tbody>\n",
       "    <tr>\n",
       "      <th>0</th>\n",
       "      <td>1</td>\n",
       "      <td>0.250000</td>\n",
       "      <td>0</td>\n",
       "    </tr>\n",
       "    <tr>\n",
       "      <th>1</th>\n",
       "      <td>2</td>\n",
       "      <td>0.620000</td>\n",
       "      <td>1</td>\n",
       "    </tr>\n",
       "    <tr>\n",
       "      <th>2</th>\n",
       "      <td>3</td>\n",
       "      <td>0.348998</td>\n",
       "      <td>0</td>\n",
       "    </tr>\n",
       "    <tr>\n",
       "      <th>3</th>\n",
       "      <td>4</td>\n",
       "      <td>0.580000</td>\n",
       "      <td>1</td>\n",
       "    </tr>\n",
       "    <tr>\n",
       "      <th>4</th>\n",
       "      <td>5</td>\n",
       "      <td>0.242500</td>\n",
       "      <td>0</td>\n",
       "    </tr>\n",
       "  </tbody>\n",
       "</table>\n",
       "</div>"
      ],
      "text/plain": [
       "   ID     Score  Pred\n",
       "0   1  0.250000     0\n",
       "1   2  0.620000     1\n",
       "2   3  0.348998     0\n",
       "3   4  0.580000     1\n",
       "4   5  0.242500     0"
      ]
     },
     "execution_count": 348,
     "metadata": {},
     "output_type": "execute_result"
    }
   ],
   "source": [
    "predicciones = pd.concat([IDs, pd.DataFrame(y_test_pred_val)], axis = 1)\n",
    "predicciones = pd.concat([predicciones, pd.DataFrame(y_test_pred_val_2)], axis = 1) \n",
    "predicciones.columns = [\"ID\",\"Score\",\"Pred\"]\n",
    "predicciones.head()"
   ]
  },
  {
   "cell_type": "markdown",
   "id": "86d1cebb-dc11-4974-a127-c47a86ceaa27",
   "metadata": {},
   "source": [
    "#### Tenemos el dataframe de predicciones que consta de:\n",
    "- ID\n",
    "- Score del modelo (Riesgo de default), de manera tal que mientras mayor sea el número mas probabilidad hay de un \"inpago\".\n",
    "- Predicción del modelo:\n",
    "    - 0: NO se atrasará en el pago mas de 28 días\n",
    "    - 1: SI se atrasará en el pago mas de 28 días\n",
    "    - Estos valores se predicen de acuerdo al punto de corte 0.5"
   ]
  },
  {
   "cell_type": "code",
   "execution_count": 349,
   "id": "15aa900a-1c62-407f-b0ef-9595dcd34822",
   "metadata": {},
   "outputs": [],
   "source": [
    "predicciones.to_csv(\"Predicciones.csv\", index = False)"
   ]
  },
  {
   "cell_type": "markdown",
   "id": "2da50dba-39f0-4bfa-a894-1651e4aafd70",
   "metadata": {},
   "source": [
    "## 3.5 Cambiando el punto de corte, cual seleccionamos y por qué ?\n",
    "Retomaremos las predicciones de nuestro modelo seleccionado y probaremos cambiando el punto de corte, estas serán nuestras opciones para el punto de corte:\n",
    "- 0.4\n",
    "- 0.5\n",
    "- 0.6\n",
    "- 0.7\n",
    "- 0.8\n",
    "- 0.9"
   ]
  },
  {
   "cell_type": "code",
   "execution_count": 350,
   "id": "6d4acc78-4bea-473a-858b-fc0769b7fcfa",
   "metadata": {},
   "outputs": [],
   "source": [
    "df_predicciones = pd.DataFrame()\n",
    "df_predicciones['clasificacion_0.4'] = np.where(y_test_pred > 0.4, 1, 0)\n",
    "df_predicciones['clasificacion_0.6'] = np.where(y_test_pred > 0.6, 1, 0)\n",
    "df_predicciones['clasificacion_0.7'] = np.where(y_test_pred > 0.7, 1, 0)\n",
    "df_predicciones['clasificacion_0.8'] = np.where(y_test_pred > 0.8, 1, 0)\n",
    "df_predicciones['clasificacion_0.9'] = np.where(y_test_pred > 0.9, 1, 0)"
   ]
  },
  {
   "cell_type": "code",
   "execution_count": 351,
   "id": "1f1831b9-6043-4cb3-bb55-21493f3627b2",
   "metadata": {},
   "outputs": [
    {
     "name": "stdout",
     "output_type": "stream",
     "text": [
      "Accuracy con punto de corte 0.4: 0.8011513157894736\n",
      "Accuracy con punto de corte 0.5: 0.8666118421052631\n",
      "Accuracy con punto de corte 0.6: 0.8103618421052632\n",
      "Accuracy con punto de corte 0.7: 0.8166118421052632\n",
      "Accuracy con punto de corte 0.8: 0.8097039473684211\n",
      "Accuracy con punto de corte 0.9: 0.7991776315789474\n"
     ]
    }
   ],
   "source": [
    "bal_acc_score_04 = balanced_accuracy_score(y_test, df_predicciones['clasificacion_0.4'])\n",
    "print(f\"Accuracy con punto de corte 0.4: {bal_acc_score_04}\")\n",
    "\n",
    "print(f\"Accuracy con punto de corte 0.5: {bal_acc_score}\")\n",
    "\n",
    "bal_acc_score_06 = balanced_accuracy_score(y_test, df_predicciones['clasificacion_0.6'])\n",
    "print(f\"Accuracy con punto de corte 0.6: {bal_acc_score_06}\")\n",
    "\n",
    "bal_acc_score_07 = balanced_accuracy_score(y_test, df_predicciones['clasificacion_0.7'])\n",
    "print(f\"Accuracy con punto de corte 0.7: {bal_acc_score_07}\")\n",
    "\n",
    "bal_acc_score_08 = balanced_accuracy_score(y_test, df_predicciones['clasificacion_0.8'])\n",
    "print(f\"Accuracy con punto de corte 0.8: {bal_acc_score_08}\")\n",
    "\n",
    "bal_acc_score_09 = balanced_accuracy_score(y_test, df_predicciones['clasificacion_0.9'])\n",
    "print(f\"Accuracy con punto de corte 0.9: {bal_acc_score_09}\")"
   ]
  },
  {
   "cell_type": "markdown",
   "id": "144d93c7-957e-4557-a4ef-a5afa6e83d00",
   "metadata": {},
   "source": [
    "#### El mejor punto de corte fue el escogido: 0.5\n",
    "\n",
    "Según las diferentes pruebas que se hicieron ese fue el mejor punto de corte:\n",
    "- Accuracy con punto de corte 0.4: 0.8011513157894736 , aprox. 80.11%\n",
    "- Accuracy con punto de corte 0.5: 0.8666118421052631 , aprox. 86.66%\n",
    "- Accuracy con punto de corte 0.6: 0.8103618421052632 , aprox. 81.03%\n",
    "- Accuracy con punto de corte 0.7: 0.8166118421052632 , aprox. 81.66%\n",
    "- Accuracy con punto de corte 0.8: 0.8097039473684211 , aprox. 80.97%\n",
    "- Accuracy con punto de corte 0.9: 0.7991776315789474 , aprox. 79.91%\n",
    "\n",
    "Pero todo dependerá, si se quiere disminuir el riesgo de \"impago\" (default),\n",
    "entonces deberíamos disminuir el punto de corte, de esta forma los registros\n",
    "clasificados con el valor de 1 (que significan \"se atrasará en el pago mas de 28\n",
    "días\") serán mas, pero de esta manera se concederán menos créditos!!! Es una\n",
    "decisión a tomar muy interesante y que se pudiese alternar de acuerdo a como se\n",
    "mueva la balanza de pagos de la compañía y de los aciertos que obtenga el modelo.\n",
    "\n",
    "Si la cantidad de personas que terminan en \"default\" son menos de las que\n",
    "predice el modelo entonces podríamos incrementar el punto de corte y así clasificar\n",
    "a más personas como clientes \"APTOS\" para el crédito, si sucede lo contrario\n",
    "entonces habría que reducir el punto de corte porque estaría ocurriendo que más\n",
    "personas de las que predice el modelo estarían entrando en morosidad y\n",
    "tendríamos que disminuir la cantidad de personas \"APTAS\" que podrían caer en\n",
    "\"default\" (es solo una idea no probada por mí, dependerá de la política de la\n",
    "empresa, pero al menos tiene lógica).\n",
    "\n",
    "Teniendo en cuenta todo esto, hay que considerar las probabilidades generadas\n",
    "por el modelo de Machine LEarning como la seguridad que tiene este, desde su\n",
    "visión limitada, al realizar las predicciones y estas se podrían calibrar de acuerdo al\n",
    "punto de corte escogido."
   ]
  },
  {
   "cell_type": "markdown",
   "id": "065ab8ff-ef34-4ac8-a536-8d7e76c04495",
   "metadata": {},
   "source": [
    "## 3.6 Explicación de cómo pondrías este modelo en producción y que tendrías que estarle cuidando con el tiempo."
   ]
  },
  {
   "cell_type": "markdown",
   "id": "edfc5877-8099-4f10-b107-9b227f438578",
   "metadata": {},
   "source": [
    "- Para colocar el modelo en producción primero debemos guardar el modelo entrenado para luego cargarlo y ponerlo en trabajar, así como también construir un pipeline con los pasos necesarios para pre-procesar los registros que serán suministrados posteriormente para realizar las predicciones, efectivamente esos registros necesitan ser pre-procesados también.\n",
    "- Si trabajamos en la nube (por ejemplo AWS) se podría implementar con los servicios de AWS-Endpoint, se cargaría el modelo previamente guardado, se aplicaría el pipeline necesario y luego la puesta en marcha del End-point propiamente dicho programandolo adecuadamente.\n",
    "- Otra opción sería la puesta en marcha desde un proceso batch que continuamente \"escuche\" las peticiones que se le hagan para procesarlas y responder a través de un API, todo este desde la plataforma que mas convenga.\n",
    "- ¿ Que cuidar con el tiempo ?\n",
    "    - Los modelos de Machine Learning una vez entrenados no cambian, siguen entrenados con los mismos datos, pero lo que SI CAMBIA SON LOS DATOS QUE SE LE SUMINISTRAN PARA REALIZAR LAS PREDICCIONES!!!! SIEMPRE LO HACEN A TRAVÉS DEL TIEMPO!!! de manera tal que sería necesario el constante monitoreo y reentranimiento de estos modelos a fin de preservar o mejorar el accuracy de los mismos. "
   ]
  },
  {
   "cell_type": "code",
   "execution_count": null,
   "id": "d1e3d2ac-3be0-41a0-b679-aef969522276",
   "metadata": {},
   "outputs": [],
   "source": []
  }
 ],
 "metadata": {
  "kernelspec": {
   "display_name": "Python 3 (ipykernel)",
   "language": "python",
   "name": "python3"
  },
  "language_info": {
   "codemirror_mode": {
    "name": "ipython",
    "version": 3
   },
   "file_extension": ".py",
   "mimetype": "text/x-python",
   "name": "python",
   "nbconvert_exporter": "python",
   "pygments_lexer": "ipython3",
   "version": "3.7.12"
  }
 },
 "nbformat": 4,
 "nbformat_minor": 5
}
